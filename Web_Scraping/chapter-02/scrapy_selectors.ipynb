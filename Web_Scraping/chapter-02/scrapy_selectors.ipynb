{
 "cells": [
  {
   "cell_type": "code",
   "execution_count": 1,
   "source": [
    "from scrapy.selector import Selector\n",
    "import requests"
   ],
   "outputs": [],
   "metadata": {}
  },
  {
   "cell_type": "code",
   "execution_count": 2,
   "source": [
    "response = requests.get(\"http://stackoverflow.com/questions\")"
   ],
   "outputs": [],
   "metadata": {}
  },
  {
   "cell_type": "code",
   "execution_count": 3,
   "source": [
    "selector = Selector(response)\n",
    "selector"
   ],
   "outputs": [
    {
     "output_type": "execute_result",
     "data": {
      "text/plain": [
       "<Selector xpath=None data='<html class=\"html__responsive \">\\r\\n\\r\\n ...'>"
      ]
     },
     "metadata": {},
     "execution_count": 3
    }
   ],
   "metadata": {}
  },
  {
   "cell_type": "code",
   "execution_count": 4,
   "source": [
    "summaries = selector.xpath('//div[@class=\"summary\"]/h3')\n",
    "summaries[0:5]"
   ],
   "outputs": [
    {
     "output_type": "execute_result",
     "data": {
      "text/plain": [
       "[<Selector xpath='//div[@class=\"summary\"]/h3' data='<h3><a href=\"/questions/69168394/usin...'>,\n",
       " <Selector xpath='//div[@class=\"summary\"]/h3' data='<h3><a href=\"/questions/69168393/addi...'>,\n",
       " <Selector xpath='//div[@class=\"summary\"]/h3' data='<h3><a href=\"/questions/69168390/mult...'>,\n",
       " <Selector xpath='//div[@class=\"summary\"]/h3' data='<h3><a href=\"/questions/69168387/addi...'>,\n",
       " <Selector xpath='//div[@class=\"summary\"]/h3' data='<h3><a href=\"/questions/69168386/how-...'>]"
      ]
     },
     "metadata": {},
     "execution_count": 4
    }
   ],
   "metadata": {}
  },
  {
   "cell_type": "code",
   "execution_count": 5,
   "source": [
    "[x.extract() for x in summaries.xpath('a[@class=\"question-hyperlink\"]/text()')][:10]"
   ],
   "outputs": [
    {
     "output_type": "execute_result",
     "data": {
      "text/plain": [
       "['USING RECURSION IN SQL TO FIND THE LOCATION OF AN EVENT',\n",
       " 'Adding a property to an array of objects',\n",
       " 'Multiple WebSecurityConfigurerAdapter collapse',\n",
       " 'adding values of a list to every list in a lists of lists',\n",
       " 'How does Perfmon schedule without stop condition work?',\n",
       " 'Use a computer application as input for a unity mobile app',\n",
       " 'How to selectively substract a pair indexs from an array using python',\n",
       " 'Check if content wrap with div or not jquery',\n",
       " 'Hazelcast and jhipster registry timeout',\n",
       " 'Entityframework generation creates empty up down methods in migration class for non nullable to nullable property change']"
      ]
     },
     "metadata": {},
     "execution_count": 5
    }
   ],
   "metadata": {}
  }
 ],
 "metadata": {
  "orig_nbformat": 4,
  "language_info": {
   "name": "python",
   "version": "3.9.6",
   "mimetype": "text/x-python",
   "codemirror_mode": {
    "name": "ipython",
    "version": 3
   },
   "pygments_lexer": "ipython3",
   "nbconvert_exporter": "python",
   "file_extension": ".py"
  },
  "kernelspec": {
   "name": "python3",
   "display_name": "Python 3.9.6 64-bit"
  },
  "interpreter": {
   "hash": "e7370f93d1d0cde622a1f8e1c04877d8463912d04d973331ad4851f04de6915a"
  }
 },
 "nbformat": 4,
 "nbformat_minor": 2
}