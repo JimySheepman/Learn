{
 "cells": [
  {
   "cell_type": "code",
   "execution_count": 1,
   "source": [
    "import requests\n",
    "from bs4 import BeautifulSoup\n",
    "html = requests.get(\"http://localhost:8080/planets.html\").text\n",
    "soup = BeautifulSoup(html, \"lxml\")"
   ],
   "outputs": [],
   "metadata": {}
  },
  {
   "cell_type": "code",
   "execution_count": 2,
   "source": [
    "table = soup.find(\"table\")\n",
    "str(table)[:100]"
   ],
   "outputs": [
    {
     "output_type": "execute_result",
     "data": {
      "text/plain": [
       "'<table border=\"1\" id=\"planetsTable\">\\n<tr id=\"planetHeader\">\\n<th>\\n</th>\\n<th>\\n                    Name'"
      ]
     },
     "metadata": {},
     "execution_count": 2
    }
   ],
   "metadata": {}
  },
  {
   "cell_type": "code",
   "execution_count": 3,
   "source": [
    "[str(tr)[:50] for tr in table.findAll(\"tr\")]"
   ],
   "outputs": [
    {
     "output_type": "execute_result",
     "data": {
      "text/plain": [
       "['<tr id=\"planetHeader\">\\n<th>\\n</th>\\n<th>\\n           ',\n",
       " '<tr class=\"planet\" id=\"planet1\" name=\"Mercury\">\\n<t',\n",
       " '<tr class=\"planet\" id=\"planet2\" name=\"Venus\">\\n<td>',\n",
       " '<tr class=\"planet\" id=\"planet3\" name=\"Earth\">\\n<td>',\n",
       " '<tr class=\"planet\" id=\"planet4\" name=\"Mars\">\\n<td>\\n',\n",
       " '<tr class=\"planet\" id=\"planet5\" name=\"Jupiter\">\\n<t',\n",
       " '<tr class=\"planet\" id=\"planet6\" name=\"Saturn\">\\n<td',\n",
       " '<tr class=\"planet\" id=\"planet7\" name=\"Uranus\">\\n<td',\n",
       " '<tr class=\"planet\" id=\"planet8\" name=\"Neptune\">\\n<t',\n",
       " '<tr class=\"planet\" id=\"planet9\" name=\"Pluto\">\\n<td>']"
      ]
     },
     "metadata": {},
     "execution_count": 3
    }
   ],
   "metadata": {}
  },
  {
   "cell_type": "code",
   "execution_count": 4,
   "source": [
    "table.find(\"tr\", {\"id\": \"planet3\"})"
   ],
   "outputs": [
    {
     "output_type": "execute_result",
     "data": {
      "text/plain": [
       "<tr class=\"planet\" id=\"planet3\" name=\"Earth\">\n",
       "<td>\n",
       "<img src=\"img/earth-150x150.png\"/>\n",
       "</td>\n",
       "<td>\n",
       "                    Earth\n",
       "                </td>\n",
       "<td>\n",
       "                    5.97\n",
       "                </td>\n",
       "<td>\n",
       "                    12756\n",
       "                </td>\n",
       "<td>\n",
       "                    The name Earth comes from the Indo-European base 'er,'which produced the Germanic noun 'ertho,' and ultimately German 'erde,'\n",
       "                    Dutch 'aarde,' Scandinavian 'jord,' and English 'earth.' Related forms include Greek 'eraze,' meaning\n",
       "                    'on the ground,' and Welsh 'erw,' meaning 'a piece of land.'\n",
       "                </td>\n",
       "<td>\n",
       "<a href=\"https://en.wikipedia.org/wiki/Earth\">Wikipedia</a>\n",
       "</td>\n",
       "</tr>"
      ]
     },
     "metadata": {},
     "execution_count": 4
    }
   ],
   "metadata": {}
  },
  {
   "cell_type": "code",
   "execution_count": 5,
   "source": [
    "items = dict()\n",
    "planet_rows = table.findAll(\"tr\", {\"class\": \"planet\"})\n",
    "for i in planet_rows:\n",
    "    tds = i.findAll(\"td\")\n",
    "    items[tds[1].text.strip()] = tds[2].text.strip()"
   ],
   "outputs": [],
   "metadata": {}
  },
  {
   "cell_type": "code",
   "execution_count": 6,
   "source": [
    "items"
   ],
   "outputs": [
    {
     "output_type": "execute_result",
     "data": {
      "text/plain": [
       "{'Mercury': '0.330',\n",
       " 'Venus': '4.87',\n",
       " 'Earth': '5.97',\n",
       " 'Mars': '0.642',\n",
       " 'Jupiter': '1898',\n",
       " 'Saturn': '568',\n",
       " 'Uranus': '86.8',\n",
       " 'Neptune': '102',\n",
       " 'Pluto': '0.0146'}"
      ]
     },
     "metadata": {},
     "execution_count": 6
    }
   ],
   "metadata": {}
  },
  {
   "cell_type": "code",
   "execution_count": null,
   "source": [],
   "outputs": [],
   "metadata": {}
  }
 ],
 "metadata": {
  "orig_nbformat": 4,
  "language_info": {
   "name": "python",
   "version": "3.9.6",
   "mimetype": "text/x-python",
   "codemirror_mode": {
    "name": "ipython",
    "version": 3
   },
   "pygments_lexer": "ipython3",
   "nbconvert_exporter": "python",
   "file_extension": ".py"
  },
  "kernelspec": {
   "name": "python3",
   "display_name": "Python 3.9.6 64-bit"
  },
  "interpreter": {
   "hash": "e7370f93d1d0cde622a1f8e1c04877d8463912d04d973331ad4851f04de6915a"
  }
 },
 "nbformat": 4,
 "nbformat_minor": 2
}