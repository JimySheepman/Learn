{
 "cells": [
  {
   "cell_type": "code",
   "execution_count": 1,
   "source": [
    "import requests\n",
    "from bs4 import BeautifulSoup\n",
    "html = requests.get(\"http://localhost:8080/planets.html\").text\n",
    "soup = BeautifulSoup(html, \"lxml\")"
   ],
   "outputs": [],
   "metadata": {}
  },
  {
   "cell_type": "code",
   "execution_count": 2,
   "source": [
    "str(soup)[:1000]"
   ],
   "outputs": [
    {
     "output_type": "execute_result",
     "data": {
      "text/plain": [
       "'<html>\\n<head>\\n</head>\\n<body>\\n<div id=\"planets\">\\n<h1>Planetary data</h1>\\n<div id=\"content\">Here are some interesting facts about the planets in our solar system</div>\\n<p></p>\\n<table border=\"1\" id=\"planetsTable\">\\n<tr id=\"planetHeader\">\\n<th>\\n</th>\\n<th>\\n                    Name\\n                </th>\\n<th>\\n                    Mass (10^24kg)\\n                </th>\\n<th>\\n                    Diameter (km)\\n                </th>\\n<th>\\n                    How it got its Name\\n                </th>\\n<th>\\n                    More Info\\n                </th>\\n</tr>\\n<tr class=\"planet\" id=\"planet1\" name=\"Mercury\">\\n<td>\\n<img src=\"img/mercury-150x150.png\"/>\\n</td>\\n<td>\\n                    Mercury\\n                </td>\\n<td>\\n                    0.330\\n                </td>\\n<td>\\n                    4879\\n                </td>\\n<td>Named Mercurius by the Romans because it appears to move so swiftly.</td>\\n<td>\\n<a href=\"https://en.wikipedia.org/wiki/Mercury_(planet)\">Wikipedia</a>\\n</td>\\n</tr>\\n<tr class=\"planet\" id=\"plane'"
      ]
     },
     "metadata": {},
     "execution_count": 2
    }
   ],
   "metadata": {}
  },
  {
   "cell_type": "code",
   "execution_count": 3,
   "source": [
    "str(soup.html.body.div.table)[:200]"
   ],
   "outputs": [
    {
     "output_type": "execute_result",
     "data": {
      "text/plain": [
       "'<table border=\"1\" id=\"planetsTable\">\\n<tr id=\"planetHeader\">\\n<th>\\n</th>\\n<th>\\n                    Name\\n                </th>\\n<th>\\n                    Mass (10^24kg)\\n                </th>\\n<th>\\n          '"
      ]
     },
     "metadata": {},
     "execution_count": 3
    }
   ],
   "metadata": {}
  },
  {
   "cell_type": "code",
   "execution_count": 4,
   "source": [
    "soup.html.body.div.table.children"
   ],
   "outputs": [
    {
     "output_type": "execute_result",
     "data": {
      "text/plain": [
       "<list_iterator at 0x7f0a4c0f2ee0>"
      ]
     },
     "metadata": {},
     "execution_count": 4
    }
   ],
   "metadata": {}
  },
  {
   "cell_type": "code",
   "execution_count": 5,
   "source": [
    "[str(c)[:45] for c in soup.html.body.div.table.children]"
   ],
   "outputs": [
    {
     "output_type": "execute_result",
     "data": {
      "text/plain": [
       "['\\n',\n",
       " '<tr id=\"planetHeader\">\\n<th>\\n</th>\\n<th>\\n      ',\n",
       " '\\n',\n",
       " '<tr class=\"planet\" id=\"planet1\" name=\"Mercury',\n",
       " '\\n',\n",
       " '<tr class=\"planet\" id=\"planet2\" name=\"Venus\">',\n",
       " '\\n',\n",
       " '<tr class=\"planet\" id=\"planet3\" name=\"Earth\">',\n",
       " '\\n',\n",
       " '<tr class=\"planet\" id=\"planet4\" name=\"Mars\">\\n',\n",
       " '\\n',\n",
       " '<tr class=\"planet\" id=\"planet5\" name=\"Jupiter',\n",
       " '\\n',\n",
       " '<tr class=\"planet\" id=\"planet6\" name=\"Saturn\"',\n",
       " '\\n',\n",
       " '<tr class=\"planet\" id=\"planet7\" name=\"Uranus\"',\n",
       " '\\n',\n",
       " '<tr class=\"planet\" id=\"planet8\" name=\"Neptune',\n",
       " '\\n',\n",
       " '<tr class=\"planet\" id=\"planet9\" name=\"Pluto\">',\n",
       " '\\n']"
      ]
     },
     "metadata": {},
     "execution_count": 5
    }
   ],
   "metadata": {}
  },
  {
   "cell_type": "code",
   "execution_count": 6,
   "source": [
    "soup.html.body.div.table.tr"
   ],
   "outputs": [
    {
     "output_type": "execute_result",
     "data": {
      "text/plain": [
       "<tr id=\"planetHeader\">\n",
       "<th>\n",
       "</th>\n",
       "<th>\n",
       "                    Name\n",
       "                </th>\n",
       "<th>\n",
       "                    Mass (10^24kg)\n",
       "                </th>\n",
       "<th>\n",
       "                    Diameter (km)\n",
       "                </th>\n",
       "<th>\n",
       "                    How it got its Name\n",
       "                </th>\n",
       "<th>\n",
       "                    More Info\n",
       "                </th>\n",
       "</tr>"
      ]
     },
     "metadata": {},
     "execution_count": 6
    }
   ],
   "metadata": {}
  },
  {
   "cell_type": "code",
   "execution_count": 7,
   "source": [
    "str(soup.html.body.div.table.tr.parent)[:200]"
   ],
   "outputs": [
    {
     "output_type": "execute_result",
     "data": {
      "text/plain": [
       "'<table border=\"1\" id=\"planetsTable\">\\n<tr id=\"planetHeader\">\\n<th>\\n</th>\\n<th>\\n                    Name\\n                </th>\\n<th>\\n                    Mass (10^24kg)\\n                </th>\\n<th>\\n          '"
      ]
     },
     "metadata": {},
     "execution_count": 7
    }
   ],
   "metadata": {}
  },
  {
   "cell_type": "code",
   "execution_count": null,
   "source": [],
   "outputs": [],
   "metadata": {}
  }
 ],
 "metadata": {
  "orig_nbformat": 4,
  "language_info": {
   "name": "python",
   "version": "3.9.6",
   "mimetype": "text/x-python",
   "codemirror_mode": {
    "name": "ipython",
    "version": 3
   },
   "pygments_lexer": "ipython3",
   "nbconvert_exporter": "python",
   "file_extension": ".py"
  },
  "kernelspec": {
   "name": "python3",
   "display_name": "Python 3.9.6 64-bit"
  },
  "interpreter": {
   "hash": "e7370f93d1d0cde622a1f8e1c04877d8463912d04d973331ad4851f04de6915a"
  }
 },
 "nbformat": 4,
 "nbformat_minor": 2
}