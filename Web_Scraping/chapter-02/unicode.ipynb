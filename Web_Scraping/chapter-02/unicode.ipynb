{
 "cells": [
  {
   "cell_type": "code",
   "execution_count": 1,
   "source": [
    "from urllib.request import urlopen\n",
    "\n",
    "page = urlopen(\"http://localhost:8080/unicode.html\")\n",
    "content = page.read()\n",
    "content[840:1280]"
   ],
   "outputs": [
    {
     "output_type": "execute_result",
     "data": {
      "text/plain": [
       "b'><strong>Cyrillic</strong> &nbsp; U+0400 \\xe2\\x80\\x93 U+04FF &nbsp; (1024\\xe2\\x80\\x931279)</p>\\n    <table class=\"unicode\">\\n        <tbody>\\n            <tr valign=\"top\">\\n                <td width=\"50\">&nbsp;</td>\\n                <td class=\"b\" width=\"50\">\\xd0\\x89</td>\\n                <td class=\"b\" width=\"50\">\\xd0\\xa9</td>\\n                <td class=\"b\" width=\"50\">\\xd1\\x89</td>\\n                <td class=\"b\" width=\"50\">\\xd3\\x83</td>\\n            </tr>\\n        </tbody>\\n    </table>\\n\\n '"
      ]
     },
     "metadata": {},
     "execution_count": 1
    }
   ],
   "metadata": {}
  },
  {
   "cell_type": "code",
   "execution_count": 2,
   "source": [
    "str(content, \"utf-8\")[837:1270]"
   ],
   "outputs": [
    {
     "output_type": "execute_result",
     "data": {
      "text/plain": [
       "'<strong>Cyrillic</strong> &nbsp; U+0400 – U+04FF &nbsp; (1024–1279)</p>\\n    <table class=\"unicode\">\\n        <tbody>\\n            <tr valign=\"top\">\\n                <td width=\"50\">&nbsp;</td>\\n                <td class=\"b\" width=\"50\">Љ</td>\\n                <td class=\"b\" width=\"50\">Щ</td>\\n                <td class=\"b\" width=\"50\">щ</td>\\n                <td class=\"b\" width=\"50\">Ӄ</td>\\n            </tr>\\n        </tbody>\\n    </table>\\n\\n   '"
      ]
     },
     "metadata": {},
     "execution_count": 2
    }
   ],
   "metadata": {}
  }
 ],
 "metadata": {
  "orig_nbformat": 4,
  "language_info": {
   "name": "python",
   "version": "3.9.6",
   "mimetype": "text/x-python",
   "codemirror_mode": {
    "name": "ipython",
    "version": 3
   },
   "pygments_lexer": "ipython3",
   "nbconvert_exporter": "python",
   "file_extension": ".py"
  },
  "kernelspec": {
   "name": "python3",
   "display_name": "Python 3.9.6 64-bit"
  },
  "interpreter": {
   "hash": "e7370f93d1d0cde622a1f8e1c04877d8463912d04d973331ad4851f04de6915a"
  }
 },
 "nbformat": 4,
 "nbformat_minor": 2
}