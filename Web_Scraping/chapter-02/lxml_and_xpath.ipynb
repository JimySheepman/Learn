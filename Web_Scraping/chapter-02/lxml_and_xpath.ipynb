{
 "cells": [
  {
   "cell_type": "code",
   "execution_count": 1,
   "source": [
    "from lxml import html\n",
    "import requests\n",
    "\n",
    "page_html = requests.get(\"http://localhost:8080/planets.html\").text"
   ],
   "outputs": [],
   "metadata": {}
  },
  {
   "cell_type": "code",
   "execution_count": 2,
   "source": [
    "tree = html.fromstring(page_html)"
   ],
   "outputs": [],
   "metadata": {}
  },
  {
   "cell_type": "code",
   "execution_count": 3,
   "source": [
    "[tr for tr in tree.xpath(\"/html/body/div/table/tr\")]"
   ],
   "outputs": [
    {
     "output_type": "execute_result",
     "data": {
      "text/plain": [
       "[<Element tr at 0x7f3dd2d6ff40>,\n",
       " <Element tr at 0x7f3dd2d6ff90>,\n",
       " <Element tr at 0x7f3dd2d81040>,\n",
       " <Element tr at 0x7f3dd2d81090>,\n",
       " <Element tr at 0x7f3dd2d810e0>,\n",
       " <Element tr at 0x7f3dd2d81130>,\n",
       " <Element tr at 0x7f3dd2d81180>,\n",
       " <Element tr at 0x7f3dd2d811d0>,\n",
       " <Element tr at 0x7f3dd2d81220>,\n",
       " <Element tr at 0x7f3dd2d81270>,\n",
       " <Element tr at 0x7f3dd2d812c0>]"
      ]
     },
     "metadata": {},
     "execution_count": 3
    }
   ],
   "metadata": {}
  },
  {
   "cell_type": "code",
   "execution_count": 4,
   "source": [
    "from lxml import etree\n",
    "\n",
    "[etree.tostring(tr)[:50] for tr in tree.xpath(\"/html/body/div/table/tr\")]"
   ],
   "outputs": [
    {
     "output_type": "execute_result",
     "data": {
      "text/plain": [
       "[b'<tr id=\"planetHeader\">\\n                <th>\\n      ',\n",
       " b'<tr id=\"planet1\" class=\"planet\" name=\"Mercury\">\\n  ',\n",
       " b'<tr id=\"planet2\" class=\"planet\" name=\"Venus\">\\n    ',\n",
       " b'<tr id=\"planet3\" class=\"planet\" name=\"Earth\">\\n    ',\n",
       " b'<tr id=\"planet4\" class=\"planet\" name=\"Mars\">\\n     ',\n",
       " b'<tr id=\"planet5\" class=\"planet\" name=\"Jupiter\">\\n  ',\n",
       " b'<tr id=\"planet6\" class=\"planet\" name=\"Saturn\">\\n   ',\n",
       " b'<tr id=\"planet7\" class=\"planet\" name=\"Uranus\">\\n   ',\n",
       " b'<tr id=\"planet8\" class=\"planet\" name=\"Neptune\">\\n  ',\n",
       " b'<tr id=\"planet9\" class=\"planet\" name=\"Pluto\">\\n    ',\n",
       " b'<tr id=\"footerRow\">\\n                <td>\\n         ']"
      ]
     },
     "metadata": {},
     "execution_count": 4
    }
   ],
   "metadata": {}
  },
  {
   "cell_type": "code",
   "execution_count": 5,
   "source": [
    "[etree.tostring(tr)[:50] for tr in tree.xpath(\"/html/body/div/table/tr[@class='planet']\")]"
   ],
   "outputs": [
    {
     "output_type": "execute_result",
     "data": {
      "text/plain": [
       "[b'<tr id=\"planet1\" class=\"planet\" name=\"Mercury\">\\n  ',\n",
       " b'<tr id=\"planet2\" class=\"planet\" name=\"Venus\">\\n    ',\n",
       " b'<tr id=\"planet3\" class=\"planet\" name=\"Earth\">\\n    ',\n",
       " b'<tr id=\"planet4\" class=\"planet\" name=\"Mars\">\\n     ',\n",
       " b'<tr id=\"planet5\" class=\"planet\" name=\"Jupiter\">\\n  ',\n",
       " b'<tr id=\"planet6\" class=\"planet\" name=\"Saturn\">\\n   ',\n",
       " b'<tr id=\"planet7\" class=\"planet\" name=\"Uranus\">\\n   ',\n",
       " b'<tr id=\"planet8\" class=\"planet\" name=\"Neptune\">\\n  ',\n",
       " b'<tr id=\"planet9\" class=\"planet\" name=\"Pluto\">\\n    ']"
      ]
     },
     "metadata": {},
     "execution_count": 5
    }
   ],
   "metadata": {}
  },
  {
   "cell_type": "code",
   "execution_count": 6,
   "source": [
    "[etree.tostring(tr)[:50] for tr in tree.xpath(\"/html/body/div[1]/table/tr\")]"
   ],
   "outputs": [
    {
     "output_type": "execute_result",
     "data": {
      "text/plain": [
       "[b'<tr id=\"planetHeader\">\\n                <th>\\n      ',\n",
       " b'<tr id=\"planet1\" class=\"planet\" name=\"Mercury\">\\n  ',\n",
       " b'<tr id=\"planet2\" class=\"planet\" name=\"Venus\">\\n    ',\n",
       " b'<tr id=\"planet3\" class=\"planet\" name=\"Earth\">\\n    ',\n",
       " b'<tr id=\"planet4\" class=\"planet\" name=\"Mars\">\\n     ',\n",
       " b'<tr id=\"planet5\" class=\"planet\" name=\"Jupiter\">\\n  ',\n",
       " b'<tr id=\"planet6\" class=\"planet\" name=\"Saturn\">\\n   ',\n",
       " b'<tr id=\"planet7\" class=\"planet\" name=\"Uranus\">\\n   ',\n",
       " b'<tr id=\"planet8\" class=\"planet\" name=\"Neptune\">\\n  ',\n",
       " b'<tr id=\"planet9\" class=\"planet\" name=\"Pluto\">\\n    ']"
      ]
     },
     "metadata": {},
     "execution_count": 6
    }
   ],
   "metadata": {}
  },
  {
   "cell_type": "code",
   "execution_count": 7,
   "source": [
    "[etree.tostring(tr)[:50] for tr in tree.xpath(\"/html/body/div[2]/table/tr\")]"
   ],
   "outputs": [
    {
     "output_type": "execute_result",
     "data": {
      "text/plain": [
       "[b'<tr id=\"footerRow\">\\n                <td>\\n         ']"
      ]
     },
     "metadata": {},
     "execution_count": 7
    }
   ],
   "metadata": {}
  },
  {
   "cell_type": "code",
   "execution_count": 8,
   "source": [
    "[etree.tostring(tr)[:50] for tr in tree.xpath(\"/html/body/div[@id='planets']/table/tr\")]"
   ],
   "outputs": [
    {
     "output_type": "execute_result",
     "data": {
      "text/plain": [
       "[b'<tr id=\"planetHeader\">\\n                <th>\\n      ',\n",
       " b'<tr id=\"planet1\" class=\"planet\" name=\"Mercury\">\\n  ',\n",
       " b'<tr id=\"planet2\" class=\"planet\" name=\"Venus\">\\n    ',\n",
       " b'<tr id=\"planet3\" class=\"planet\" name=\"Earth\">\\n    ',\n",
       " b'<tr id=\"planet4\" class=\"planet\" name=\"Mars\">\\n     ',\n",
       " b'<tr id=\"planet5\" class=\"planet\" name=\"Jupiter\">\\n  ',\n",
       " b'<tr id=\"planet6\" class=\"planet\" name=\"Saturn\">\\n   ',\n",
       " b'<tr id=\"planet7\" class=\"planet\" name=\"Uranus\">\\n   ',\n",
       " b'<tr id=\"planet8\" class=\"planet\" name=\"Neptune\">\\n  ',\n",
       " b'<tr id=\"planet9\" class=\"planet\" name=\"Pluto\">\\n    ']"
      ]
     },
     "metadata": {},
     "execution_count": 8
    }
   ],
   "metadata": {}
  },
  {
   "cell_type": "code",
   "execution_count": 9,
   "source": [
    "[etree.tostring(tr)[:50] for tr in tree.xpath(\"/html/body/div[@id='planets']/table/tr[@id!='planetHeader']\")]"
   ],
   "outputs": [
    {
     "output_type": "execute_result",
     "data": {
      "text/plain": [
       "[b'<tr id=\"planet1\" class=\"planet\" name=\"Mercury\">\\n  ',\n",
       " b'<tr id=\"planet2\" class=\"planet\" name=\"Venus\">\\n    ',\n",
       " b'<tr id=\"planet3\" class=\"planet\" name=\"Earth\">\\n    ',\n",
       " b'<tr id=\"planet4\" class=\"planet\" name=\"Mars\">\\n     ',\n",
       " b'<tr id=\"planet5\" class=\"planet\" name=\"Jupiter\">\\n  ',\n",
       " b'<tr id=\"planet6\" class=\"planet\" name=\"Saturn\">\\n   ',\n",
       " b'<tr id=\"planet7\" class=\"planet\" name=\"Uranus\">\\n   ',\n",
       " b'<tr id=\"planet8\" class=\"planet\" name=\"Neptune\">\\n  ',\n",
       " b'<tr id=\"planet9\" class=\"planet\" name=\"Pluto\">\\n    ']"
      ]
     },
     "metadata": {},
     "execution_count": 9
    }
   ],
   "metadata": {}
  },
  {
   "cell_type": "code",
   "execution_count": 10,
   "source": [
    "[etree.tostring(tr)[:50] for tr in tree.xpath(\"/html/body/div[@id='planets']/table/tr[position() > 1]\")]"
   ],
   "outputs": [
    {
     "output_type": "execute_result",
     "data": {
      "text/plain": [
       "[b'<tr id=\"planet1\" class=\"planet\" name=\"Mercury\">\\n  ',\n",
       " b'<tr id=\"planet2\" class=\"planet\" name=\"Venus\">\\n    ',\n",
       " b'<tr id=\"planet3\" class=\"planet\" name=\"Earth\">\\n    ',\n",
       " b'<tr id=\"planet4\" class=\"planet\" name=\"Mars\">\\n     ',\n",
       " b'<tr id=\"planet5\" class=\"planet\" name=\"Jupiter\">\\n  ',\n",
       " b'<tr id=\"planet6\" class=\"planet\" name=\"Saturn\">\\n   ',\n",
       " b'<tr id=\"planet7\" class=\"planet\" name=\"Uranus\">\\n   ',\n",
       " b'<tr id=\"planet8\" class=\"planet\" name=\"Neptune\">\\n  ',\n",
       " b'<tr id=\"planet9\" class=\"planet\" name=\"Pluto\">\\n    ']"
      ]
     },
     "metadata": {},
     "execution_count": 10
    }
   ],
   "metadata": {}
  },
  {
   "cell_type": "code",
   "execution_count": 11,
   "source": [
    "[etree.tostring(tr)[:50] for tr in tree.xpath(\"/html/body/div/table/tr/parent::*\")]"
   ],
   "outputs": [
    {
     "output_type": "execute_result",
     "data": {
      "text/plain": [
       "[b'<table id=\"planetsTable\" border=\"1\">\\n            <',\n",
       " b'<table id=\"footerTable\">\\n            <tr id=\"foote']"
      ]
     },
     "metadata": {},
     "execution_count": 11
    }
   ],
   "metadata": {}
  },
  {
   "cell_type": "code",
   "execution_count": 12,
   "source": [
    "[etree.tostring(tr)[:50] for tr in tree.xpath(\"/html/body/div/table/tr/parent::table\")]"
   ],
   "outputs": [
    {
     "output_type": "execute_result",
     "data": {
      "text/plain": [
       "[b'<table id=\"planetsTable\" border=\"1\">\\n            <',\n",
       " b'<table id=\"footerTable\">\\n            <tr id=\"foote']"
      ]
     },
     "metadata": {},
     "execution_count": 12
    }
   ],
   "metadata": {}
  },
  {
   "cell_type": "code",
   "execution_count": 13,
   "source": [
    "[etree.tostring(tr)[:50] for tr in tree.xpath(\"/html/body/div/table/tr/parent::table[@id='footerTable']\")]"
   ],
   "outputs": [
    {
     "output_type": "execute_result",
     "data": {
      "text/plain": [
       "[b'<table id=\"footerTable\">\\n            <tr id=\"foote']"
      ]
     },
     "metadata": {},
     "execution_count": 13
    }
   ],
   "metadata": {}
  },
  {
   "cell_type": "code",
   "execution_count": null,
   "source": [
    "[etree.tostring(tr)[:50] for tr in\n",
    "tree.xpath(\"/html/body/div/table/tr/..\")]\n"
   ],
   "outputs": [],
   "metadata": {}
  },
  {
   "cell_type": "code",
   "execution_count": 14,
   "source": [
    "mass = tree.xpath(\"/html/body/div[1]/table/tr[@name='Earth']/td[3]/text()[1]\")[0].strip()\n",
    "mass"
   ],
   "outputs": [
    {
     "output_type": "execute_result",
     "data": {
      "text/plain": [
       "'5.97'"
      ]
     },
     "metadata": {},
     "execution_count": 14
    }
   ],
   "metadata": {}
  }
 ],
 "metadata": {
  "orig_nbformat": 4,
  "language_info": {
   "name": "python",
   "version": "3.9.6",
   "mimetype": "text/x-python",
   "codemirror_mode": {
    "name": "ipython",
    "version": 3
   },
   "pygments_lexer": "ipython3",
   "nbconvert_exporter": "python",
   "file_extension": ".py"
  },
  "kernelspec": {
   "name": "python3",
   "display_name": "Python 3.9.6 64-bit"
  },
  "interpreter": {
   "hash": "e7370f93d1d0cde622a1f8e1c04877d8463912d04d973331ad4851f04de6915a"
  }
 },
 "nbformat": 4,
 "nbformat_minor": 2
}