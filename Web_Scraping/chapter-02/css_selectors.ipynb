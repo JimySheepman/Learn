{
 "cells": [
  {
   "cell_type": "code",
   "execution_count": 1,
   "source": [
    "from lxml import html\n",
    "import requests\n",
    "\n",
    "page_html = requests.get(\"http://localhost:8080/planets.html\").text\n",
    "tree = html.fromstring(page_html)"
   ],
   "outputs": [],
   "metadata": {}
  },
  {
   "cell_type": "code",
   "execution_count": 2,
   "source": [
    "[(v, v.xpath(\"@name\")) for v in tree.cssselect('tr.planet')]"
   ],
   "outputs": [
    {
     "output_type": "execute_result",
     "data": {
      "text/plain": [
       "[(<Element tr at 0x7f2c07f9ee00>, ['Mercury']),\n",
       " (<Element tr at 0x7f2c07fb2090>, ['Venus']),\n",
       " (<Element tr at 0x7f2c07fb2270>, ['Earth']),\n",
       " (<Element tr at 0x7f2c07f53b30>, ['Mars']),\n",
       " (<Element tr at 0x7f2c07f53e50>, ['Jupiter']),\n",
       " (<Element tr at 0x7f2c07f53ea0>, ['Saturn']),\n",
       " (<Element tr at 0x7f2c07f53ef0>, ['Uranus']),\n",
       " (<Element tr at 0x7f2c07f53f40>, ['Neptune']),\n",
       " (<Element tr at 0x7f2c07f53f90>, ['Pluto'])]"
      ]
     },
     "metadata": {},
     "execution_count": 2
    }
   ],
   "metadata": {}
  },
  {
   "cell_type": "code",
   "execution_count": 3,
   "source": [
    "tr = tree.cssselect(\"tr#planet3\")\n",
    "tr[0], tr[0].xpath(\"./td[2]/text()\")[0].strip()"
   ],
   "outputs": [
    {
     "output_type": "execute_result",
     "data": {
      "text/plain": [
       "(<Element tr at 0x7f2c07fb2270>, 'Earth')"
      ]
     },
     "metadata": {},
     "execution_count": 3
    }
   ],
   "metadata": {}
  },
  {
   "cell_type": "code",
   "execution_count": 4,
   "source": [
    "tr = tree.cssselect(\"tr[name='Pluto']\")\n",
    "tr[0], tr[0].xpath(\"td[2]/text()\")[0].strip()"
   ],
   "outputs": [
    {
     "output_type": "execute_result",
     "data": {
      "text/plain": [
       "(<Element tr at 0x7f2c07f53f90>, 'Pluto')"
      ]
     },
     "metadata": {},
     "execution_count": 4
    }
   ],
   "metadata": {}
  }
 ],
 "metadata": {
  "orig_nbformat": 4,
  "language_info": {
   "name": "python",
   "version": "3.9.6",
   "mimetype": "text/x-python",
   "codemirror_mode": {
    "name": "ipython",
    "version": 3
   },
   "pygments_lexer": "ipython3",
   "nbconvert_exporter": "python",
   "file_extension": ".py"
  },
  "kernelspec": {
   "name": "python3",
   "display_name": "Python 3.9.6 64-bit"
  },
  "interpreter": {
   "hash": "e7370f93d1d0cde622a1f8e1c04877d8463912d04d973331ad4851f04de6915a"
  }
 },
 "nbformat": 4,
 "nbformat_minor": 2
}