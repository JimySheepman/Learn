{
 "cells": [
  {
   "cell_type": "code",
   "execution_count": 1,
   "source": [
    "from sklearn import datasets\n",
    "from sklearn.naive_bayes import GaussianNB\n",
    "# Load data\n",
    "iris = datasets.load_iris()\n",
    "features = iris.data\n",
    "target = iris.target\n",
    "# Create Gaussian Naive Bayes object\n",
    "classifer = GaussianNB()\n",
    "# Train model\n",
    "model = classifer.fit(features, target)"
   ],
   "outputs": [],
   "metadata": {}
  },
  {
   "cell_type": "code",
   "execution_count": 2,
   "source": [
    "# Create new observation\n",
    "new_observation = [[ 4, 4, 4, 0.4]]\n",
    "# Predict class\n",
    "model.predict(new_observation)"
   ],
   "outputs": [
    {
     "output_type": "execute_result",
     "data": {
      "text/plain": [
       "array([1])"
      ]
     },
     "metadata": {},
     "execution_count": 2
    }
   ],
   "metadata": {}
  },
  {
   "cell_type": "code",
   "execution_count": 3,
   "source": [
    "# Create Gaussian Naive Bayes object with prior probabilities of each class\n",
    "clf = GaussianNB(priors=[0.25, 0.25, 0.5])\n",
    "# Train model\n",
    "model = classifer.fit(features, target)"
   ],
   "outputs": [],
   "metadata": {}
  },
  {
   "cell_type": "code",
   "execution_count": 4,
   "source": [
    "import numpy as np\n",
    "from sklearn.naive_bayes import MultinomialNB\n",
    "from sklearn.feature_extraction.text import CountVectorizer\n",
    "# Create text\n",
    "text_data = np.array(['I love Brazil. Brazil!','Brazil is best','Germany beats both'])\n",
    "# Create bag of words\n",
    "count = CountVectorizer()\n",
    "bag_of_words = count.fit_transform(text_data)\n",
    "# Create feature matrix\n",
    "features = bag_of_words.toarray()\n",
    "# Create target vector\n",
    "target = np.array([0,0,1])\n",
    "# Create multinomial naive Bayes object with prior probabilities of each class\n",
    "classifer = MultinomialNB(class_prior=[0.25, 0.5])\n",
    "# Train model\n",
    "model = classifer.fit(features, target)"
   ],
   "outputs": [],
   "metadata": {}
  },
  {
   "cell_type": "code",
   "execution_count": 5,
   "source": [
    "# Create new observation\n",
    "new_observation = [[0, 0, 0, 1, 0, 1, 0]]\n",
    "# Predict new observation's class\n",
    "model.predict(new_observation)"
   ],
   "outputs": [
    {
     "output_type": "execute_result",
     "data": {
      "text/plain": [
       "array([0])"
      ]
     },
     "metadata": {},
     "execution_count": 5
    }
   ],
   "metadata": {}
  },
  {
   "cell_type": "code",
   "execution_count": 6,
   "source": [
    "import numpy as np\n",
    "from sklearn.naive_bayes import BernoulliNB\n",
    "# Create three binary features\n",
    "features = np.random.randint(2, size=(100, 3))\n",
    "# Create a binary target vector\n",
    "target = np.random.randint(2, size=(100, 1)).ravel()\n",
    "# Create Bernoulli Naive Bayes object with prior probabilities of each class\n",
    "classifer = BernoulliNB(class_prior=[0.25, 0.5])\n",
    "# Train model\n",
    "model = classifer.fit(features, target)\n",
    "model_uniform_prior = BernoulliNB(class_prior=None, fit_prior=True)"
   ],
   "outputs": [],
   "metadata": {}
  },
  {
   "cell_type": "code",
   "execution_count": 7,
   "source": [
    "from sklearn import datasets\n",
    "from sklearn.naive_bayes import GaussianNB\n",
    "from sklearn.calibration import CalibratedClassifierCV\n",
    "# Load data\n",
    "iris = datasets.load_iris()\n",
    "features = iris.data\n",
    "target = iris.target\n",
    "# Create Gaussian Naive Bayes object\n",
    "classifer = GaussianNB()\n",
    "# Create calibrated cross-validation with sigmoid calibration\n",
    "classifer_sigmoid = CalibratedClassifierCV(classifer, cv=2, method='sigmoid')\n",
    "# Calibrate probabilities\n",
    "classifer_sigmoid.fit(features, target)\n",
    "# Create new observation\n",
    "new_observation = [[ 2.6, 2.6, 2.6, 0.4]]\n",
    "# View calibrated probabilities\n",
    "classifer_sigmoid.predict_proba(new_observation)"
   ],
   "outputs": [
    {
     "output_type": "execute_result",
     "data": {
      "text/plain": [
       "array([[0.31859969, 0.63663466, 0.04476565]])"
      ]
     },
     "metadata": {},
     "execution_count": 7
    }
   ],
   "metadata": {}
  },
  {
   "cell_type": "code",
   "execution_count": 8,
   "source": [
    "# Train a Gaussian naive Bayes then predict class probabilities\n",
    "classifer.fit(features, target).predict_proba(new_observation)"
   ],
   "outputs": [
    {
     "output_type": "execute_result",
     "data": {
      "text/plain": [
       "array([[2.31548432e-04, 9.99768128e-01, 3.23532277e-07]])"
      ]
     },
     "metadata": {},
     "execution_count": 8
    }
   ],
   "metadata": {}
  },
  {
   "cell_type": "code",
   "execution_count": 9,
   "source": [
    "# View calibrated probabilities\n",
    "classifer_sigmoid.predict_proba(new_observation)"
   ],
   "outputs": [
    {
     "output_type": "execute_result",
     "data": {
      "text/plain": [
       "array([[0.31859969, 0.63663466, 0.04476565]])"
      ]
     },
     "metadata": {},
     "execution_count": 9
    }
   ],
   "metadata": {}
  }
 ],
 "metadata": {
  "orig_nbformat": 4,
  "language_info": {
   "name": "python",
   "version": "3.9.7",
   "mimetype": "text/x-python",
   "codemirror_mode": {
    "name": "ipython",
    "version": 3
   },
   "pygments_lexer": "ipython3",
   "nbconvert_exporter": "python",
   "file_extension": ".py"
  },
  "kernelspec": {
   "name": "python3",
   "display_name": "Python 3.9.7 64-bit"
  },
  "interpreter": {
   "hash": "e7370f93d1d0cde622a1f8e1c04877d8463912d04d973331ad4851f04de6915a"
  }
 },
 "nbformat": 4,
 "nbformat_minor": 2
}