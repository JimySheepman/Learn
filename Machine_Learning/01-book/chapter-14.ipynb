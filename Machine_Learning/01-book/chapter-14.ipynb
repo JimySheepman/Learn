{
 "cells": [
  {
   "cell_type": "code",
   "execution_count": 10,
   "source": [
    "from sklearn.tree import DecisionTreeClassifier\n",
    "from sklearn import datasets\n",
    "# Load data\n",
    "iris = datasets.load_iris()\n",
    "features = iris.data\n",
    "target = iris.target\n",
    "# Create decision tree classifier object\n",
    "decisiontree = DecisionTreeClassifier(random_state=0)\n",
    "# Train model\n",
    "model = decisiontree.fit(features, target)"
   ],
   "outputs": [],
   "metadata": {}
  },
  {
   "cell_type": "code",
   "execution_count": 11,
   "source": [
    "# Make new observation\n",
    "observation = [[ 5, 4, 3, 2]]\n",
    "# Predict observation's class\n",
    "model.predict(observation)"
   ],
   "outputs": [
    {
     "output_type": "execute_result",
     "data": {
      "text/plain": [
       "array([1])"
      ]
     },
     "metadata": {},
     "execution_count": 11
    }
   ],
   "metadata": {}
  },
  {
   "cell_type": "code",
   "execution_count": 12,
   "source": [
    "# View predicted class probabilities for the three classes\n",
    "model.predict_proba(observation)"
   ],
   "outputs": [
    {
     "output_type": "execute_result",
     "data": {
      "text/plain": [
       "array([[0., 1., 0.]])"
      ]
     },
     "metadata": {},
     "execution_count": 12
    }
   ],
   "metadata": {}
  },
  {
   "cell_type": "code",
   "execution_count": 13,
   "source": [
    "# Create decision tree classifier object using entropy\n",
    "decisiontree_entropy = DecisionTreeClassifier(criterion='entropy', random_state=0)\n",
    "# Train model\n",
    "model_entropy = decisiontree_entropy.fit(features, target)"
   ],
   "outputs": [],
   "metadata": {}
  },
  {
   "cell_type": "code",
   "execution_count": 14,
   "source": [
    "from sklearn.tree import DecisionTreeRegressor\n",
    "from sklearn import datasets\n",
    "# Load data with only two features\n",
    "boston = datasets.load_boston()\n",
    "features = boston.data[:,0:2]\n",
    "target = boston.target\n",
    "# Create decision tree classifier object\n",
    "decisiontree = DecisionTreeRegressor(random_state=0)\n",
    "# Train model\n",
    "model = decisiontree.fit(features, target)"
   ],
   "outputs": [],
   "metadata": {}
  },
  {
   "cell_type": "code",
   "execution_count": 15,
   "source": [
    "# Make new observation\n",
    "observation = [[0.02, 16]]\n",
    "# Predict observation's value\n",
    "model.predict(observation)"
   ],
   "outputs": [
    {
     "output_type": "execute_result",
     "data": {
      "text/plain": [
       "array([33.])"
      ]
     },
     "metadata": {},
     "execution_count": 15
    }
   ],
   "metadata": {}
  },
  {
   "cell_type": "code",
   "execution_count": 16,
   "source": [
    "# Create decision tree classifier object using entropy\n",
    "decisiontree_mae = DecisionTreeRegressor(criterion=\"mae\", random_state=0)\n",
    "# Train model\n",
    "model_mae = decisiontree_mae.fit(features, target)"
   ],
   "outputs": [],
   "metadata": {}
  },
  {
   "cell_type": "code",
   "execution_count": 19,
   "source": [
    "import pydotplus\n",
    "from sklearn.tree import DecisionTreeClassifier\n",
    "from sklearn import datasets\n",
    "from IPython.display import Image\n",
    "from sklearn import tree\n",
    "# Load data\n",
    "iris = datasets.load_iris()\n",
    "features = iris.data\n",
    "target = iris.target\n",
    "# Create decision tree classifier object\n",
    "decisiontree = DecisionTreeClassifier(random_state=0)\n",
    "# Train model\n",
    "model = decisiontree.fit(features, target)\n",
    "# Create DOT data\n",
    "dot_data = tree.export_graphviz(decisiontree,out_file=None,feature_names=iris.feature_names,class_names=iris.target_names)\n",
    "# Draw graph\n",
    "graph = pydotplus.graph_from_dot_data(dot_data)\n",
    "# Show graph\n",
    "# Image(graph.create_png())\n",
    "# Create PDF\n",
    "# graph.write_pdf(\"iris.pdf\")\n",
    "# Create PNG\n",
    "# graph.write_png(\"iris.png\")\n",
    "\n",
    "graph"
   ],
   "outputs": [
    {
     "output_type": "execute_result",
     "data": {
      "text/plain": [
       "<pydotplus.graphviz.Dot at 0x7f7b93fed0d0>"
      ]
     },
     "metadata": {},
     "execution_count": 19
    }
   ],
   "metadata": {}
  },
  {
   "cell_type": "code",
   "execution_count": 20,
   "source": [
    "from sklearn.ensemble import RandomForestClassifier\n",
    "from sklearn import datasets\n",
    "# Load data\n",
    "iris = datasets.load_iris()\n",
    "features = iris.data\n",
    "target = iris.target\n",
    "# Create random forest classifier object\n",
    "randomforest = RandomForestClassifier(random_state=0, n_jobs=-1)\n",
    "# Train model\n",
    "model = randomforest.fit(features, target)"
   ],
   "outputs": [],
   "metadata": {}
  },
  {
   "cell_type": "code",
   "execution_count": 21,
   "source": [
    "# Make new observation\n",
    "observation = [[ 5, 4, 3, 2]]\n",
    "# Predict observation's class\n",
    "model.predict(observation)\n",
    "\n",
    "# Create random forest classifier object using entropy\n",
    "randomforest_entropy = RandomForestClassifier(criterion=\"entropy\", random_state=0)\n",
    "# Train model\n",
    "model_entropy = randomforest_entropy.fit(features, target)"
   ],
   "outputs": [],
   "metadata": {}
  },
  {
   "cell_type": "code",
   "execution_count": 22,
   "source": [
    "from sklearn.ensemble import RandomForestRegressor\n",
    "from sklearn import datasets\n",
    "# Load data with only two features\n",
    "boston = datasets.load_boston()\n",
    "features = boston.data[:,0:2]\n",
    "target = boston.target\n",
    "# Create random forest classifier object\n",
    "randomforest = RandomForestRegressor(random_state=0, n_jobs=-1)\n",
    "# Train model\n",
    "model = randomforest.fit(features, target)"
   ],
   "outputs": [],
   "metadata": {}
  },
  {
   "cell_type": "code",
   "execution_count": 23,
   "source": [
    "import numpy as np\n",
    "import matplotlib.pyplot as plt\n",
    "from sklearn.ensemble import RandomForestClassifier\n",
    "from sklearn import datasets\n",
    "# Load data\n",
    "iris = datasets.load_iris()\n",
    "features = iris.data\n",
    "target = iris.target\n",
    "# Create random forest classifier object\n",
    "randomforest = RandomForestClassifier(random_state=0, n_jobs=-1)\n",
    "# Train model\n",
    "model = randomforest.fit(features, target)\n",
    "# Calculate feature importances\n",
    "importances = model.feature_importances_\n",
    "# Sort feature importances in descending order\n",
    "indices = np.argsort(importances)[::-1]\n",
    "# Rearrange feature names so they match the sorted feature importances\n",
    "names = [iris.feature_names[i] for i in indices]\n",
    "# Create plot\n",
    "plt.figure()\n",
    "# Create plot title\n",
    "plt.title(\"Feature Importance\")\n",
    "# Add bars\n",
    "plt.bar(range(features.shape[1]), importances[indices])\n",
    "# Add feature names as x-axis labels\n",
    "plt.xticks(range(features.shape[1]), names, rotation=90)\n",
    "# Show plot\n",
    "plt.show()"
   ],
   "outputs": [
    {
     "output_type": "display_data",
     "data": {
      "image/png": "[encoded data removed]",
      "text/plain": [
       "<Figure size 432x288 with 1 Axes>"
      ]
     },
     "metadata": {
      "needs_background": "light"
     }
    }
   ],
   "metadata": {}
  },
  {
   "cell_type": "code",
   "execution_count": 24,
   "source": [
    "# View feature importances\n",
    "model.feature_importances_"
   ],
   "outputs": [
    {
     "output_type": "execute_result",
     "data": {
      "text/plain": [
       "array([0.09090795, 0.02453104, 0.46044474, 0.42411627])"
      ]
     },
     "metadata": {},
     "execution_count": 24
    }
   ],
   "metadata": {}
  },
  {
   "cell_type": "code",
   "execution_count": 25,
   "source": [
    "from sklearn.ensemble import RandomForestClassifier\n",
    "from sklearn import datasets\n",
    "from sklearn.feature_selection import SelectFromModel\n",
    "# Load data\n",
    "iris = datasets.load_iris()\n",
    "features = iris.data\n",
    "target = iris.target\n",
    "# Create random forest classifier\n",
    "randomforest = RandomForestClassifier(random_state=0, n_jobs=-1)\n",
    "# Create object that selects features with importance greater\n",
    "# than or equal to a threshold\n",
    "selector = SelectFromModel(randomforest, threshold=0.3)\n",
    "# Feature new feature matrix using selector\n",
    "features_important = selector.fit_transform(features, target)\n",
    "# Train random forest using most important featres\n",
    "model = randomforest.fit(features_important, target)"
   ],
   "outputs": [],
   "metadata": {}
  },
  {
   "cell_type": "code",
   "execution_count": 26,
   "source": [
    "import numpy as np\n",
    "from sklearn.ensemble import RandomForestClassifier\n",
    "from sklearn import datasets\n",
    "# Load data\n",
    "iris = datasets.load_iris()\n",
    "features = iris.data\n",
    "target = iris.target\n",
    "# Make class highly imbalanced by removing first 40 observations\n",
    "features = features[40:,:]\n",
    "target = target[40:]\n",
    "# Create target vector indicating if class 0, otherwise 1\n",
    "target = np.where((target == 0), 0, 1)\n",
    "# Create random forest classifier object\n",
    "randomforest = RandomForestClassifier(\n",
    "random_state=0, n_jobs=-1, class_weight=\"balanced\")\n",
    "# Train model\n",
    "model = randomforest.fit(features, target)"
   ],
   "outputs": [],
   "metadata": {}
  },
  {
   "cell_type": "code",
   "execution_count": 27,
   "source": [
    "from sklearn.tree import DecisionTreeClassifier\n",
    "from sklearn import datasets\n",
    "# Load data\n",
    "iris = datasets.load_iris()\n",
    "features = iris.data\n",
    "target = iris.target\n",
    "# Create decision tree classifier object\n",
    "decisiontree = DecisionTreeClassifier(random_state=0,max_depth=None,min_samples_split=2,min_samples_leaf=1,min_weight_fraction_leaf=0,max_leaf_nodes=None,min_impurity_decrease=0)\n",
    "# Train model\n",
    "model = decisiontree.fit(features, target)\n"
   ],
   "outputs": [],
   "metadata": {}
  },
  {
   "cell_type": "code",
   "execution_count": 28,
   "source": [
    "from sklearn.ensemble import AdaBoostClassifier\n",
    "from sklearn import datasets\n",
    "# Load data\n",
    "iris = datasets.load_iris()\n",
    "features = iris.data\n",
    "target = iris.target\n",
    "# Create adaboost tree classifier object\n",
    "adaboost = AdaBoostClassifier(random_state=0)\n",
    "# Train model\n",
    "model = adaboost.fit(features, target)"
   ],
   "outputs": [],
   "metadata": {}
  },
  {
   "cell_type": "code",
   "execution_count": 29,
   "source": [
    "from sklearn.ensemble import RandomForestClassifier\n",
    "from sklearn import datasets\n",
    "# Load data\n",
    "iris = datasets.load_iris()\n",
    "features = iris.data\n",
    "target = iris.target\n",
    "# Create random tree classifier object\n",
    "randomforest = RandomForestClassifier(\n",
    "random_state=0, n_estimators=1000, oob_score=True, n_jobs=-1)\n",
    "# Train model\n",
    "model = randomforest.fit(features, target)\n",
    "# View out-of-bag-error\n",
    "randomforest.oob_score_"
   ],
   "outputs": [
    {
     "output_type": "execute_result",
     "data": {
      "text/plain": [
       "0.9533333333333334"
      ]
     },
     "metadata": {},
     "execution_count": 29
    }
   ],
   "metadata": {}
  }
 ],
 "metadata": {
  "orig_nbformat": 4,
  "language_info": {
   "name": "python",
   "version": "3.9.7",
   "mimetype": "text/x-python",
   "codemirror_mode": {
    "name": "ipython",
    "version": 3
   },
   "pygments_lexer": "ipython3",
   "nbconvert_exporter": "python",
   "file_extension": ".py"
  },
  "kernelspec": {
   "name": "python3",
   "display_name": "Python 3.9.7 64-bit"
  },
  "interpreter": {
   "hash": "e7370f93d1d0cde622a1f8e1c04877d8463912d04d973331ad4851f04de6915a"
  }
 },
 "nbformat": 4,
 "nbformat_minor": 2
}