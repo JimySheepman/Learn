{
 "cells": [
  {
   "cell_type": "markdown",
   "source": [
    "# Fundamantels"
   ],
   "metadata": {}
  },
  {
   "cell_type": "code",
   "execution_count": 1,
   "source": [
    "!python -V"
   ],
   "outputs": [
    {
     "output_type": "stream",
     "name": "stdout",
     "text": [
      "Python 3.9.6\n"
     ]
    }
   ],
   "metadata": {}
  },
  {
   "cell_type": "code",
   "execution_count": 2,
   "source": [
    "a = 2\n",
    "print(a)"
   ],
   "outputs": [
    {
     "output_type": "stream",
     "name": "stdout",
     "text": [
      "2\n"
     ]
    }
   ],
   "metadata": {}
  },
  {
   "cell_type": "code",
   "execution_count": 3,
   "source": [
    "b = 1000000000000123123\n",
    "b"
   ],
   "outputs": [
    {
     "output_type": "execute_result",
     "data": {
      "text/plain": [
       "1000000000000123123"
      ]
     },
     "metadata": {},
     "execution_count": 3
    }
   ],
   "metadata": {}
  },
  {
   "cell_type": "code",
   "execution_count": 4,
   "source": [
    "pi = 3.14\n",
    "pi"
   ],
   "outputs": [
    {
     "output_type": "execute_result",
     "data": {
      "text/plain": [
       "3.14"
      ]
     },
     "metadata": {},
     "execution_count": 4
    }
   ],
   "metadata": {}
  },
  {
   "cell_type": "code",
   "execution_count": 5,
   "source": [
    "c ='A'\n",
    "c"
   ],
   "outputs": [
    {
     "output_type": "execute_result",
     "data": {
      "text/plain": [
       "'A'"
      ]
     },
     "metadata": {},
     "execution_count": 5
    }
   ],
   "metadata": {}
  },
  {
   "cell_type": "code",
   "execution_count": 6,
   "source": [
    "name = 'merlins'\n",
    "name"
   ],
   "outputs": [
    {
     "output_type": "execute_result",
     "data": {
      "text/plain": [
       "'merlins'"
      ]
     },
     "metadata": {},
     "execution_count": 6
    }
   ],
   "metadata": {}
  },
  {
   "cell_type": "code",
   "execution_count": 7,
   "source": [
    "q = True\n",
    "x = None\n",
    "q,x"
   ],
   "outputs": [
    {
     "output_type": "execute_result",
     "data": {
      "text/plain": [
       "(True, None)"
      ]
     },
     "metadata": {},
     "execution_count": 7
    }
   ],
   "metadata": {}
  },
  {
   "cell_type": "code",
   "execution_count": 8,
   "source": [
    "import keyword\n",
    "print(keyword.kwlist)"
   ],
   "outputs": [
    {
     "output_type": "stream",
     "name": "stdout",
     "text": [
      "['False', 'None', 'True', '__peg_parser__', 'and', 'as', 'assert', 'async', 'await', 'break', 'class', 'continue', 'def', 'del', 'elif', 'else', 'except', 'finally', 'for', 'from', 'global', 'if', 'import', 'in', 'is', 'lambda', 'nonlocal', 'not', 'or', 'pass', 'raise', 'return', 'try', 'while', 'with', 'yield']\n"
     ]
    }
   ],
   "metadata": {}
  },
  {
   "cell_type": "code",
   "execution_count": 9,
   "source": [
    "a = b = c = 1\n",
    "print(a, b, c)"
   ],
   "outputs": [
    {
     "output_type": "stream",
     "name": "stdout",
     "text": [
      "1 1 1\n"
     ]
    }
   ],
   "metadata": {}
  },
  {
   "cell_type": "code",
   "execution_count": 10,
   "source": [
    "a, b, _ = 1, 2, 3\n",
    "print(a, b)\n"
   ],
   "outputs": [
    {
     "output_type": "stream",
     "name": "stdout",
     "text": [
      "1 2\n"
     ]
    }
   ],
   "metadata": {}
  },
  {
   "cell_type": "code",
   "execution_count": 11,
   "source": [
    "x = [1,2,3]\n",
    "x"
   ],
   "outputs": [
    {
     "output_type": "execute_result",
     "data": {
      "text/plain": [
       "[1, 2, 3]"
      ]
     },
     "metadata": {},
     "execution_count": 11
    }
   ],
   "metadata": {}
  },
  {
   "cell_type": "code",
   "execution_count": 12,
   "source": [
    "x = [1,2,[1,2,3],3]\n",
    "x"
   ],
   "outputs": [
    {
     "output_type": "execute_result",
     "data": {
      "text/plain": [
       "[1, 2, [1, 2, 3], 3]"
      ]
     },
     "metadata": {},
     "execution_count": 12
    }
   ],
   "metadata": {}
  },
  {
   "cell_type": "code",
   "execution_count": 13,
   "source": [
    "x[2],x[2][2]"
   ],
   "outputs": [
    {
     "output_type": "execute_result",
     "data": {
      "text/plain": [
       "([1, 2, 3], 3)"
      ]
     },
     "metadata": {},
     "execution_count": 13
    }
   ],
   "metadata": {}
  },
  {
   "cell_type": "code",
   "execution_count": 14,
   "source": [
    "x=True\n",
    "y = False\n",
    "\n",
    "x or y ,x and y , not x"
   ],
   "outputs": [
    {
     "output_type": "execute_result",
     "data": {
      "text/plain": [
       "(True, False, False)"
      ]
     },
     "metadata": {},
     "execution_count": 14
    }
   ],
   "metadata": {}
  },
  {
   "cell_type": "code",
   "execution_count": 15,
   "source": [
    "a = 2.0\n",
    "b = 100.e0\n",
    "c = 123456789.e1\n",
    "a,b,c"
   ],
   "outputs": [
    {
     "output_type": "execute_result",
     "data": {
      "text/plain": [
       "(2.0, 100.0, 1234567890.0)"
      ]
     },
     "metadata": {},
     "execution_count": 15
    }
   ],
   "metadata": {}
  },
  {
   "cell_type": "code",
   "execution_count": 16,
   "source": [
    "a = 2 + 1j\n",
    "b = 100 + 10j\n",
    "a,b"
   ],
   "outputs": [
    {
     "output_type": "execute_result",
     "data": {
      "text/plain": [
       "((2+1j), (100+10j))"
      ]
     },
     "metadata": {},
     "execution_count": 16
    }
   ],
   "metadata": {}
  },
  {
   "cell_type": "code",
   "execution_count": 17,
   "source": [
    "a = (1, 2, 3)\n",
    "b = ('a', 1, 'python', (1, 2))\n",
    "a, b"
   ],
   "outputs": [
    {
     "output_type": "execute_result",
     "data": {
      "text/plain": [
       "((1, 2, 3), ('a', 1, 'python', (1, 2)))"
      ]
     },
     "metadata": {},
     "execution_count": 17
    }
   ],
   "metadata": {}
  },
  {
   "cell_type": "code",
   "execution_count": 18,
   "source": [
    "a = [1, 2, 3]\n",
    "b = ['a', 1, 'python', (1, 2), [1, 2]]\n",
    "b[2] = 'something else' # allowed\n",
    "a,b"
   ],
   "outputs": [
    {
     "output_type": "execute_result",
     "data": {
      "text/plain": [
       "([1, 2, 3], ['a', 1, 'something else', (1, 2), [1, 2]])"
      ]
     },
     "metadata": {},
     "execution_count": 18
    }
   ],
   "metadata": {}
  },
  {
   "cell_type": "code",
   "execution_count": 19,
   "source": [
    "a = {1, 2, 'a'}\n",
    "a"
   ],
   "outputs": [
    {
     "output_type": "execute_result",
     "data": {
      "text/plain": [
       "{1, 2, 'a'}"
      ]
     },
     "metadata": {},
     "execution_count": 19
    }
   ],
   "metadata": {}
  },
  {
   "cell_type": "code",
   "execution_count": 20,
   "source": [
    "a = {1: 'one',\n",
    "2: 'two'}\n",
    "b = {'a': [1, 2, 3],\n",
    "'b': 'a string'}\n",
    "a,b"
   ],
   "outputs": [
    {
     "output_type": "execute_result",
     "data": {
      "text/plain": [
       "({1: 'one', 2: 'two'}, {'a': [1, 2, 3], 'b': 'a string'})"
      ]
     },
     "metadata": {},
     "execution_count": 20
    }
   ],
   "metadata": {}
  },
  {
   "cell_type": "code",
   "execution_count": 21,
   "source": [
    "type(a)"
   ],
   "outputs": [
    {
     "output_type": "execute_result",
     "data": {
      "text/plain": [
       "dict"
      ]
     },
     "metadata": {},
     "execution_count": 21
    }
   ],
   "metadata": {}
  },
  {
   "cell_type": "code",
   "execution_count": 22,
   "source": [
    "i = 7\n",
    "if isinstance(i, int):\n",
    "    i += 1\n",
    "elif isinstance(i, str):\n",
    "    i = int(i)\n",
    "    i += 1\n",
    "\n",
    "i"
   ],
   "outputs": [
    {
     "output_type": "execute_result",
     "data": {
      "text/plain": [
       "8"
      ]
     },
     "metadata": {},
     "execution_count": 22
    }
   ],
   "metadata": {}
  },
  {
   "cell_type": "code",
   "execution_count": 23,
   "source": [
    "x = None\n",
    "if x is None:\n",
    "    print('Not a surprise, I just defined x as None.')"
   ],
   "outputs": [
    {
     "output_type": "stream",
     "name": "stdout",
     "text": [
      "Not a surprise, I just defined x as None.\n"
     ]
    }
   ],
   "metadata": {}
  },
  {
   "cell_type": "code",
   "execution_count": 24,
   "source": [
    "a = 'hello'\n",
    "print(a,type(a))\n",
    "print(list(a),type(list(a)))\n",
    "print(set(a),type(set(a)))\n",
    "print(tuple(a),type(tuple(a)))"
   ],
   "outputs": [
    {
     "output_type": "stream",
     "name": "stdout",
     "text": [
      "hello <class 'str'>\n",
      "['h', 'e', 'l', 'l', 'o'] <class 'list'>\n",
      "{'e', 'l', 'o', 'h'} <class 'set'>\n",
      "('h', 'e', 'l', 'l', 'o') <class 'tuple'>\n"
     ]
    }
   ],
   "metadata": {}
  },
  {
   "cell_type": "code",
   "execution_count": 25,
   "source": [
    "print(dir(list))"
   ],
   "outputs": [
    {
     "output_type": "stream",
     "name": "stdout",
     "text": [
      "['__add__', '__class__', '__class_getitem__', '__contains__', '__delattr__', '__delitem__', '__dir__', '__doc__', '__eq__', '__format__', '__ge__', '__getattribute__', '__getitem__', '__gt__', '__hash__', '__iadd__', '__imul__', '__init__', '__init_subclass__', '__iter__', '__le__', '__len__', '__lt__', '__mul__', '__ne__', '__new__', '__reduce__', '__reduce_ex__', '__repr__', '__reversed__', '__rmul__', '__setattr__', '__setitem__', '__sizeof__', '__str__', '__subclasshook__', 'append', 'clear', 'copy', 'count', 'extend', 'index', 'insert', 'pop', 'remove', 'reverse', 'sort']\n"
     ]
    }
   ],
   "metadata": {}
  },
  {
   "cell_type": "code",
   "execution_count": 26,
   "source": [
    "print(dir(dict))"
   ],
   "outputs": [
    {
     "output_type": "stream",
     "name": "stdout",
     "text": [
      "['__class__', '__class_getitem__', '__contains__', '__delattr__', '__delitem__', '__dir__', '__doc__', '__eq__', '__format__', '__ge__', '__getattribute__', '__getitem__', '__gt__', '__hash__', '__init__', '__init_subclass__', '__ior__', '__iter__', '__le__', '__len__', '__lt__', '__ne__', '__new__', '__or__', '__reduce__', '__reduce_ex__', '__repr__', '__reversed__', '__ror__', '__setattr__', '__setitem__', '__sizeof__', '__str__', '__subclasshook__', 'clear', 'copy', 'fromkeys', 'get', 'items', 'keys', 'pop', 'popitem', 'setdefault', 'update', 'values']\n"
     ]
    }
   ],
   "metadata": {}
  },
  {
   "cell_type": "code",
   "execution_count": 27,
   "source": [
    "print(dir(tuple))"
   ],
   "outputs": [
    {
     "output_type": "stream",
     "name": "stdout",
     "text": [
      "['__add__', '__class__', '__class_getitem__', '__contains__', '__delattr__', '__dir__', '__doc__', '__eq__', '__format__', '__ge__', '__getattribute__', '__getitem__', '__getnewargs__', '__gt__', '__hash__', '__init__', '__init_subclass__', '__iter__', '__le__', '__len__', '__lt__', '__mul__', '__ne__', '__new__', '__reduce__', '__reduce_ex__', '__repr__', '__rmul__', '__setattr__', '__sizeof__', '__str__', '__subclasshook__', 'count', 'index']\n"
     ]
    }
   ],
   "metadata": {}
  },
  {
   "cell_type": "code",
   "execution_count": 28,
   "source": [
    "print(dir(set))"
   ],
   "outputs": [
    {
     "output_type": "stream",
     "name": "stdout",
     "text": [
      "['__and__', '__class__', '__class_getitem__', '__contains__', '__delattr__', '__dir__', '__doc__', '__eq__', '__format__', '__ge__', '__getattribute__', '__gt__', '__hash__', '__iand__', '__init__', '__init_subclass__', '__ior__', '__isub__', '__iter__', '__ixor__', '__le__', '__len__', '__lt__', '__ne__', '__new__', '__or__', '__rand__', '__reduce__', '__reduce_ex__', '__repr__', '__ror__', '__rsub__', '__rxor__', '__setattr__', '__sizeof__', '__str__', '__sub__', '__subclasshook__', '__xor__', 'add', 'clear', 'copy', 'difference', 'difference_update', 'discard', 'intersection', 'intersection_update', 'isdisjoint', 'issubset', 'issuperset', 'pop', 'remove', 'symmetric_difference', 'symmetric_difference_update', 'union', 'update']\n"
     ]
    }
   ],
   "metadata": {}
  },
  {
   "cell_type": "code",
   "execution_count": 29,
   "source": [
    "name = input(\"Enter the name: \")\n",
    "name"
   ],
   "outputs": [
    {
     "output_type": "execute_result",
     "data": {
      "text/plain": [
       "'2'"
      ]
     },
     "metadata": {},
     "execution_count": 29
    }
   ],
   "metadata": {}
  },
  {
   "cell_type": "code",
   "execution_count": 30,
   "source": [
    "x = int(input(\"Enter the number: \"))\n",
    "x = x**2\n",
    "print(\"Square number: \",x)"
   ],
   "outputs": [
    {
     "output_type": "stream",
     "name": "stdout",
     "text": [
      "Square number:  4\n"
     ]
    }
   ],
   "metadata": {}
  },
  {
   "cell_type": "code",
   "execution_count": 31,
   "source": [
    "print(dir(__builtins__))"
   ],
   "outputs": [
    {
     "output_type": "stream",
     "name": "stdout",
     "text": [
      "['ArithmeticError', 'AssertionError', 'AttributeError', 'BaseException', 'BlockingIOError', 'BrokenPipeError', 'BufferError', 'BytesWarning', 'ChildProcessError', 'ConnectionAbortedError', 'ConnectionError', 'ConnectionRefusedError', 'ConnectionResetError', 'DeprecationWarning', 'EOFError', 'Ellipsis', 'EnvironmentError', 'Exception', 'False', 'FileExistsError', 'FileNotFoundError', 'FloatingPointError', 'FutureWarning', 'GeneratorExit', 'IOError', 'ImportError', 'ImportWarning', 'IndentationError', 'IndexError', 'InterruptedError', 'IsADirectoryError', 'KeyError', 'KeyboardInterrupt', 'LookupError', 'MemoryError', 'ModuleNotFoundError', 'NameError', 'None', 'NotADirectoryError', 'NotImplemented', 'NotImplementedError', 'OSError', 'OverflowError', 'PendingDeprecationWarning', 'PermissionError', 'ProcessLookupError', 'RecursionError', 'ReferenceError', 'ResourceWarning', 'RuntimeError', 'RuntimeWarning', 'StopAsyncIteration', 'StopIteration', 'SyntaxError', 'SyntaxWarning', 'SystemError', 'SystemExit', 'TabError', 'TimeoutError', 'True', 'TypeError', 'UnboundLocalError', 'UnicodeDecodeError', 'UnicodeEncodeError', 'UnicodeError', 'UnicodeTranslateError', 'UnicodeWarning', 'UserWarning', 'ValueError', 'Warning', 'ZeroDivisionError', '__IPYTHON__', '__build_class__', '__debug__', '__doc__', '__import__', '__loader__', '__name__', '__package__', '__spec__', 'abs', 'all', 'any', 'ascii', 'bin', 'bool', 'breakpoint', 'bytearray', 'bytes', 'callable', 'chr', 'classmethod', 'compile', 'complex', 'copyright', 'credits', 'delattr', 'dict', 'dir', 'display', 'divmod', 'enumerate', 'eval', 'exec', 'filter', 'float', 'format', 'frozenset', 'get_ipython', 'getattr', 'globals', 'hasattr', 'hash', 'help', 'hex', 'id', 'input', 'int', 'isinstance', 'issubclass', 'iter', 'len', 'license', 'list', 'locals', 'map', 'max', 'memoryview', 'min', 'next', 'object', 'oct', 'open', 'ord', 'pow', 'print', 'property', 'range', 'repr', 'reversed', 'round', 'set', 'setattr', 'slice', 'sorted', 'staticmethod', 'str', 'sum', 'super', 'tuple', 'type', 'vars', 'zip']\n"
     ]
    }
   ],
   "metadata": {}
  },
  {
   "cell_type": "code",
   "execution_count": 32,
   "source": [
    "help(zip)"
   ],
   "outputs": [
    {
     "output_type": "stream",
     "name": "stdout",
     "text": [
      "Help on class zip in module builtins:\n",
      "\n",
      "class zip(object)\n",
      " |  zip(*iterables) --> A zip object yielding tuples until an input is exhausted.\n",
      " |  \n",
      " |     >>> list(zip('abcdefg', range(3), range(4)))\n",
      " |     [('a', 0, 0), ('b', 1, 1), ('c', 2, 2)]\n",
      " |  \n",
      " |  The zip object yields n-length tuples, where n is the number of iterables\n",
      " |  passed as positional arguments to zip().  The i-th element in every tuple\n",
      " |  comes from the i-th iterable argument to zip().  This continues until the\n",
      " |  shortest argument is exhausted.\n",
      " |  \n",
      " |  Methods defined here:\n",
      " |  \n",
      " |  __getattribute__(self, name, /)\n",
      " |      Return getattr(self, name).\n",
      " |  \n",
      " |  __iter__(self, /)\n",
      " |      Implement iter(self).\n",
      " |  \n",
      " |  __next__(self, /)\n",
      " |      Implement next(self).\n",
      " |  \n",
      " |  __reduce__(...)\n",
      " |      Return state information for pickling.\n",
      " |  \n",
      " |  ----------------------------------------------------------------------\n",
      " |  Static methods defined here:\n",
      " |  \n",
      " |  __new__(*args, **kwargs) from builtins.type\n",
      " |      Create and return a new object.  See help(type) for accurate signature.\n",
      "\n"
     ]
    }
   ],
   "metadata": {}
  },
  {
   "cell_type": "code",
   "execution_count": 33,
   "source": [
    "help(set)"
   ],
   "outputs": [
    {
     "output_type": "stream",
     "name": "stdout",
     "text": [
      "Help on class set in module builtins:\n",
      "\n",
      "class set(object)\n",
      " |  set() -> new empty set object\n",
      " |  set(iterable) -> new set object\n",
      " |  \n",
      " |  Build an unordered collection of unique elements.\n",
      " |  \n",
      " |  Methods defined here:\n",
      " |  \n",
      " |  __and__(self, value, /)\n",
      " |      Return self&value.\n",
      " |  \n",
      " |  __contains__(...)\n",
      " |      x.__contains__(y) <==> y in x.\n",
      " |  \n",
      " |  __eq__(self, value, /)\n",
      " |      Return self==value.\n",
      " |  \n",
      " |  __ge__(self, value, /)\n",
      " |      Return self>=value.\n",
      " |  \n",
      " |  __getattribute__(self, name, /)\n",
      " |      Return getattr(self, name).\n",
      " |  \n",
      " |  __gt__(self, value, /)\n",
      " |      Return self>value.\n",
      " |  \n",
      " |  __iand__(self, value, /)\n",
      " |      Return self&=value.\n",
      " |  \n",
      " |  __init__(self, /, *args, **kwargs)\n",
      " |      Initialize self.  See help(type(self)) for accurate signature.\n",
      " |  \n",
      " |  __ior__(self, value, /)\n",
      " |      Return self|=value.\n",
      " |  \n",
      " |  __isub__(self, value, /)\n",
      " |      Return self-=value.\n",
      " |  \n",
      " |  __iter__(self, /)\n",
      " |      Implement iter(self).\n",
      " |  \n",
      " |  __ixor__(self, value, /)\n",
      " |      Return self^=value.\n",
      " |  \n",
      " |  __le__(self, value, /)\n",
      " |      Return self<=value.\n",
      " |  \n",
      " |  __len__(self, /)\n",
      " |      Return len(self).\n",
      " |  \n",
      " |  __lt__(self, value, /)\n",
      " |      Return self<value.\n",
      " |  \n",
      " |  __ne__(self, value, /)\n",
      " |      Return self!=value.\n",
      " |  \n",
      " |  __or__(self, value, /)\n",
      " |      Return self|value.\n",
      " |  \n",
      " |  __rand__(self, value, /)\n",
      " |      Return value&self.\n",
      " |  \n",
      " |  __reduce__(...)\n",
      " |      Return state information for pickling.\n",
      " |  \n",
      " |  __repr__(self, /)\n",
      " |      Return repr(self).\n",
      " |  \n",
      " |  __ror__(self, value, /)\n",
      " |      Return value|self.\n",
      " |  \n",
      " |  __rsub__(self, value, /)\n",
      " |      Return value-self.\n",
      " |  \n",
      " |  __rxor__(self, value, /)\n",
      " |      Return value^self.\n",
      " |  \n",
      " |  __sizeof__(...)\n",
      " |      S.__sizeof__() -> size of S in memory, in bytes\n",
      " |  \n",
      " |  __sub__(self, value, /)\n",
      " |      Return self-value.\n",
      " |  \n",
      " |  __xor__(self, value, /)\n",
      " |      Return self^value.\n",
      " |  \n",
      " |  add(...)\n",
      " |      Add an element to a set.\n",
      " |      \n",
      " |      This has no effect if the element is already present.\n",
      " |  \n",
      " |  clear(...)\n",
      " |      Remove all elements from this set.\n",
      " |  \n",
      " |  copy(...)\n",
      " |      Return a shallow copy of a set.\n",
      " |  \n",
      " |  difference(...)\n",
      " |      Return the difference of two or more sets as a new set.\n",
      " |      \n",
      " |      (i.e. all elements that are in this set but not the others.)\n",
      " |  \n",
      " |  difference_update(...)\n",
      " |      Remove all elements of another set from this set.\n",
      " |  \n",
      " |  discard(...)\n",
      " |      Remove an element from a set if it is a member.\n",
      " |      \n",
      " |      If the element is not a member, do nothing.\n",
      " |  \n",
      " |  intersection(...)\n",
      " |      Return the intersection of two sets as a new set.\n",
      " |      \n",
      " |      (i.e. all elements that are in both sets.)\n",
      " |  \n",
      " |  intersection_update(...)\n",
      " |      Update a set with the intersection of itself and another.\n",
      " |  \n",
      " |  isdisjoint(...)\n",
      " |      Return True if two sets have a null intersection.\n",
      " |  \n",
      " |  issubset(...)\n",
      " |      Report whether another set contains this set.\n",
      " |  \n",
      " |  issuperset(...)\n",
      " |      Report whether this set contains another set.\n",
      " |  \n",
      " |  pop(...)\n",
      " |      Remove and return an arbitrary set element.\n",
      " |      Raises KeyError if the set is empty.\n",
      " |  \n",
      " |  remove(...)\n",
      " |      Remove an element from a set; it must be a member.\n",
      " |      \n",
      " |      If the element is not a member, raise a KeyError.\n",
      " |  \n",
      " |  symmetric_difference(...)\n",
      " |      Return the symmetric difference of two sets as a new set.\n",
      " |      \n",
      " |      (i.e. all elements that are in exactly one of the sets.)\n",
      " |  \n",
      " |  symmetric_difference_update(...)\n",
      " |      Update a set with the symmetric difference of itself and another.\n",
      " |  \n",
      " |  union(...)\n",
      " |      Return the union of sets as a new set.\n",
      " |      \n",
      " |      (i.e. all elements that are in either set.)\n",
      " |  \n",
      " |  update(...)\n",
      " |      Update a set with the union of itself and others.\n",
      " |  \n",
      " |  ----------------------------------------------------------------------\n",
      " |  Class methods defined here:\n",
      " |  \n",
      " |  __class_getitem__(...) from builtins.type\n",
      " |      See PEP 585\n",
      " |  \n",
      " |  ----------------------------------------------------------------------\n",
      " |  Static methods defined here:\n",
      " |  \n",
      " |  __new__(*args, **kwargs) from builtins.type\n",
      " |      Create and return a new object.  See help(type) for accurate signature.\n",
      " |  \n",
      " |  ----------------------------------------------------------------------\n",
      " |  Data and other attributes defined here:\n",
      " |  \n",
      " |  __hash__ = None\n",
      "\n"
     ]
    }
   ],
   "metadata": {}
  },
  {
   "cell_type": "code",
   "execution_count": 34,
   "source": [
    "import hello as say\n",
    "\n",
    "say.hello_world()"
   ],
   "outputs": [
    {
     "output_type": "stream",
     "name": "stdout",
     "text": [
      "hello world!\n"
     ]
    }
   ],
   "metadata": {}
  },
  {
   "cell_type": "code",
   "execution_count": 35,
   "source": [
    "s = \"\"\"w'o\"w\"\"\"\n",
    "repr(s),str(s)"
   ],
   "outputs": [
    {
     "output_type": "execute_result",
     "data": {
      "text/plain": [
       "('\\'w\\\\\\'o\"w\\'', 'w\\'o\"w')"
      ]
     },
     "metadata": {},
     "execution_count": 35
    }
   ],
   "metadata": {}
  },
  {
   "cell_type": "code",
   "execution_count": 36,
   "source": [
    "import datetime\n",
    "today = datetime.datetime.now()\n",
    "str(today), repr(today) "
   ],
   "outputs": [
    {
     "output_type": "execute_result",
     "data": {
      "text/plain": [
       "('2021-09-08 02:19:50.258920',\n",
       " 'datetime.datetime(2021, 9, 8, 2, 19, 50, 258920)')"
      ]
     },
     "metadata": {},
     "execution_count": 36
    }
   ],
   "metadata": {}
  },
  {
   "cell_type": "code",
   "execution_count": 37,
   "source": [
    "a_str = 'hello world'\n",
    "a_str, a_str[2:5]"
   ],
   "outputs": [
    {
     "output_type": "execute_result",
     "data": {
      "text/plain": [
       "('hello world', 'llo')"
      ]
     },
     "metadata": {},
     "execution_count": 37
    }
   ],
   "metadata": {}
  },
  {
   "cell_type": "code",
   "execution_count": 38,
   "source": [
    "basket = {'apple', 'orange', 'apple', 'pear', 'orange', 'banana'}\n",
    "basket"
   ],
   "outputs": [
    {
     "output_type": "execute_result",
     "data": {
      "text/plain": [
       "{'apple', 'banana', 'orange', 'pear'}"
      ]
     },
     "metadata": {},
     "execution_count": 38
    }
   ],
   "metadata": {}
  },
  {
   "cell_type": "code",
   "execution_count": 39,
   "source": [
    "a = set('helloWorld')\n",
    "a"
   ],
   "outputs": [
    {
     "output_type": "execute_result",
     "data": {
      "text/plain": [
       "{'W', 'd', 'e', 'h', 'l', 'o', 'r'}"
      ]
     },
     "metadata": {},
     "execution_count": 39
    }
   ],
   "metadata": {}
  },
  {
   "cell_type": "code",
   "execution_count": 40,
   "source": [
    "a.add('t')\n",
    "a"
   ],
   "outputs": [
    {
     "output_type": "execute_result",
     "data": {
      "text/plain": [
       "{'W', 'd', 'e', 'h', 'l', 'o', 'r', 't'}"
      ]
     },
     "metadata": {},
     "execution_count": 40
    }
   ],
   "metadata": {}
  },
  {
   "cell_type": "code",
   "execution_count": 41,
   "source": [
    "b = frozenset('asdfagsa')\n",
    "b"
   ],
   "outputs": [
    {
     "output_type": "execute_result",
     "data": {
      "text/plain": [
       "frozenset({'a', 'd', 'f', 'g', 's'})"
      ]
     },
     "metadata": {},
     "execution_count": 41
    }
   ],
   "metadata": {}
  },
  {
   "cell_type": "code",
   "execution_count": 42,
   "source": [
    "int_number = 10\n",
    "float_number = 10.4\n",
    "complex_number = 10.4j\n",
    "long_number = 2**61 - 1"
   ],
   "outputs": [],
   "metadata": {}
  },
  {
   "cell_type": "code",
   "execution_count": 43,
   "source": [
    "_list = [123,'abcd',10.2,'d']\n",
    "list1 = ['hello','world']\n",
    "_list+list1"
   ],
   "outputs": [
    {
     "output_type": "execute_result",
     "data": {
      "text/plain": [
       "[123, 'abcd', 10.2, 'd', 'hello', 'world']"
      ]
     },
     "metadata": {},
     "execution_count": 43
    }
   ],
   "metadata": {}
  },
  {
   "cell_type": "code",
   "execution_count": 44,
   "source": [
    "dic={'name':'red','age':10}\n",
    "dic.values(),dic.keys()"
   ],
   "outputs": [
    {
     "output_type": "execute_result",
     "data": {
      "text/plain": [
       "(dict_values(['red', 10]), dict_keys(['name', 'age']))"
      ]
     },
     "metadata": {},
     "execution_count": 44
    }
   ],
   "metadata": {}
  },
  {
   "cell_type": "code",
   "execution_count": 45,
   "source": [
    "tuple1 = ((123,'hello'),'world')\n",
    "tuple1[0][0],tuple1[0]\n"
   ],
   "outputs": [
    {
     "output_type": "execute_result",
     "data": {
      "text/plain": [
       "(123, (123, 'hello'))"
      ]
     },
     "metadata": {},
     "execution_count": 45
    }
   ],
   "metadata": {}
  },
  {
   "cell_type": "code",
   "execution_count": 46,
   "source": [
    "def func():\n",
    "    \"\"\"This is a function that does nothing at all\"\"\"\n",
    "    return\n",
    "\n",
    "print(func.__doc__)"
   ],
   "outputs": [
    {
     "output_type": "stream",
     "name": "stdout",
     "text": [
      "This is a function that does nothing at all\n"
     ]
    }
   ],
   "metadata": {}
  },
  {
   "cell_type": "code",
   "execution_count": 47,
   "source": [
    "help(func)"
   ],
   "outputs": [
    {
     "output_type": "stream",
     "name": "stdout",
     "text": [
      "Help on function func in module __main__:\n",
      "\n",
      "func()\n",
      "    This is a function that does nothing at all\n",
      "\n"
     ]
    }
   ],
   "metadata": {}
  },
  {
   "cell_type": "code",
   "execution_count": 48,
   "source": [
    "def greet(name, greeting=\"Hello\"):\n",
    "    \"\"\"Print a greeting to the user `name`\n",
    "    Optional parameter `greeting` can change what they're greeted with.\"\"\"\n",
    "    print(\"{} {}\".format(greeting, name))\n",
    "help(greet)"
   ],
   "outputs": [
    {
     "output_type": "stream",
     "name": "stdout",
     "text": [
      "Help on function greet in module __main__:\n",
      "\n",
      "greet(name, greeting='Hello')\n",
      "    Print a greeting to the user `name`\n",
      "    Optional parameter `greeting` can change what they're greeted with.\n",
      "\n"
     ]
    }
   ],
   "metadata": {}
  },
  {
   "cell_type": "code",
   "execution_count": 49,
   "source": [
    "def greet(name, greeting=\"Hello\"):\n",
    "    # Print a greeting to the user `name`\n",
    "    # Optional parameter `greeting` can change what they're greeted with.\n",
    "    print(\"{} {}\".format(greeting, name))\n",
    "print(greet.__doc__)\n"
   ],
   "outputs": [
    {
     "output_type": "stream",
     "name": "stdout",
     "text": [
      "None\n"
     ]
    }
   ],
   "metadata": {}
  },
  {
   "cell_type": "markdown",
   "source": [
    "## Date and Time"
   ],
   "metadata": {}
  },
  {
   "cell_type": "code",
   "execution_count": 50,
   "source": [
    "import datetime\n",
    "dt = datetime.datetime.strptime(\"2016-04-15T08:27:18-0500\", \"%Y-%m-%dT%H:%M:%S%z\")\n",
    "dt"
   ],
   "outputs": [
    {
     "output_type": "execute_result",
     "data": {
      "text/plain": [
       "datetime.datetime(2016, 4, 15, 8, 27, 18, tzinfo=datetime.timezone(datetime.timedelta(days=-1, seconds=68400)))"
      ]
     },
     "metadata": {},
     "execution_count": 50
    }
   ],
   "metadata": {}
  },
  {
   "cell_type": "code",
   "execution_count": 51,
   "source": [
    "import dateutil.parser\n",
    "dt = dateutil.parser.parse(\"2016-04-15T08:27:18-0500\")\n",
    "dt"
   ],
   "outputs": [
    {
     "output_type": "execute_result",
     "data": {
      "text/plain": [
       "datetime.datetime(2016, 4, 15, 8, 27, 18, tzinfo=tzoffset(None, -18000))"
      ]
     },
     "metadata": {},
     "execution_count": 51
    }
   ],
   "metadata": {}
  },
  {
   "cell_type": "code",
   "execution_count": 52,
   "source": [
    "from datetime import datetime, timedelta, timezone\n",
    "\n",
    "JST = timezone(timedelta(hours=+9))\n",
    "dt = datetime(2015, 1, 1, 12, 0, 0, tzinfo=JST)\n",
    "print(dt)# 2015-01-01 12:00:00+09:00\n",
    "print(dt.tzname())# UTC+09:00\n",
    "dt = datetime(2015, 1, 1, 12, 0, 0, tzinfo=timezone(timedelta(hours=9), 'JST'))\n",
    "print(dt.tzname)# 'JST'"
   ],
   "outputs": [
    {
     "output_type": "stream",
     "name": "stdout",
     "text": [
      "2015-01-01 12:00:00+09:00\n",
      "UTC+09:00\n",
      "<built-in method tzname of datetime.datetime object at 0x7fb5b035e060>\n"
     ]
    }
   ],
   "metadata": {}
  },
  {
   "cell_type": "code",
   "execution_count": 53,
   "source": [
    "from datetime import datetime\n",
    "from dateutil import tz\n",
    "\n",
    "local = tz.gettz() # Local time\n",
    "PT = tz.gettz('US/Pacific') # Pacific time\n",
    "dt_l = datetime(2015, 1, 1, 12, tzinfo=local) # I am in EST\n",
    "dt_pst = datetime(2015, 1, 1, 12, tzinfo=PT)\n",
    "dt_pdt = datetime(2015, 7, 1, 12, tzinfo=PT) # DST is handled automatically\n",
    "print(dt_l)\n",
    "print(dt_pst)\n",
    "print(dt_pdt)\n"
   ],
   "outputs": [
    {
     "output_type": "stream",
     "name": "stdout",
     "text": [
      "2015-01-01 12:00:00+02:00\n",
      "2015-01-01 12:00:00-08:00\n",
      "2015-07-01 12:00:00-07:00\n"
     ]
    }
   ],
   "metadata": {}
  },
  {
   "cell_type": "code",
   "execution_count": 54,
   "source": [
    "from datetime import datetime\n",
    "from dateutil import tz\n",
    "\n",
    "utc = tz.tzutc()\n",
    "local = tz.tzlocal()\n",
    "utc_now = datetime.utcnow()\n",
    "utc_now # Not timezone-aware.\n",
    "utc_now = utc_now.replace(tzinfo=utc)\n",
    "utc_now # Timezone-aware.\n",
    "local_now = utc_now.astimezone(local)\n",
    "local_now # Converted to local time.\n"
   ],
   "outputs": [
    {
     "output_type": "execute_result",
     "data": {
      "text/plain": [
       "datetime.datetime(2021, 9, 8, 2, 19, 51, 195314, tzinfo=tzlocal())"
      ]
     },
     "metadata": {},
     "execution_count": 54
    }
   ],
   "metadata": {}
  },
  {
   "cell_type": "code",
   "execution_count": 55,
   "source": [
    "import datetime\n",
    "\n",
    "today = datetime.date.today()\n",
    "print('Today:', today)\n",
    "yesterday = today - datetime.timedelta(days=1)\n",
    "print('Yesterday:', yesterday)\n",
    "tomorrow = today + datetime.timedelta(days=1)\n",
    "print('Tomorrow:', tomorrow)\n",
    "print('Time between tomorrow and yesterday:', tomorrow - yesterday)\n"
   ],
   "outputs": [
    {
     "output_type": "stream",
     "name": "stdout",
     "text": [
      "Today: 2021-09-08\n",
      "Yesterday: 2021-09-07\n",
      "Tomorrow: 2021-09-09\n",
      "Time between tomorrow and yesterday: 2 days, 0:00:00\n"
     ]
    }
   ],
   "metadata": {}
  },
  {
   "cell_type": "code",
   "execution_count": 56,
   "source": [
    "import time\n",
    "from datetime import datetime\n",
    "\n",
    "seconds_since_epoch=time.time()\n",
    "utc_date=datetime.utcfromtimestamp(seconds_since_epoch) \n",
    "utc_date\n"
   ],
   "outputs": [
    {
     "output_type": "execute_result",
     "data": {
      "text/plain": [
       "datetime.datetime(2021, 9, 7, 23, 19, 51, 307818)"
      ]
     },
     "metadata": {},
     "execution_count": 56
    }
   ],
   "metadata": {}
  },
  {
   "cell_type": "code",
   "execution_count": 57,
   "source": [
    "import calendar\n",
    "from datetime import date\n",
    "\n",
    "def monthdelta(date, delta):\n",
    "    m, y = (date.month+delta) % 12, date.year + ((date.month)+delta-1) // 12\n",
    "    if not m: m = 12\n",
    "    d = min(date.day, calendar.monthrange(y, m)[1])\n",
    "    return date.replace(day=d,month=m, year=y)\n",
    "\n",
    "next_month = monthdelta(date.today(), 1)\n",
    "next_month"
   ],
   "outputs": [
    {
     "output_type": "execute_result",
     "data": {
      "text/plain": [
       "datetime.date(2021, 10, 8)"
      ]
     },
     "metadata": {},
     "execution_count": 57
    }
   ],
   "metadata": {}
  },
  {
   "cell_type": "code",
   "execution_count": 58,
   "source": [
    "from datetime import datetime\n",
    "datetime.now().isoformat()\n"
   ],
   "outputs": [
    {
     "output_type": "execute_result",
     "data": {
      "text/plain": [
       "'2021-09-08T02:19:51.404434'"
      ]
     },
     "metadata": {},
     "execution_count": 58
    }
   ],
   "metadata": {}
  },
  {
   "cell_type": "code",
   "execution_count": 59,
   "source": [
    "from dateutil.parser import parse\n",
    "import pytz\n",
    "EST = pytz.timezone('America/New_York')\n",
    "dt = parse('2014-02-03 09:17:00 EST', tzinfos={'EST': EST})\n",
    "dt\n"
   ],
   "outputs": [
    {
     "output_type": "execute_result",
     "data": {
      "text/plain": [
       "datetime.datetime(2014, 2, 3, 9, 17, tzinfo=<DstTzInfo 'America/New_York' LMT-1 day, 19:04:00 STD>)"
      ]
     },
     "metadata": {},
     "execution_count": 59
    }
   ],
   "metadata": {}
  },
  {
   "cell_type": "code",
   "execution_count": 60,
   "source": [
    "from dateutil.parser import parse\n",
    "\n",
    "dt = parse(\"Today is January 1, 2047 at 8:21:00AM\", fuzzy=True)\n",
    "print(dt)\n"
   ],
   "outputs": [
    {
     "output_type": "stream",
     "name": "stdout",
     "text": [
      "2047-01-01 08:21:00\n"
     ]
    }
   ],
   "metadata": {}
  },
  {
   "cell_type": "code",
   "execution_count": 61,
   "source": [
    "import datetime\n",
    "\n",
    "# The size of each step in days\n",
    "day_delta = datetime.timedelta(days=1)\n",
    "start_date = datetime.date.today()\n",
    "end_date = start_date + 7*day_delta\n",
    "\n",
    "for i in range((end_date - start_date).days):\n",
    "    print(start_date + i*day_delta)\n"
   ],
   "outputs": [
    {
     "output_type": "stream",
     "name": "stdout",
     "text": [
      "2021-09-08\n",
      "2021-09-09\n",
      "2021-09-10\n",
      "2021-09-11\n",
      "2021-09-12\n",
      "2021-09-13\n",
      "2021-09-14\n"
     ]
    }
   ],
   "metadata": {}
  },
  {
   "cell_type": "code",
   "execution_count": 62,
   "source": [
    "from datetime import datetime\n",
    "datetime_for_string = datetime(2016,10,1,0,0)\n",
    "datetime_string_format = '%b %d %Y, %H:%M:%S'\n",
    "datetime.strftime(datetime_for_string,datetime_string_format)\n"
   ],
   "outputs": [
    {
     "output_type": "execute_result",
     "data": {
      "text/plain": [
       "'Oct 01 2016, 00:00:00'"
      ]
     },
     "metadata": {},
     "execution_count": 62
    }
   ],
   "metadata": {}
  },
  {
   "cell_type": "code",
   "execution_count": 63,
   "source": [
    "from datetime import datetime\n",
    "datetime_string = 'Oct 1 2016, 00:00:00'\n",
    "datetime_string_format = '%b %d %Y, %H:%M:%S'\n",
    "datetime.strptime(datetime_string, datetime_string_format)\n"
   ],
   "outputs": [
    {
     "output_type": "execute_result",
     "data": {
      "text/plain": [
       "datetime.datetime(2016, 10, 1, 0, 0)"
      ]
     },
     "metadata": {},
     "execution_count": 63
    }
   ],
   "metadata": {}
  },
  {
   "cell_type": "markdown",
   "source": [
    "## Enum"
   ],
   "metadata": {}
  },
  {
   "cell_type": "code",
   "execution_count": 66,
   "source": [
    "from enum import Enum\n",
    "\n",
    "class Color(Enum):\n",
    "    red = 1\n",
    "    green = 2\n",
    "    blue = 3\n",
    "\n",
    "print(Color.red)\n",
    "print(Color(1))\n",
    "print(Color['red'])"
   ],
   "outputs": [
    {
     "output_type": "stream",
     "name": "stdout",
     "text": [
      "Color.red\n",
      "Color.red\n",
      "Color.red\n"
     ]
    }
   ],
   "metadata": {}
  },
  {
   "cell_type": "code",
   "execution_count": 67,
   "source": [
    "[c for c in Color]"
   ],
   "outputs": [
    {
     "output_type": "execute_result",
     "data": {
      "text/plain": [
       "[<Color.red: 1>, <Color.green: 2>, <Color.blue: 3>]"
      ]
     },
     "metadata": {},
     "execution_count": 67
    }
   ],
   "metadata": {}
  },
  {
   "cell_type": "code",
   "execution_count": 75,
   "source": [
    "print({1,2,3,4,5}.intersection({3,4,5,6}), {1,2,3,4,5} & {3,4,5,6}) # Intersection\n",
    "print({1,2,3,4,5}.union({3,4,5,6}), {1,2,3,4,5} | {3,4,5,6}) # Union\n",
    "print({1,2,3,4,5}.difference({3,4,5,6}), {1,2,3,4,5} - {3,4,5,6}) # Difference\n",
    "print({1,2,3,4,5}.symmetric_difference({3,4,5,6}), {1,2,3,4,5} ^ {3,4,5,6}) # Symmetric difference with\n",
    "print({1,2,3,4,5}.issuperset({3,4,5,6}), {1,2,3,4,5} >= {3,4,5,6}) # Superset check\n",
    "print({1,2,3,4,5}.issubset({3,4,5,6}), {1,2,3,4,5} <= {3,4,5,6}) # Subset check\n",
    "print({1,2,3,4,5}.isdisjoint({3,4,5,6}), {1,2,3,4,5}.isdisjoint({3,4,5,6})) # Union"
   ],
   "outputs": [
    {
     "output_type": "stream",
     "name": "stdout",
     "text": [
      "{3, 4, 5} {3, 4, 5}\n",
      "{1, 2, 3, 4, 5, 6} {1, 2, 3, 4, 5, 6}\n",
      "{1, 2} {1, 2}\n",
      "{1, 2, 6} {1, 2, 6}\n",
      "False False\n",
      "False False\n",
      "False False\n"
     ]
    }
   ],
   "metadata": {}
  },
  {
   "cell_type": "code",
   "execution_count": 77,
   "source": [
    "print(2 in {1,2,3})\n",
    "print(4 in {1,2,3})\n",
    "print(4 not in {1,2,3} )\n",
    "\n",
    "s = {1,2,3}\n",
    "s.add(4) # s == {1,2,3,4}\n",
    "s.discard(3) # s == {1,2,4}\n",
    "s.discard(5) # s == {1,2,4}\n",
    "s.remove(2) # s == {1,4}\n",
    "#s.remove(2) -> KeyError!\n"
   ],
   "outputs": [
    {
     "output_type": "stream",
     "name": "stdout",
     "text": [
      "True\n",
      "False\n",
      "True\n"
     ]
    }
   ],
   "metadata": {}
  },
  {
   "cell_type": "code",
   "execution_count": 80,
   "source": [
    "import math\n",
    "\n",
    "a, b = 2, 3\n",
    "math.pow(a, b)\n"
   ],
   "outputs": [
    {
     "output_type": "execute_result",
     "data": {
      "text/plain": [
       "8.0"
      ]
     },
     "metadata": {},
     "execution_count": 80
    }
   ],
   "metadata": {}
  },
  {
   "cell_type": "code",
   "execution_count": 81,
   "source": [
    "math.sqrt(2)"
   ],
   "outputs": [
    {
     "output_type": "execute_result",
     "data": {
      "text/plain": [
       "1.4142135623730951"
      ]
     },
     "metadata": {},
     "execution_count": 81
    }
   ],
   "metadata": {}
  },
  {
   "cell_type": "code",
   "execution_count": 82,
   "source": [
    "x = 8\n",
    "math.pow(x, 1/3) "
   ],
   "outputs": [
    {
     "output_type": "execute_result",
     "data": {
      "text/plain": [
       "2.0"
      ]
     },
     "metadata": {},
     "execution_count": 82
    }
   ],
   "metadata": {}
  },
  {
   "cell_type": "code",
   "execution_count": 84,
   "source": [
    "math.exp(0), math.exp(1) "
   ],
   "outputs": [
    {
     "output_type": "execute_result",
     "data": {
      "text/plain": [
       "(1.0, 2.718281828459045)"
      ]
     },
     "metadata": {},
     "execution_count": 84
    }
   ],
   "metadata": {}
  },
  {
   "cell_type": "code",
   "execution_count": 85,
   "source": [
    "math.exp(1e-6) - 1 , math.expm1(1e-6)\n",
    " "
   ],
   "outputs": [
    {
     "output_type": "execute_result",
     "data": {
      "text/plain": [
       "(1.0000004999621837e-06, 1.0000005000001665e-06)"
      ]
     },
     "metadata": {},
     "execution_count": 85
    }
   ],
   "metadata": {}
  },
  {
   "cell_type": "code",
   "execution_count": 86,
   "source": [
    "a, b = 1, 2\n",
    "math.sin(a) "
   ],
   "outputs": [
    {
     "output_type": "execute_result",
     "data": {
      "text/plain": [
       "0.8414709848078965"
      ]
     },
     "metadata": {},
     "execution_count": 86
    }
   ],
   "metadata": {}
  },
  {
   "cell_type": "code",
   "execution_count": 87,
   "source": [
    "math.atan(math.pi)"
   ],
   "outputs": [
    {
     "output_type": "execute_result",
     "data": {
      "text/plain": [
       "1.2626272556789118"
      ]
     },
     "metadata": {},
     "execution_count": 87
    }
   ],
   "metadata": {}
  },
  {
   "cell_type": "code",
   "execution_count": 88,
   "source": [
    "math.hypot(a, b)"
   ],
   "outputs": [
    {
     "output_type": "execute_result",
     "data": {
      "text/plain": [
       "2.23606797749979"
      ]
     },
     "metadata": {},
     "execution_count": 88
    }
   ],
   "metadata": {}
  },
  {
   "cell_type": "markdown",
   "source": [
    "* -= decrement the variable in place\n",
    "* += increment the variable in place\n",
    "* *= multiply the variable in place\n",
    "* /= divide the variable in place\n",
    "* //= floor divide the variable in place # Python 3\n",
    "* %= return the modulus of the variable in place\n",
    "* **= raise to a power in place"
   ],
   "metadata": {}
  },
  {
   "cell_type": "code",
   "execution_count": 89,
   "source": [
    "math.log(5)"
   ],
   "outputs": [
    {
     "output_type": "execute_result",
     "data": {
      "text/plain": [
       "1.6094379124341003"
      ]
     },
     "metadata": {},
     "execution_count": 89
    }
   ],
   "metadata": {}
  },
  {
   "cell_type": "code",
   "execution_count": 90,
   "source": [
    "~0"
   ],
   "outputs": [
    {
     "output_type": "execute_result",
     "data": {
      "text/plain": [
       "-1"
      ]
     },
     "metadata": {},
     "execution_count": 90
    }
   ],
   "metadata": {}
  },
  {
   "cell_type": "code",
   "execution_count": 92,
   "source": [
    "60 ^ 30\n",
    "# 60 = 0b111100\n",
    "# 30 = 0b011110\n",
    "# 34 = 0b100010"
   ],
   "outputs": [
    {
     "output_type": "execute_result",
     "data": {
      "text/plain": [
       "34"
      ]
     },
     "metadata": {},
     "execution_count": 92
    }
   ],
   "metadata": {}
  },
  {
   "cell_type": "code",
   "execution_count": 93,
   "source": [
    "# 60 = 0b111100\n",
    "# 30 = 0b011110\n",
    "60 & 30\n",
    "# 28 = 0b11100"
   ],
   "outputs": [
    {
     "output_type": "execute_result",
     "data": {
      "text/plain": [
       "28"
      ]
     },
     "metadata": {},
     "execution_count": 93
    }
   ],
   "metadata": {}
  },
  {
   "cell_type": "code",
   "execution_count": 94,
   "source": [
    "# 60 = 0b111100\n",
    "# 30 = 0b011110\n",
    "60 | 30\n",
    "# 62 = 0b111110"
   ],
   "outputs": [
    {
     "output_type": "execute_result",
     "data": {
      "text/plain": [
       "62"
      ]
     },
     "metadata": {},
     "execution_count": 94
    }
   ],
   "metadata": {}
  },
  {
   "cell_type": "code",
   "execution_count": 96,
   "source": [
    "#2 = 0b10\n",
    "2 << 2\n",
    "#8 = 0b1000"
   ],
   "outputs": [
    {
     "output_type": "execute_result",
     "data": {
      "text/plain": [
       "8"
      ]
     },
     "metadata": {},
     "execution_count": 96
    }
   ],
   "metadata": {}
  },
  {
   "cell_type": "code",
   "execution_count": 97,
   "source": [
    "# 8 = 0b1000\n",
    "8 >> 2\n",
    "# Out: 2\n",
    "# 2 = 0b10"
   ],
   "outputs": [
    {
     "output_type": "execute_result",
     "data": {
      "text/plain": [
       "2"
      ]
     },
     "metadata": {},
     "execution_count": 97
    }
   ],
   "metadata": {}
  },
  {
   "cell_type": "code",
   "execution_count": 98,
   "source": [
    "a = 0b001\n",
    "a &= 0b010\n",
    "# a = 0b000\n",
    "a = 0b001\n",
    "a |= 0b010\n",
    "# a = 0b011\n",
    "a = 0b001\n",
    "a <<= 2\n",
    "# a = 0b100\n",
    "a = 0b100\n",
    "a >>= 2\n",
    "# a = 0b001\n",
    "a = 0b101\n",
    "a ^= 0b011\n",
    "# a = 0b110\n"
   ],
   "outputs": [],
   "metadata": {}
  },
  {
   "cell_type": "code",
   "execution_count": 99,
   "source": [
    "x = True\n",
    "y = True\n",
    "z = x and y # z = True\n",
    "x = True\n",
    "y = False\n",
    "z = x and y # z = False\n",
    "x = False\n",
    "y = True\n",
    "z = x and y # z = False\n",
    "x = False\n",
    "y = False\n",
    "z = x and y # z = False\n",
    "x = 1\n",
    "y = 1\n",
    "z = x and y # z = y, so z = 1, see `and` and `or` are not guaranteed to be a boolean\n",
    "x = 0\n",
    "y = 1\n",
    "z = x and y # z = x, so z = 0 (see above)\n",
    "x = 1\n",
    "y = 0\n",
    "z = x and y # z = y, so z = 0 (see above)\n",
    "x = 0\n",
    "y = 0\n",
    "z = x and y # z = x, so z = 0 (see above)"
   ],
   "outputs": [],
   "metadata": {}
  },
  {
   "cell_type": "code",
   "execution_count": 100,
   "source": [
    "x = True\n",
    "y = True\n",
    "z = x or y # z = True\n",
    "x = True\n",
    "y = False\n",
    "z = x or y # z = True\n",
    "x = False\n",
    "y = True\n",
    "z = x or y # z = True\n",
    "x = False\n",
    "y = False\n",
    "z = x or y # z = False\n",
    "x = 1\n",
    "y = 1\n",
    "z = x or y # z = x, so z = 1, see `and` and `or` are not guaranteed to be a boolean\n",
    "x = 1\n",
    "y = 0\n",
    "z = x or y # z = x, so z = 1 (see above)\n",
    "x = 0\n",
    "y = 1\n",
    "z = x or y # z = y, so z = 1 (see above)\n",
    "x = 0\n",
    "y = 0\n",
    "z = x or y # z = y, so z = 0 (see above)"
   ],
   "outputs": [],
   "metadata": {}
  },
  {
   "cell_type": "code",
   "execution_count": 101,
   "source": [
    "x = True\n",
    "y = not x # y = False\n",
    "x = False\n",
    "y = not x # y = True"
   ],
   "outputs": [],
   "metadata": {}
  },
  {
   "cell_type": "code",
   "execution_count": 2,
   "source": [
    "x = 'hello'\n",
    "\n",
    "def read_x():\n",
    "    print(x)\n",
    "\n",
    "read_x()"
   ],
   "outputs": [
    {
     "output_type": "stream",
     "name": "stdout",
     "text": [
      "hello\n"
     ]
    }
   ],
   "metadata": {}
  },
  {
   "cell_type": "code",
   "execution_count": 4,
   "source": [
    "x = 5\n",
    "print(x)\n",
    "del x\n",
    "# print(x) NameError: name 'x' is not defined"
   ],
   "outputs": [
    {
     "output_type": "stream",
     "name": "stdout",
     "text": [
      "5\n"
     ]
    }
   ],
   "metadata": {}
  },
  {
   "cell_type": "code",
   "execution_count": 6,
   "source": [
    "a = 'global'\n",
    "class Fred:\n",
    "    a = 'class' # class scope\n",
    "    b= (a for i in range(10)) # function scope\n",
    "    c= [a for i in range(10)] # function scope\n",
    "    d= a # class scope\n",
    "    e= lambda: a # function scope\n",
    "    f= lambda a=a: a # default argument uses class scope\n",
    "    \n",
    "    @staticmethod # or @classmethod, or regular instance method\n",
    "    def g(): # function scope\n",
    "        return a\n",
    "\n",
    "\n",
    "print(Fred.a) \n",
    "print(next(Fred.b)) \n",
    "print(Fred.c[0]) \n",
    "print(Fred.d) \n",
    "print(Fred.e()) \n",
    "print(Fred.f())\n",
    "print(Fred.g()) \n"
   ],
   "outputs": [
    {
     "output_type": "stream",
     "name": "stdout",
     "text": [
      "class\n",
      "global\n",
      "global\n",
      "class\n",
      "global\n",
      "class\n",
      "global\n"
     ]
    }
   ],
   "metadata": {}
  },
  {
   "cell_type": "code",
   "execution_count": 10,
   "source": [
    "foo = 0 # global foo\n",
    "def f1():\n",
    "    foo = 1\n",
    "    # a new foo local in f1\n",
    "    def f2():\n",
    "        foo = 2\n",
    "        # a new foo local in f2\n",
    "        def f3():\n",
    "            foo = 3 # a new foo local in f3\n",
    "            print(foo) # 3\n",
    "            foo = 30 # modifies local foo in f3 only\n",
    "            def f4():\n",
    "                global foo\n",
    "                print(foo) # 0\n",
    "                foo = 100 # modifies global foo"
   ],
   "outputs": [],
   "metadata": {}
  },
  {
   "cell_type": "code",
   "execution_count": 11,
   "source": [
    "n = 5\n",
    "\"Greater than 2\" if n > 2 else \"Smaller than or equal to 2\""
   ],
   "outputs": [
    {
     "output_type": "execute_result",
     "data": {
      "text/plain": [
       "'Greater than 2'"
      ]
     },
     "metadata": {},
     "execution_count": 11
    }
   ],
   "metadata": {}
  },
  {
   "cell_type": "code",
   "execution_count": 12,
   "source": [
    "n = 5\n",
    "\"Hello\" if n > 10 else \"Goodbye\" if n > 5 else \"Good day\""
   ],
   "outputs": [
    {
     "output_type": "execute_result",
     "data": {
      "text/plain": [
       "'Good day'"
      ]
     },
     "metadata": {},
     "execution_count": 12
    }
   ],
   "metadata": {}
  },
  {
   "cell_type": "code",
   "execution_count": 13,
   "source": [
    "number = 5\n",
    "if number > 2:\n",
    "    print(\"Number is bigger than 2.\")\n",
    "elif number < 2:\n",
    "    print(\"Number is smaller than 2.\")\n",
    "else: \n",
    "    print(\"Number is 2.\")"
   ],
   "outputs": [
    {
     "output_type": "stream",
     "name": "stdout",
     "text": [
      "Number is bigger than 2.\n"
     ]
    }
   ],
   "metadata": {}
  },
  {
   "cell_type": "code",
   "execution_count": 14,
   "source": [
    "1 and 2\n"
   ],
   "outputs": [
    {
     "output_type": "execute_result",
     "data": {
      "text/plain": [
       "2"
      ]
     },
     "metadata": {},
     "execution_count": 14
    }
   ],
   "metadata": {}
  },
  {
   "cell_type": "code",
   "execution_count": 15,
   "source": [
    "1 and \"Hello World\""
   ],
   "outputs": [
    {
     "output_type": "execute_result",
     "data": {
      "text/plain": [
       "'Hello World'"
      ]
     },
     "metadata": {},
     "execution_count": 15
    }
   ],
   "metadata": {}
  },
  {
   "cell_type": "code",
   "execution_count": 20,
   "source": [
    "print(1 > -1 < 2 > 0.5 < 100 != 24)"
   ],
   "outputs": [
    {
     "output_type": "stream",
     "name": "stdout",
     "text": [
      "True\n"
     ]
    }
   ],
   "metadata": {}
  },
  {
   "cell_type": "code",
   "execution_count": 21,
   "source": [
    "a = 'Python is fun!'\n",
    "b = 'Python is fun!'\n",
    "\n",
    "a == b, a is b \n"
   ],
   "outputs": [
    {
     "output_type": "execute_result",
     "data": {
      "text/plain": [
       "(True, False)"
      ]
     },
     "metadata": {},
     "execution_count": 21
    }
   ],
   "metadata": {}
  },
  {
   "cell_type": "code",
   "execution_count": 22,
   "source": [
    "12 > 4, 12 != 1, 12 == 12"
   ],
   "outputs": [
    {
     "output_type": "execute_result",
     "data": {
      "text/plain": [
       "(True, True, True)"
      ]
     },
     "metadata": {},
     "execution_count": 22
    }
   ],
   "metadata": {}
  },
  {
   "cell_type": "code",
   "execution_count": 23,
   "source": [
    "i = 0\n",
    "while i < 7:\n",
    "    print(i)\n",
    "    if i == 4:\n",
    "        print(\"Breaking from loop\")\n",
    "        break\n",
    "    i += 1\n"
   ],
   "outputs": [
    {
     "output_type": "stream",
     "name": "stdout",
     "text": [
      "0\n",
      "1\n",
      "2\n",
      "3\n",
      "4\n",
      "Breaking from loop\n"
     ]
    }
   ],
   "metadata": {}
  },
  {
   "cell_type": "code",
   "execution_count": 24,
   "source": [
    "for i in (0, 1, 2, 3, 4):\n",
    "    print(i)\n",
    "    if i == 2:\n",
    "        break"
   ],
   "outputs": [
    {
     "output_type": "stream",
     "name": "stdout",
     "text": [
      "0\n",
      "1\n",
      "2\n"
     ]
    }
   ],
   "metadata": {}
  },
  {
   "cell_type": "code",
   "execution_count": 25,
   "source": [
    "for i in [0, 1, 2, 3, 4]:\n",
    "    print(i)\n",
    "for i in range(5):\n",
    "    print(i)\n",
    "for x in range(1, 6):\n",
    "    print(x)"
   ],
   "outputs": [
    {
     "output_type": "stream",
     "name": "stdout",
     "text": [
      "0\n",
      "1\n",
      "2\n",
      "3\n",
      "4\n",
      "0\n",
      "1\n",
      "2\n",
      "3\n",
      "4\n",
      "1\n",
      "2\n",
      "3\n",
      "4\n",
      "5\n"
     ]
    }
   ],
   "metadata": {}
  },
  {
   "cell_type": "code",
   "execution_count": 26,
   "source": [
    "for index, item in enumerate(['one', 'two', 'three', 'four']):\n",
    "    print(index, '::', item)\n"
   ],
   "outputs": [
    {
     "output_type": "stream",
     "name": "stdout",
     "text": [
      "0 :: one\n",
      "1 :: two\n",
      "2 :: three\n",
      "3 :: four\n"
     ]
    }
   ],
   "metadata": {}
  },
  {
   "cell_type": "code",
   "execution_count": 30,
   "source": [
    "x = map(lambda e : e.upper(), ['one', 'two', 'three', 'four'])\n",
    "print(list(x))"
   ],
   "outputs": [
    {
     "output_type": "stream",
     "name": "stdout",
     "text": [
      "['ONE', 'TWO', 'THREE', 'FOUR']\n"
     ]
    }
   ],
   "metadata": {}
  },
  {
   "cell_type": "code",
   "execution_count": 31,
   "source": [
    "for i in range(3):\n",
    "    print(i)\n",
    "else:\n",
    "    print('done')\n",
    "\n",
    "i = 0\n",
    "while i < 3:\n",
    "    print(i)\n",
    "    i += 1\n",
    "else:\n",
    "    print('done')\n"
   ],
   "outputs": [
    {
     "output_type": "stream",
     "name": "stdout",
     "text": [
      "0\n",
      "1\n",
      "2\n",
      "done\n",
      "0\n",
      "1\n",
      "2\n",
      "done\n"
     ]
    }
   ],
   "metadata": {}
  },
  {
   "cell_type": "code",
   "execution_count": 35,
   "source": [
    "d = {\"a\": 1, \"b\": 2, \"c\": 3}\n",
    "\n",
    "for key, value in d.items():\n",
    "    print(key, \"::\", value)"
   ],
   "outputs": [
    {
     "output_type": "stream",
     "name": "stdout",
     "text": [
      "a :: 1\n",
      "b :: 2\n",
      "c :: 3\n"
     ]
    }
   ],
   "metadata": {}
  },
  {
   "cell_type": "code",
   "execution_count": 36,
   "source": [
    "collection = [('a', 'b', 'c'), ('x', 'y', 'z'), ('1', '2', '3')]\n",
    "for item in collection:\n",
    "    i1 = item[0]\n",
    "    i2 = item[1]\n",
    "    i3 = item[2]\n"
   ],
   "outputs": [],
   "metadata": {}
  },
  {
   "cell_type": "code",
   "execution_count": 37,
   "source": [
    "for item in collection:\n",
    "    i1, i2, i3 = item\n"
   ],
   "outputs": [],
   "metadata": {}
  },
  {
   "cell_type": "code",
   "execution_count": 38,
   "source": [
    "for i1, i2, i3 in collection:\n",
    "    print(i1,i2,i3)"
   ],
   "outputs": [
    {
     "output_type": "stream",
     "name": "stdout",
     "text": [
      "a b c\n",
      "x y z\n",
      "1 2 3\n"
     ]
    }
   ],
   "metadata": {}
  },
  {
   "cell_type": "code",
   "execution_count": 40,
   "source": [
    "lst = ['alpha', 'bravo', 'charlie', 'delta', 'echo']\n",
    "\n",
    "for s in lst:\n",
    "    print (s[:1])\n",
    "for idx, s in enumerate(lst):\n",
    "    print(\"%s has an index of %d\" % (s, idx))\n"
   ],
   "outputs": [
    {
     "output_type": "stream",
     "name": "stdout",
     "text": [
      "a\n",
      "b\n",
      "c\n",
      "d\n",
      "e\n",
      "alpha has an index of 0\n",
      "bravo has an index of 1\n",
      "charlie has an index of 2\n",
      "delta has an index of 3\n",
      "echo has an index of 4\n"
     ]
    }
   ],
   "metadata": {}
  },
  {
   "cell_type": "code",
   "execution_count": 41,
   "source": [
    "from array import *\n",
    "my_array = array('i',[1,2,3,4])\n",
    "my_array"
   ],
   "outputs": [
    {
     "output_type": "execute_result",
     "data": {
      "text/plain": [
       "array('i', [1, 2, 3, 4])"
      ]
     },
     "metadata": {},
     "execution_count": 41
    }
   ],
   "metadata": {}
  },
  {
   "cell_type": "code",
   "execution_count": 45,
   "source": [
    "# list like a array"
   ],
   "outputs": [],
   "metadata": {}
  },
  {
   "cell_type": "code",
   "execution_count": 47,
   "source": [
    "lst1=[1,2,3]\n",
    "lst2=[[1,2,3],[4,5,6],[7,8,9]]\n",
    "lst3 = [[[1,2,3],[4,5,6],[7,8,9]],[[1,2,3],[4,5,6],[7,8,9]],[[1,2,3],[4,5,6],[7,8,9]]]\n",
    "lst1,lst2,lst3"
   ],
   "outputs": [
    {
     "output_type": "execute_result",
     "data": {
      "text/plain": [
       "([1, 2, 3],\n",
       " [[1, 2, 3], [4, 5, 6], [7, 8, 9]],\n",
       " [[[1, 2, 3], [4, 5, 6], [7, 8, 9]],\n",
       "  [[1, 2, 3], [4, 5, 6], [7, 8, 9]],\n",
       "  [[1, 2, 3], [4, 5, 6], [7, 8, 9]]])"
      ]
     },
     "metadata": {},
     "execution_count": 47
    }
   ],
   "metadata": {}
  },
  {
   "cell_type": "code",
   "execution_count": 48,
   "source": [
    "d = {}\n",
    "d = {'key': 'value'} "
   ],
   "outputs": [],
   "metadata": {}
  },
  {
   "cell_type": "code",
   "execution_count": 51,
   "source": [
    "d = {k:v for k,v in [('key', 'value',)]}\n",
    "d"
   ],
   "outputs": [
    {
     "output_type": "execute_result",
     "data": {
      "text/plain": [
       "{'key': 'value'}"
      ]
     },
     "metadata": {},
     "execution_count": 51
    }
   ],
   "metadata": {}
  },
  {
   "cell_type": "code",
   "execution_count": 52,
   "source": [
    " # ! [ <expression> for <element> in <iterable> if <condition> ]\n"
   ],
   "outputs": [],
   "metadata": {}
  },
  {
   "cell_type": "code",
   "execution_count": 53,
   "source": [
    "squares = [x * x for x in (1, 2, 3, 4)]\n",
    "squares"
   ],
   "outputs": [
    {
     "output_type": "execute_result",
     "data": {
      "text/plain": [
       "[1, 4, 9, 16]"
      ]
     },
     "metadata": {},
     "execution_count": 53
    }
   ],
   "metadata": {}
  },
  {
   "cell_type": "code",
   "execution_count": 55,
   "source": [
    "squares = []\n",
    "for x in (1, 2, 3, 4):\n",
    "    squares.append(x * x)\n",
    "squares"
   ],
   "outputs": [
    {
     "output_type": "execute_result",
     "data": {
      "text/plain": [
       "[1, 4, 9, 16]"
      ]
     },
     "metadata": {},
     "execution_count": 55
    }
   ],
   "metadata": {}
  },
  {
   "cell_type": "code",
   "execution_count": 57,
   "source": [
    "[s.upper() for s in \"Hello World\"]"
   ],
   "outputs": [
    {
     "output_type": "execute_result",
     "data": {
      "text/plain": [
       "['H', 'E', 'L', 'L', 'O', ' ', 'W', 'O', 'R', 'L', 'D']"
      ]
     },
     "metadata": {},
     "execution_count": 57
    }
   ],
   "metadata": {}
  },
  {
   "cell_type": "code",
   "execution_count": 58,
   "source": [
    "[w.strip(',') for w in ['these,', 'words,,', 'mostly', 'have,commas,']]"
   ],
   "outputs": [
    {
     "output_type": "execute_result",
     "data": {
      "text/plain": [
       "['these', 'words', 'mostly', 'have,commas']"
      ]
     },
     "metadata": {},
     "execution_count": 58
    }
   ],
   "metadata": {}
  },
  {
   "cell_type": "code",
   "execution_count": 59,
   "source": [
    "sentence = \"Beautiful is better than ugly\"\n",
    "[\"\".join(sorted(word,key = lambda x: x.lower())) for word in sentence.split()]\n"
   ],
   "outputs": [
    {
     "output_type": "execute_result",
     "data": {
      "text/plain": [
       "['aBefiltuu', 'is', 'beertt', 'ahnt', 'gluy']"
      ]
     },
     "metadata": {},
     "execution_count": 59
    }
   ],
   "metadata": {}
  },
  {
   "cell_type": "code",
   "execution_count": 60,
   "source": [
    "[x if x in 'aeiou' else '*' for x in 'apple']"
   ],
   "outputs": [
    {
     "output_type": "execute_result",
     "data": {
      "text/plain": [
       "['a', '*', '*', '*', 'e']"
      ]
     },
     "metadata": {},
     "execution_count": 60
    }
   ],
   "metadata": {}
  },
  {
   "cell_type": "code",
   "execution_count": 63,
   "source": [
    "    # ! Double Iteration\n",
    "[str(x) for i in range(3) for x in foo(i)]\n"
   ],
   "outputs": [
    {
     "output_type": "execute_result",
     "data": {
      "text/plain": [
       "['0', '0.5', '1', '1.5', '2', '2.5']"
      ]
     },
     "metadata": {},
     "execution_count": 63
    }
   ],
   "metadata": {}
  },
  {
   "cell_type": "code",
   "execution_count": 66,
   "source": [
    "# list comprehension\n",
    "[x**2 for x in range(10)]"
   ],
   "outputs": [
    {
     "output_type": "execute_result",
     "data": {
      "text/plain": [
       "[0, 1, 4, 9, 16, 25, 36, 49, 64, 81]"
      ]
     },
     "metadata": {},
     "execution_count": 66
    }
   ],
   "metadata": {}
  },
  {
   "cell_type": "code",
   "execution_count": 68,
   "source": [
    "{x for x in range(1, 11) if x % 2 == 0}"
   ],
   "outputs": [
    {
     "output_type": "execute_result",
     "data": {
      "text/plain": [
       "{2, 4, 6, 8, 10}"
      ]
     },
     "metadata": {},
     "execution_count": 68
    }
   ],
   "metadata": {}
  },
  {
   "cell_type": "code",
   "execution_count": 69,
   "source": [
    "text = \"When in the Course of human events it becomes necessary for one people...\"\n",
    "{ch.lower() for ch in text if ch.isalpha()}"
   ],
   "outputs": [
    {
     "output_type": "execute_result",
     "data": {
      "text/plain": [
       "{'a',\n",
       " 'b',\n",
       " 'c',\n",
       " 'e',\n",
       " 'f',\n",
       " 'h',\n",
       " 'i',\n",
       " 'l',\n",
       " 'm',\n",
       " 'n',\n",
       " 'o',\n",
       " 'p',\n",
       " 'r',\n",
       " 's',\n",
       " 't',\n",
       " 'u',\n",
       " 'v',\n",
       " 'w',\n",
       " 'y'}"
      ]
     },
     "metadata": {},
     "execution_count": 69
    }
   ],
   "metadata": {}
  },
  {
   "cell_type": "code",
   "execution_count": 72,
   "source": [
    "list(filter(lambda x: x % 2 == 0, range(10))) # even numbers < 10\n"
   ],
   "outputs": [
    {
     "output_type": "execute_result",
     "data": {
      "text/plain": [
       "[0, 2, 4, 6, 8]"
      ]
     },
     "metadata": {},
     "execution_count": 72
    }
   ],
   "metadata": {}
  },
  {
   "cell_type": "code",
   "execution_count": 73,
   "source": [
    "list(map(lambda x: 2*x, range(10)) )# multiply each number by two"
   ],
   "outputs": [
    {
     "output_type": "execute_result",
     "data": {
      "text/plain": [
       "[0, 2, 4, 6, 8, 10, 12, 14, 16, 18]"
      ]
     },
     "metadata": {},
     "execution_count": 73
    }
   ],
   "metadata": {}
  },
  {
   "cell_type": "code",
   "execution_count": 76,
   "source": [
    "lst = ['a', 'b', 'c', 'd', 'e', 'f', 'g', 'h']\n",
    "lst[::2],lst[::3],lst[2:4],lst[2:],lst[:4],lst[::-1]"
   ],
   "outputs": [
    {
     "output_type": "execute_result",
     "data": {
      "text/plain": [
       "(['a', 'c', 'e', 'g'],\n",
       " ['a', 'd', 'g'],\n",
       " ['c', 'd'],\n",
       " ['c', 'd', 'e', 'f', 'g', 'h'],\n",
       " ['a', 'b', 'c', 'd'],\n",
       " ['h', 'g', 'f', 'e', 'd', 'c', 'b', 'a'])"
      ]
     },
     "metadata": {},
     "execution_count": 76
    }
   ],
   "metadata": {}
  },
  {
   "cell_type": "code",
   "execution_count": 83,
   "source": [
    "names = ['Fred', 'Wilma', 'Barney']\n",
    "def long_name(name):\n",
    "    return len(name) > 5\n",
    "\n",
    "list(filter(long_name, names))"
   ],
   "outputs": [
    {
     "output_type": "execute_result",
     "data": {
      "text/plain": [
       "['Barney']"
      ]
     },
     "metadata": {},
     "execution_count": 83
    }
   ],
   "metadata": {}
  },
  {
   "cell_type": "code",
   "execution_count": 86,
   "source": [
    "print(\"You can print \\n escape characters \\t\\t too.\")\n"
   ],
   "outputs": [
    {
     "output_type": "stream",
     "name": "stdout",
     "text": [
      "You can print \n",
      " escape characters \t\t too.\n"
     ]
    }
   ],
   "metadata": {}
  },
  {
   "cell_type": "markdown",
   "source": [
    "# File"
   ],
   "metadata": {}
  },
  {
   "cell_type": "code",
   "execution_count": 89,
   "source": [
    "with open('filename.txt', 'w') as object:\n",
    "    object.write('merlins\\n\\nmerlins\\n\\t\\t\\tmerlins')\n",
    "with open('filename.txt', 'r') as object:\n",
    "    lines = object.readlines()\n",
    "print(lines)\n",
    "with open('filename.txt', 'r') as object:\n",
    "    content = object.read()\n",
    "    lines = content.split('\\n')\n",
    "print(lines)"
   ],
   "outputs": [
    {
     "output_type": "stream",
     "name": "stdout",
     "text": [
      "['merlins\\n', '\\n', 'merlins\\n', '\\t\\t\\tmerlins']\n",
      "['merlins', '', 'merlins', '\\t\\t\\tmerlins']\n"
     ]
    }
   ],
   "metadata": {}
  },
  {
   "cell_type": "code",
   "execution_count": 93,
   "source": [
    "fileobj = open('filename.txt', 'r')\n",
    "pos = fileobj.tell()\n",
    "print('We are at %u.' % pos) "
   ],
   "outputs": [
    {
     "output_type": "stream",
     "name": "stdout",
     "text": [
      "We are at 0.\n"
     ]
    }
   ],
   "metadata": {}
  },
  {
   "cell_type": "code",
   "execution_count": 94,
   "source": [
    "content = fileobj.read()\n",
    "end = fileobj.tell()\n",
    "print('This file was %u characters long.' % end)\n",
    "fileobj.close()\n"
   ],
   "outputs": [
    {
     "output_type": "stream",
     "name": "stdout",
     "text": [
      "This file was 27 characters long.\n"
     ]
    }
   ],
   "metadata": {}
  },
  {
   "cell_type": "code",
   "execution_count": 95,
   "source": [
    "fileobj = open('filename.txt', 'r')\n",
    "fileobj.seek(7)\n",
    "pos = fileobj.tell()\n",
    "print('We are at character #%u.' % pos)\n",
    "next4 = fileobj.read(4)\n",
    "print(next4)\n",
    "pos = fileobj.tell()\n",
    "print('We are at %u.' % pos) \n",
    "\n",
    "fileobj.close()"
   ],
   "outputs": [
    {
     "output_type": "stream",
     "name": "stdout",
     "text": [
      "We are at character #7.\n",
      "\n",
      "\n",
      "me\n",
      "We are at 11.\n"
     ]
    }
   ],
   "metadata": {}
  },
  {
   "cell_type": "code",
   "execution_count": 99,
   "source": [
    "print(\"Hello, \", end=\" \")\n",
    "print(\"Wolrd! \", end=\"\\n\")\n",
    "print(1)"
   ],
   "outputs": [
    {
     "output_type": "stream",
     "name": "stdout",
     "text": [
      "Hello,  Wolrd! \n",
      "1\n"
     ]
    }
   ],
   "metadata": {}
  },
  {
   "cell_type": "markdown",
   "source": [
    "## File modes\n",
    "\n",
    "* 'r' - reading mode. The default. It allows you only to read the file, not to modify it. When using this mode the file must exist.\n",
    "* 'w' - writing mode. It will create a new file if it does not exist, otherwise will erase the file and allow you to write to it.\n",
    "* 'a' - append mode. It will write data to the end of the file. It does not erase the file, and the file must exist for this mode.\n",
    "* 'rb' - reading mode in binary. This is similar to r except that the reading is forced in binary mode. This is also a default choice.\n",
    "* 'r+' - reading mode plus writing mode at the same time. This allows you to read and write into files at the same time without having to use r and w.\n",
    "* 'rb+' - reading and writing mode in binary. The same as r+ except the data is in binary\n",
    "* 'wb' - writing mode in binary. The same as w except the data is in binary.\n",
    "* 'w+' - writing and reading mode. The exact same as r+ but if the file does not exist, a new one is made. Otherwise, the file is overwritten.\n",
    "* 'wb+' - writing and reading mode in binary mode. The same as w+ but the data is in binary.\n",
    "* 'ab' - appending in binary mode. Similar to a except that the data is in binary.\n",
    "* 'a+' - appending and reading mode. Similar to w+ as it will create a new file if the file does not exist. Otherwise, the file pointer is at the end of the file if it exists.\n",
    "* 'ab+' - appending and reading mode in binary. The same as a+ except that the data is in binary.\n"
   ],
   "metadata": {}
  },
  {
   "cell_type": "code",
   "execution_count": 1,
   "source": [
    "import os\n",
    "os.path.join('a','b','c')"
   ],
   "outputs": [
    {
     "output_type": "execute_result",
     "data": {
      "text/plain": [
       "'a/b/c'"
      ]
     },
     "metadata": {},
     "execution_count": 1
    }
   ],
   "metadata": {}
  },
  {
   "cell_type": "code",
   "execution_count": 2,
   "source": [
    "p = os.path.join(os.getcwd(),'textFile.txt')\n",
    "p"
   ],
   "outputs": [
    {
     "output_type": "execute_result",
     "data": {
      "text/plain": [
       "'/home/merlins/Projeler/Learn_AI/python-zero-to-hero/textFile.txt'"
      ]
     },
     "metadata": {},
     "execution_count": 2
    }
   ],
   "metadata": {}
  },
  {
   "cell_type": "code",
   "execution_count": 3,
   "source": [
    "os.path.dirname(p)"
   ],
   "outputs": [
    {
     "output_type": "execute_result",
     "data": {
      "text/plain": [
       "'/home/merlins/Projeler/Learn_AI/python-zero-to-hero'"
      ]
     },
     "metadata": {},
     "execution_count": 3
    }
   ],
   "metadata": {}
  },
  {
   "cell_type": "code",
   "execution_count": 4,
   "source": [
    "os.path.basename(p)"
   ],
   "outputs": [
    {
     "output_type": "execute_result",
     "data": {
      "text/plain": [
       "'textFile.txt'"
      ]
     },
     "metadata": {},
     "execution_count": 4
    }
   ],
   "metadata": {}
  },
  {
   "cell_type": "code",
   "execution_count": 5,
   "source": [
    "os.path.split(os.getcwd())"
   ],
   "outputs": [
    {
     "output_type": "execute_result",
     "data": {
      "text/plain": [
       "('/home/merlins/Projeler/Learn_AI', 'python-zero-to-hero')"
      ]
     },
     "metadata": {},
     "execution_count": 5
    }
   ],
   "metadata": {}
  },
  {
   "cell_type": "code",
   "execution_count": 6,
   "source": [
    "os.path.splitext(os.path.basename(p))"
   ],
   "outputs": [
    {
     "output_type": "execute_result",
     "data": {
      "text/plain": [
       "('textFile', '.txt')"
      ]
     },
     "metadata": {},
     "execution_count": 6
    }
   ],
   "metadata": {}
  },
  {
   "cell_type": "code",
   "execution_count": 8,
   "source": [
    "path = '/home/john/temp'\n",
    "os.path.exists(path)\n"
   ],
   "outputs": [
    {
     "output_type": "execute_result",
     "data": {
      "text/plain": [
       "False"
      ]
     },
     "metadata": {},
     "execution_count": 8
    }
   ],
   "metadata": {}
  },
  {
   "cell_type": "code",
   "execution_count": 9,
   "source": [
    "dirname = '/home/merlins/Projeler/Learn_AI/python-zero-to-hero'\n",
    "os.path.isdir(dirname)"
   ],
   "outputs": [
    {
     "output_type": "execute_result",
     "data": {
      "text/plain": [
       "True"
      ]
     },
     "metadata": {},
     "execution_count": 9
    }
   ],
   "metadata": {}
  },
  {
   "cell_type": "code",
   "execution_count": 11,
   "source": [
    "filename = dirname + 'hello.py'\n",
    "os.path.isfile(filename)\n"
   ],
   "outputs": [
    {
     "output_type": "execute_result",
     "data": {
      "text/plain": [
       "True"
      ]
     },
     "metadata": {},
     "execution_count": 11
    }
   ],
   "metadata": {}
  },
  {
   "cell_type": "code",
   "execution_count": 12,
   "source": [
    "filename = dirname + '/hello.py'\n",
    "os.path.isfile(filename)"
   ],
   "outputs": [
    {
     "output_type": "execute_result",
     "data": {
      "text/plain": [
       "True"
      ]
     },
     "metadata": {},
     "execution_count": 12
    }
   ],
   "metadata": {}
  },
  {
   "cell_type": "code",
   "execution_count": 14,
   "source": [
    "def greet():\n",
    "    print(\"Hello\")\n",
    "    \n",
    "greet()"
   ],
   "outputs": [
    {
     "output_type": "stream",
     "name": "stdout",
     "text": [
      "Hello\n"
     ]
    }
   ],
   "metadata": {}
  },
  {
   "cell_type": "code",
   "execution_count": 15,
   "source": [
    "def many_types(x):\n",
    "    if x < 0:\n",
    "        return \"Hello!\"\n",
    "    else:\n",
    "        return 0\n",
    "\n",
    "print(many_types(1))\n",
    "print(many_types(-1))\n"
   ],
   "outputs": [
    {
     "output_type": "stream",
     "name": "stdout",
     "text": [
      "0\n",
      "Hello!\n"
     ]
    }
   ],
   "metadata": {}
  },
  {
   "cell_type": "code",
   "execution_count": 17,
   "source": [
    "def func(*args):\n",
    "    for i in args:\n",
    "        print(i)\n",
    "\n",
    "func(1, 2, 3)\n",
    "list_of_arg_values = [1, 2, 3]\n",
    "func(*list_of_arg_values) "
   ],
   "outputs": [
    {
     "output_type": "stream",
     "name": "stdout",
     "text": [
      "1\n",
      "2\n",
      "3\n",
      "1\n",
      "2\n",
      "3\n"
     ]
    }
   ],
   "metadata": {}
  },
  {
   "cell_type": "code",
   "execution_count": 18,
   "source": [
    "def func(**kwargs):\n",
    "    # kwargs will be a dictionary containing the names as keys and the values as values\n",
    "    for name, value in kwargs.items():\n",
    "        print(name, value)\n",
    "    \n",
    "func(value1=1, value2=2, value3=3) # Calling it with 3 arguments\n",
    "func()\n",
    "my_dict = {'foo': 1, 'bar': 2}\n",
    "func(**my_dict)\n"
   ],
   "outputs": [
    {
     "output_type": "stream",
     "name": "stdout",
     "text": [
      "value1 1\n",
      "value2 2\n",
      "value3 3\n",
      "foo 1\n",
      "bar 2\n"
     ]
    }
   ],
   "metadata": {}
  },
  {
   "cell_type": "code",
   "execution_count": 19,
   "source": [
    "#       |-positional-|-optional-|---keyword-only--|-optional-|\n",
    "def func(arg1, arg2=10 , *args, kwarg1, kwarg2=2, **kwargs):\n",
    "    pass"
   ],
   "outputs": [],
   "metadata": {}
  },
  {
   "cell_type": "code",
   "execution_count": 21,
   "source": [
    "def fn(**kwargs):\n",
    "    print(kwargs)\n",
    "    f1(**kwargs)\n",
    "def f1(**kwargs):\n",
    "    print(len(kwargs))\n",
    "\n",
    "fn(a=1, b=2)\n"
   ],
   "outputs": [
    {
     "output_type": "stream",
     "name": "stdout",
     "text": [
      "{'a': 1, 'b': 2}\n",
      "2\n"
     ]
    }
   ],
   "metadata": {}
  },
  {
   "cell_type": "code",
   "execution_count": 24,
   "source": [
    "strip_and_upper_case = lambda s: s.strip().upper()\n",
    "print(strip_and_upper_case(\"  Hello \"))\n",
    "\n",
    "greeting = lambda x, *args, **kwargs: print(x, args, kwargs)\n",
    "greeting('hello', 'world', world='world')\n"
   ],
   "outputs": [
    {
     "output_type": "stream",
     "name": "stdout",
     "text": [
      "HELLO\n",
      "hello ('world',) {'world': 'world'}\n"
     ]
    }
   ],
   "metadata": {}
  },
  {
   "cell_type": "code",
   "execution_count": 26,
   "source": [
    "sorted( [\" foo \", \" bAR\", \"BaZ \"], key=lambda s: s.strip().upper())"
   ],
   "outputs": [
    {
     "output_type": "execute_result",
     "data": {
      "text/plain": [
       "[' bAR', 'BaZ ', ' foo ']"
      ]
     },
     "metadata": {},
     "execution_count": 26
    }
   ],
   "metadata": {}
  },
  {
   "cell_type": "code",
   "execution_count": 28,
   "source": [
    "sorted( map( lambda s: s.strip().upper(), [\" foo \", \"bAR\", \"BaZ \"]))"
   ],
   "outputs": [
    {
     "output_type": "execute_result",
     "data": {
      "text/plain": [
       "['BAR', 'BAZ', 'FOO']"
      ]
     },
     "metadata": {},
     "execution_count": 28
    }
   ],
   "metadata": {}
  },
  {
   "cell_type": "code",
   "execution_count": 29,
   "source": [
    "sorted( map( lambda s: s.strip(), [\" foo \", \" bAR\", \"BaZ\"]))"
   ],
   "outputs": [
    {
     "output_type": "execute_result",
     "data": {
      "text/plain": [
       "['BaZ', 'bAR', 'foo']"
      ]
     },
     "metadata": {},
     "execution_count": 29
    }
   ],
   "metadata": {}
  },
  {
   "cell_type": "code",
   "execution_count": 30,
   "source": [
    "my_list = [3, -4, -2, 5, 1, 7]\n",
    "sorted( my_list, key=lambda x: abs(x))"
   ],
   "outputs": [
    {
     "output_type": "execute_result",
     "data": {
      "text/plain": [
       "[1, -2, 3, -4, 5, 7]"
      ]
     },
     "metadata": {},
     "execution_count": 30
    }
   ],
   "metadata": {}
  },
  {
   "cell_type": "code",
   "execution_count": 31,
   "source": [
    "list( filter( lambda x: x>0, my_list))"
   ],
   "outputs": [
    {
     "output_type": "execute_result",
     "data": {
      "text/plain": [
       "[3, 5, 1, 7]"
      ]
     },
     "metadata": {},
     "execution_count": 31
    }
   ],
   "metadata": {}
  },
  {
   "cell_type": "code",
   "execution_count": 32,
   "source": [
    "list( map( lambda x: abs(x), my_list))"
   ],
   "outputs": [
    {
     "output_type": "execute_result",
     "data": {
      "text/plain": [
       "[3, 4, 2, 5, 1, 7]"
      ]
     },
     "metadata": {},
     "execution_count": 32
    }
   ],
   "metadata": {}
  },
  {
   "cell_type": "code",
   "execution_count": 34,
   "source": [
    "def foo(msg):\n",
    "    print(msg)\n",
    "\n",
    "greet = lambda x = \"hello world\": foo(x)\n",
    "greet()"
   ],
   "outputs": [
    {
     "output_type": "stream",
     "name": "stdout",
     "text": [
      "hello world\n"
     ]
    }
   ],
   "metadata": {}
  },
  {
   "cell_type": "code",
   "execution_count": 38,
   "source": [
    "f = lambda x: 2*x\n",
    "f(2)"
   ],
   "outputs": [
    {
     "output_type": "execute_result",
     "data": {
      "text/plain": [
       "4"
      ]
     },
     "metadata": {},
     "execution_count": 38
    }
   ],
   "metadata": {}
  },
  {
   "cell_type": "code",
   "execution_count": 37,
   "source": [
    "def f(x): return 2*x\n",
    "f(2)"
   ],
   "outputs": [
    {
     "output_type": "execute_result",
     "data": {
      "text/plain": [
       "4"
      ]
     },
     "metadata": {},
     "execution_count": 37
    }
   ],
   "metadata": {}
  },
  {
   "cell_type": "code",
   "execution_count": 40,
   "source": [
    "def make(action='nothing'):\n",
    "    return action\n",
    "\n",
    "make(\"fun\")"
   ],
   "outputs": [
    {
     "output_type": "execute_result",
     "data": {
      "text/plain": [
       "'fun'"
      ]
     },
     "metadata": {},
     "execution_count": 40
    }
   ],
   "metadata": {}
  },
  {
   "cell_type": "code",
   "execution_count": 41,
   "source": [
    "make(action=\"sleep\")"
   ],
   "outputs": [
    {
     "output_type": "execute_result",
     "data": {
      "text/plain": [
       "'sleep'"
      ]
     },
     "metadata": {},
     "execution_count": 41
    }
   ],
   "metadata": {}
  },
  {
   "cell_type": "code",
   "execution_count": 42,
   "source": [
    "make()"
   ],
   "outputs": [
    {
     "output_type": "execute_result",
     "data": {
      "text/plain": [
       "'nothing'"
      ]
     },
     "metadata": {},
     "execution_count": 42
    }
   ],
   "metadata": {}
  },
  {
   "cell_type": "code",
   "execution_count": 44,
   "source": [
    "def f(a, b=42, c=[]):\n",
    "    pass\n",
    "\n",
    "print(f.__defaults__)"
   ],
   "outputs": [
    {
     "output_type": "stream",
     "name": "stdout",
     "text": [
      "(42, [])\n"
     ]
    }
   ],
   "metadata": {}
  },
  {
   "cell_type": "code",
   "execution_count": 45,
   "source": [
    "def give_me_five():\n",
    "    return 5\n",
    "\n",
    "print(give_me_five())\n",
    "print(give_me_five() + 10)\n",
    "\n",
    "def give_me_another_five():\n",
    "    return 5\n",
    "    print('This statement will not be printed. Ever.')\n",
    "\n",
    "print(give_me_another_five())\n",
    "\n",
    "def give_me_two_fives():\n",
    "    return 5, 5 \n",
    "\n",
    "first, second = give_me_two_fives()\n",
    "print(first,second)"
   ],
   "outputs": [
    {
     "output_type": "stream",
     "name": "stdout",
     "text": [
      "5\n",
      "15\n",
      "5\n",
      "5 5\n"
     ]
    }
   ],
   "metadata": {}
  },
  {
   "cell_type": "code",
   "execution_count": 46,
   "source": [
    "def makeInc(x):\n",
    "    def inc(y):\n",
    "        nonlocal x\n",
    "        # now assigning a value to x is allowed\n",
    "        x += y\n",
    "        return x\n",
    "    return inc\n",
    "    \n",
    "incOne = makeInc(1)\n",
    "incOne(5)"
   ],
   "outputs": [
    {
     "output_type": "execute_result",
     "data": {
      "text/plain": [
       "6"
      ]
     },
     "metadata": {},
     "execution_count": 46
    }
   ],
   "metadata": {}
  },
  {
   "cell_type": "code",
   "execution_count": 47,
   "source": [
    "def cursing(depth):\n",
    "    try:\n",
    "        cursing(depth + 1) # actually, re-cursing\n",
    "    except RuntimeError as RE:\n",
    "        print('I recursed {} times!'.format(depth))\n",
    "\n",
    "cursing(0)\n",
    "sys.setrecursionlimit(2000)\n",
    "cursing(0)\n"
   ],
   "outputs": [
    {
     "output_type": "stream",
     "name": "stdout",
     "text": [
      "I recursed 2972 times!\n",
      "I recursed 1972 times!\n"
     ]
    }
   ],
   "metadata": {}
  },
  {
   "cell_type": "code",
   "execution_count": 48,
   "source": [
    "lambda_factorial = lambda i:1 if i==0 else i*lambda_factorial(i-1)\n",
    "print(lambda_factorial(4)) "
   ],
   "outputs": [
    {
     "output_type": "stream",
     "name": "stdout",
     "text": [
      "24\n"
     ]
    }
   ],
   "metadata": {}
  },
  {
   "cell_type": "code",
   "execution_count": 49,
   "source": [
    "def factorial(n):\n",
    "    #n here should be an integer\n",
    "    if n == 0:\n",
    "        return 1\n",
    "    else:\n",
    "        return n*factorial(n-1)\n",
    "\n",
    "factorial(4)"
   ],
   "outputs": [
    {
     "output_type": "execute_result",
     "data": {
      "text/plain": [
       "24"
      ]
     },
     "metadata": {},
     "execution_count": 49
    }
   ],
   "metadata": {}
  },
  {
   "cell_type": "code",
   "execution_count": 51,
   "source": [
    "factorial_2 = lambda n: 1 if n == 0 else n*factorial_2(n-1)\n",
    "factorial_2(4)"
   ],
   "outputs": [
    {
     "output_type": "execute_result",
     "data": {
      "text/plain": [
       "24"
      ]
     },
     "metadata": {},
     "execution_count": 51
    }
   ],
   "metadata": {}
  },
  {
   "cell_type": "markdown",
   "source": [
    "# Functional Programming in Python"
   ],
   "metadata": {}
  },
  {
   "cell_type": "code",
   "execution_count": 53,
   "source": [
    "s = lambda x : x + x\n",
    "\n",
    "s(4)"
   ],
   "outputs": [
    {
     "output_type": "execute_result",
     "data": {
      "text/plain": [
       "8"
      ]
     },
     "metadata": {},
     "execution_count": 53
    }
   ],
   "metadata": {}
  },
  {
   "cell_type": "code",
   "execution_count": 55,
   "source": [
    "name_len = map(len, ['merlins','jimmy','Sheepman'])\n",
    "list(name_len)"
   ],
   "outputs": [
    {
     "output_type": "execute_result",
     "data": {
      "text/plain": [
       "[7, 5, 8]"
      ]
     },
     "metadata": {},
     "execution_count": 55
    }
   ],
   "metadata": {}
  },
  {
   "cell_type": "code",
   "execution_count": 58,
   "source": [
    "from functools import reduce\n",
    "total = reduce(lambda a, x: a+x,[0,1,2,3,4])\n",
    "total"
   ],
   "outputs": [
    {
     "output_type": "execute_result",
     "data": {
      "text/plain": [
       "10"
      ]
     },
     "metadata": {},
     "execution_count": 58
    }
   ],
   "metadata": {}
  },
  {
   "cell_type": "code",
   "execution_count": 59,
   "source": [
    "arr=[1,2,3,4,5,6]\n",
    "[i for i in filter(lambda x:x>4,arr)]"
   ],
   "outputs": [
    {
     "output_type": "execute_result",
     "data": {
      "text/plain": [
       "[5, 6]"
      ]
     },
     "metadata": {},
     "execution_count": 59
    }
   ],
   "metadata": {}
  },
  {
   "cell_type": "code",
   "execution_count": 64,
   "source": [
    "def super_secret_fucntion(f):\n",
    "    return f\n",
    "\n",
    "@super_secret_fucntion\n",
    "def my_function():\n",
    "    print(\"This is my secret function.\")\n",
    "\n",
    "\n",
    "my_function()"
   ],
   "outputs": [
    {
     "output_type": "stream",
     "name": "stdout",
     "text": [
      "This is my secret function.\n"
     ]
    }
   ],
   "metadata": {}
  },
  {
   "cell_type": "code",
   "execution_count": 66,
   "source": [
    "def print_args(func):\n",
    "    def inner_func(*args, **kwargs):\n",
    "        print(args)\n",
    "        print(kwargs)\n",
    "        return func(*args, **kwargs) #Call the original function with its arguments.\n",
    "    return inner_func\n",
    "\n",
    "\n",
    "@print_args\n",
    "def multiply(num_a, num_b):\n",
    "    return num_a * num_b\n",
    "\n",
    "multiply(3, 5)"
   ],
   "outputs": [
    {
     "output_type": "stream",
     "name": "stdout",
     "text": [
      "(3, 5)\n",
      "{}\n"
     ]
    },
    {
     "output_type": "execute_result",
     "data": {
      "text/plain": [
       "15"
      ]
     },
     "metadata": {},
     "execution_count": 66
    }
   ],
   "metadata": {}
  },
  {
   "cell_type": "code",
   "execution_count": 67,
   "source": [
    "class Decorator(object):\n",
    "    \"\"\"Simple decorator class.\"\"\"\n",
    "    def __init__(self, func):\n",
    "        self.func = func\n",
    "    def __call__(self, *args, **kwargs):\n",
    "        print('Before the function call.')\n",
    "        res = self.func(*args, **kwargs)\n",
    "        print('After the function call.')\n",
    "        return res\n",
    "\n",
    "@Decorator\n",
    "def testfunc():\n",
    "    print('Inside the function.')\n",
    "testfunc()\n"
   ],
   "outputs": [
    {
     "output_type": "stream",
     "name": "stdout",
     "text": [
      "Before the function call.\n",
      "Inside the function.\n",
      "After the function call.\n"
     ]
    }
   ],
   "metadata": {}
  },
  {
   "cell_type": "code",
   "execution_count": 68,
   "source": [
    "from types import MethodType\n",
    "class CountCallsDecorator(object):\n",
    "\n",
    "    def __init__(self, func):\n",
    "        self.func = func\n",
    "        self.ncalls = 0\n",
    "\n",
    "    # Number of calls of this method\n",
    "    def __call__(self, *args, **kwargs):\n",
    "        self.ncalls += 1\n",
    "        # Increment the calls counter\n",
    "        return self.func(*args, **kwargs)\n",
    "\n",
    "    def __get__(self, instance, cls):\n",
    "        return self if instance is None else MethodType(self, instance)\n",
    "\n",
    "class Test(object):\n",
    "\n",
    "    def __init__(self):\n",
    "        pass\n",
    "\n",
    "    @CountCallsDecorator\n",
    "    def do_something(self):\n",
    "        return 'something was done'\n",
    "\n",
    "a = Test()\n",
    "a.do_something()\n",
    "a.do_something.ncalls\n",
    "b = Test()\n",
    "b.do_something()\n",
    "b.do_something.ncalls"
   ],
   "outputs": [
    {
     "output_type": "execute_result",
     "data": {
      "text/plain": [
       "2"
      ]
     },
     "metadata": {},
     "execution_count": 68
    }
   ],
   "metadata": {}
  },
  {
   "cell_type": "code",
   "execution_count": 70,
   "source": [
    "def decoratorfactory(message):\n",
    "    def decorator(func):\n",
    "        def wrapped_func(*args, **kwargs):\n",
    "            print('The decorator wants to tell you: {}'.format(message))\n",
    "            return func(*args, **kwargs)\n",
    "        return wrapped_func\n",
    "    return decorator\n",
    "\n",
    "@decoratorfactory('Hello World')\n",
    "def test():\n",
    "    pass\n",
    "\n",
    "test()"
   ],
   "outputs": [
    {
     "output_type": "stream",
     "name": "stdout",
     "text": [
      "The decorator wants to tell you: Hello World\n"
     ]
    }
   ],
   "metadata": {}
  },
  {
   "cell_type": "code",
   "execution_count": 71,
   "source": [
    "def decoratorfactory(*decorator_args, **decorator_kwargs):\n",
    "\n",
    "    class Decorator(object):\n",
    "\n",
    "        def __init__(self, func):\n",
    "            self.func = func\n",
    "\n",
    "        def __call__(self, *args, **kwargs):\n",
    "            print('Inside the decorator with arguments {}'.format(decorator_args))\n",
    "            return self.func(*args, **kwargs)\n",
    "\n",
    "    return Decorator\n",
    "\n",
    "@decoratorfactory(10)\n",
    "def test():\n",
    "    pass\n",
    "\n",
    "test()\n"
   ],
   "outputs": [
    {
     "output_type": "stream",
     "name": "stdout",
     "text": [
      "Inside the decorator with arguments (10,)\n"
     ]
    }
   ],
   "metadata": {}
  },
  {
   "cell_type": "code",
   "execution_count": 73,
   "source": [
    "class Decorator(object):\n",
    "\n",
    "    def __init__(self, func):\n",
    "        # Copies name, module, annotations and docstring to the instance.\n",
    "        self._wrapped = wraps(func)(self)\n",
    "        \n",
    "    def __call__(self, *args, **kwargs):\n",
    "        return self._wrapped(*args, **kwargs)\n",
    "\n",
    "\n",
    "@Decorator\n",
    "def test():\n",
    "    \"\"\"Docstring of test.\"\"\"\n",
    "    pass\n",
    "\n",
    "test.__doc__\n"
   ],
   "outputs": [
    {
     "output_type": "execute_result",
     "data": {
      "text/plain": [
       "'Docstring of test.'"
      ]
     },
     "metadata": {},
     "execution_count": 73
    }
   ],
   "metadata": {}
  },
  {
   "cell_type": "code",
   "execution_count": 9,
   "source": [
    "class Person(object):\n",
    "    \"\"\"A simple class.\"\"\"\n",
    "    species = \"homo sapiens\"\n",
    "\n",
    "    def __init__(self,name):\n",
    "        \"\"\"This is the initializer. It's a special method (see below).\"\"\"\n",
    "        self.name = name\n",
    "    \n",
    "    def __str__(self):\n",
    "        \"\"\"This method is run when Python tries to cast the object to a string. Return\n",
    "        this string when using print(), etc. \"\"\"\n",
    "        return self.name\n",
    "    \n",
    "    def rename(self, renamed):\n",
    "        self.name = renamed\n",
    "        print(\"Now my name is {}\".format(self.name))"
   ],
   "outputs": [],
   "metadata": {}
  },
  {
   "cell_type": "code",
   "execution_count": 15,
   "source": [
    "merlins = Person(\"merlins\")\n",
    "merlins.name"
   ],
   "outputs": [
    {
     "output_type": "execute_result",
     "data": {
      "text/plain": [
       "'merlins'"
      ]
     },
     "metadata": {},
     "execution_count": 15
    }
   ],
   "metadata": {}
  },
  {
   "cell_type": "code",
   "execution_count": 12,
   "source": [
    "merlins.rename(\"jimmy\")"
   ],
   "outputs": [
    {
     "output_type": "stream",
     "name": "stdout",
     "text": [
      "Now my name is jimmy\n"
     ]
    }
   ],
   "metadata": {}
  },
  {
   "cell_type": "code",
   "execution_count": 13,
   "source": [
    "merlins.name"
   ],
   "outputs": [
    {
     "output_type": "execute_result",
     "data": {
      "text/plain": [
       "'jimmy'"
      ]
     },
     "metadata": {},
     "execution_count": 13
    }
   ],
   "metadata": {}
  },
  {
   "cell_type": "code",
   "execution_count": 16,
   "source": [
    "class D(object):\n",
    "    multiplier = 2\n",
    "    @classmethod\n",
    "    def f(cls, x):\n",
    "        return cls.multiplier * x\n",
    "    @staticmethod\n",
    "    def g(name):\n",
    "        print(\"Hello, %s\" % name)"
   ],
   "outputs": [],
   "metadata": {}
  },
  {
   "cell_type": "code",
   "execution_count": 17,
   "source": [
    "D.f"
   ],
   "outputs": [
    {
     "output_type": "execute_result",
     "data": {
      "text/plain": [
       "<bound method D.f of <class '__main__.D'>>"
      ]
     },
     "metadata": {},
     "execution_count": 17
    }
   ],
   "metadata": {}
  },
  {
   "cell_type": "code",
   "execution_count": 18,
   "source": [
    "D.f(12)"
   ],
   "outputs": [
    {
     "output_type": "execute_result",
     "data": {
      "text/plain": [
       "24"
      ]
     },
     "metadata": {},
     "execution_count": 18
    }
   ],
   "metadata": {}
  },
  {
   "cell_type": "code",
   "execution_count": 19,
   "source": [
    "D.g(\"hellooo\")"
   ],
   "outputs": [
    {
     "output_type": "stream",
     "name": "stdout",
     "text": [
      "Hello, hellooo\n"
     ]
    }
   ],
   "metadata": {}
  },
  {
   "cell_type": "code",
   "execution_count": 20,
   "source": [
    "class BaseClass(object):\n",
    "    pass\n",
    "class DerivedClass(BaseClass):\n",
    "    pass"
   ],
   "outputs": [],
   "metadata": {}
  },
  {
   "cell_type": "code",
   "execution_count": 21,
   "source": [
    "class Rectangle():\n",
    "    def __init__(self,w,h):\n",
    "        self.w = w\n",
    "        self.h = h\n",
    "    def area(self):\n",
    "        return self.w * self.h\n",
    "    def perimeter(self):\n",
    "        return 2 * (self.h + self.w)"
   ],
   "outputs": [],
   "metadata": {}
  },
  {
   "cell_type": "code",
   "execution_count": 22,
   "source": [
    "class Square(Rectangle):\n",
    "    def __init__(self,s):\n",
    "        super(Square, self).__init__(s,s)\n",
    "        self.s=s"
   ],
   "outputs": [],
   "metadata": {}
  },
  {
   "cell_type": "code",
   "execution_count": 24,
   "source": [
    "r = Rectangle(4,3)"
   ],
   "outputs": [],
   "metadata": {}
  },
  {
   "cell_type": "code",
   "execution_count": 26,
   "source": [
    "r.area()"
   ],
   "outputs": [
    {
     "output_type": "execute_result",
     "data": {
      "text/plain": [
       "12"
      ]
     },
     "metadata": {},
     "execution_count": 26
    }
   ],
   "metadata": {}
  },
  {
   "cell_type": "code",
   "execution_count": 27,
   "source": [
    "r.perimeter()"
   ],
   "outputs": [
    {
     "output_type": "execute_result",
     "data": {
      "text/plain": [
       "14"
      ]
     },
     "metadata": {},
     "execution_count": 27
    }
   ],
   "metadata": {}
  },
  {
   "cell_type": "code",
   "execution_count": 28,
   "source": [
    "s = Square(2)"
   ],
   "outputs": [],
   "metadata": {}
  },
  {
   "cell_type": "code",
   "execution_count": 29,
   "source": [
    "s.area()"
   ],
   "outputs": [
    {
     "output_type": "execute_result",
     "data": {
      "text/plain": [
       "4"
      ]
     },
     "metadata": {},
     "execution_count": 29
    }
   ],
   "metadata": {}
  },
  {
   "cell_type": "code",
   "execution_count": 30,
   "source": [
    "s.perimeter()"
   ],
   "outputs": [
    {
     "output_type": "execute_result",
     "data": {
      "text/plain": [
       "8"
      ]
     },
     "metadata": {},
     "execution_count": 30
    }
   ],
   "metadata": {}
  },
  {
   "cell_type": "code",
   "execution_count": 31,
   "source": [
    "issubclass(Square, Rectangle)"
   ],
   "outputs": [
    {
     "output_type": "execute_result",
     "data": {
      "text/plain": [
       "True"
      ]
     },
     "metadata": {},
     "execution_count": 31
    }
   ],
   "metadata": {}
  },
  {
   "cell_type": "code",
   "execution_count": 32,
   "source": [
    "isinstance(r, Rectangle)"
   ],
   "outputs": [
    {
     "output_type": "execute_result",
     "data": {
      "text/plain": [
       "True"
      ]
     },
     "metadata": {},
     "execution_count": 32
    }
   ],
   "metadata": {}
  },
  {
   "cell_type": "code",
   "execution_count": 33,
   "source": [
    "isinstance(r, Square)"
   ],
   "outputs": [
    {
     "output_type": "execute_result",
     "data": {
      "text/plain": [
       "False"
      ]
     },
     "metadata": {},
     "execution_count": 33
    }
   ],
   "metadata": {}
  },
  {
   "cell_type": "code",
   "execution_count": 34,
   "source": [
    "isinstance(s, Rectangle)"
   ],
   "outputs": [
    {
     "output_type": "execute_result",
     "data": {
      "text/plain": [
       "True"
      ]
     },
     "metadata": {},
     "execution_count": 34
    }
   ],
   "metadata": {}
  },
  {
   "cell_type": "code",
   "execution_count": 35,
   "source": [
    "\n",
    "isinstance(s, Square)"
   ],
   "outputs": [
    {
     "output_type": "execute_result",
     "data": {
      "text/plain": [
       "True"
      ]
     },
     "metadata": {},
     "execution_count": 35
    }
   ],
   "metadata": {}
  },
  {
   "cell_type": "code",
   "execution_count": 36,
   "source": [
    "class A(object):\n",
    "    def __init__(self, num):\n",
    "        self.num = num\n",
    "    def __add__(self, other):\n",
    "        return A(self.num + other.num)"
   ],
   "outputs": [],
   "metadata": {}
  },
  {
   "cell_type": "code",
   "execution_count": 37,
   "source": [
    "def get_number(self):\n",
    "    return self.num"
   ],
   "outputs": [],
   "metadata": {}
  },
  {
   "cell_type": "code",
   "execution_count": 40,
   "source": [
    "A.get_num = get_number"
   ],
   "outputs": [],
   "metadata": {}
  },
  {
   "cell_type": "code",
   "execution_count": 41,
   "source": [
    "foo = A(31)\n"
   ],
   "outputs": [],
   "metadata": {}
  },
  {
   "cell_type": "code",
   "execution_count": 43,
   "source": [
    "foo.get_num()"
   ],
   "outputs": [
    {
     "output_type": "execute_result",
     "data": {
      "text/plain": [
       "31"
      ]
     },
     "metadata": {},
     "execution_count": 43
    }
   ],
   "metadata": {}
  },
  {
   "cell_type": "code",
   "execution_count": 44,
   "source": [
    "class Person(object):\n",
    "        \n",
    "    def __init__(self, first_name, last_name, age):\n",
    "        self.first_name = first_name\n",
    "        self.last_name = last_name\n",
    "        self.age = age\n",
    "        self.full_name = first_name + \" \" + last_name\n",
    "\n",
    "    @classmethod\n",
    "    def from_full_name(cls, name, age):\n",
    "        if \" \" not in name:\n",
    "            raise ValueError\n",
    "        first_name, last_name = name.split(\" \", 2)\n",
    "        return cls(first_name, last_name, age)\n",
    "    def greet(self):\n",
    "        print(\"Hello, my name is \" + self.full_name + \".\")\n"
   ],
   "outputs": [],
   "metadata": {}
  },
  {
   "cell_type": "code",
   "execution_count": 46,
   "source": [
    "bob = Person(\"Bob\", \"Bobberson\", 42)\n",
    "alice = Person.from_full_name(\"Alice Henderson\", 31)\n",
    "bob.greet()"
   ],
   "outputs": [
    {
     "output_type": "stream",
     "name": "stdout",
     "text": [
      "Hello, my name is Bob Bobberson.\n"
     ]
    }
   ],
   "metadata": {}
  },
  {
   "cell_type": "code",
   "execution_count": 47,
   "source": [
    "alice.greet()"
   ],
   "outputs": [
    {
     "output_type": "stream",
     "name": "stdout",
     "text": [
      "Hello, my name is Alice Henderson.\n"
     ]
    }
   ],
   "metadata": {}
  },
  {
   "cell_type": "code",
   "execution_count": 48,
   "source": [
    "class Foo(object):\n",
    "    foo = 'attr foo of Foo'\n",
    "class Bar(object):\n",
    "    foo = 'attr foo of Bar'\n",
    "    bar = 'attr bar of Bar'\n",
    "class FooBar(Foo, Bar):\n",
    "    foobar = 'attr foobar of FooBar'"
   ],
   "outputs": [],
   "metadata": {}
  },
  {
   "cell_type": "code",
   "execution_count": 50,
   "source": [
    "fb = FooBar()\n",
    "fb.foo"
   ],
   "outputs": [
    {
     "output_type": "execute_result",
     "data": {
      "text/plain": [
       "'attr foo of Foo'"
      ]
     },
     "metadata": {},
     "execution_count": 50
    }
   ],
   "metadata": {}
  },
  {
   "cell_type": "code",
   "execution_count": 52,
   "source": [
    "class MyClass(object):\n",
    "\n",
    "    def __init__(self):\n",
    "        self._my_string = \"\"\n",
    "\n",
    "    @property\n",
    "    def string(self):\n",
    "        \"\"\"A profoundly important string.\"\"\"\n",
    "        return self._my_string\n",
    "\n",
    "    @string.setter\n",
    "    def string(self, new_value):\n",
    "        assert isinstance(new_value, str), \\\n",
    "        \"Give me a string, not a %r!\" % type(new_value)\n",
    "        self._my_string = new_value\n",
    "\n",
    "    @string.deleter\n",
    "    def x(self):\n",
    "        self._my_string = None\n",
    "\n",
    "mc = MyClass()\n",
    "mc.string = \"String!\"\n",
    "print(mc.string)\n",
    "# del mc.string // AttributeError: can't delete attribute"
   ],
   "outputs": [
    {
     "output_type": "stream",
     "name": "stdout",
     "text": [
      "String!\n"
     ]
    }
   ],
   "metadata": {}
  },
  {
   "cell_type": "code",
   "execution_count": 54,
   "source": [
    "class Rectangle(object):\n",
    "\n",
    "    def __init__(self, width, height, color='blue'):\n",
    "        self.width = width\n",
    "        self.height = height\n",
    "        self.color = color\n",
    "\n",
    "    def area(self):\n",
    "       return self.width * self.height\n",
    "\n",
    "\n",
    "\n",
    "default_rectangle = Rectangle(2, 3)\n",
    "print(default_rectangle.color)\n",
    "red_rectangle = Rectangle(2, 3, 'red')\n",
    "print(red_rectangle.color)"
   ],
   "outputs": [
    {
     "output_type": "stream",
     "name": "stdout",
     "text": [
      "blue\n",
      "red\n"
     ]
    }
   ],
   "metadata": {}
  },
  {
   "cell_type": "code",
   "execution_count": 62,
   "source": [
    "class Singleton:\n",
    "    \"\"\"\n",
    "    A non-thread-safe helper class to ease implementing singletons.\n",
    "    This should be used as a decorator -- not a metaclass -- to the\n",
    "    class that should be a singleton.\n",
    "    The decorated class can define one `__init__` function that\n",
    "    takes only the `self` argument. Other than that, there are\n",
    "    no restrictions that apply to the decorated class.\n",
    "    To get the singleton instance, use the `Instance` method. Trying\n",
    "    to use `__call__` will result in a `TypeError` being raised.\n",
    "    Limitations: The decorated class cannot be inherited from.\n",
    "    \"\"\"\n",
    "    def __init__(self, decorated):\n",
    "        self._decorated = decorated\n",
    "\n",
    "    def Instance(self):\n",
    "        \"\"\"\n",
    "        Returns the singleton instance. Upon its first call, it creates a\n",
    "        new instance of the decorated class and calls its `__init__` method.\n",
    "        On all subsequent calls, the already created instance is returned.\n",
    "        \"\"\"\n",
    "        try:\n",
    "            return self._instance\n",
    "        except AttributeError:\n",
    "            self._instance = self._decorated()\n",
    "            return self._instance\n",
    "\n",
    "    def __call__(self):\n",
    "        raise TypeError('Singletons must be accessed through `Instance()`.')\n",
    "        \n",
    "    def __instancecheck__(self, inst):\n",
    "        return isinstance(inst, self._decorated)\n"
   ],
   "outputs": [],
   "metadata": {}
  },
  {
   "cell_type": "code",
   "execution_count": 64,
   "source": [
    "@Singleton\n",
    "class Single:\n",
    "    def __init__(self):\n",
    "        self.name=None\n",
    "        self.val=0\n",
    "    def getName(self):\n",
    "        print(self.name)\n",
    "\n",
    "\n",
    "x=Single.Instance()\n",
    "y=Single.Instance()\n",
    "x.name='I\\'m single'\n",
    "x.getName()\n",
    "y.getName() \n"
   ],
   "outputs": [
    {
     "output_type": "stream",
     "name": "stdout",
     "text": [
      "I'm single\n",
      "I'm single\n"
     ]
    }
   ],
   "metadata": {}
  },
  {
   "cell_type": "code",
   "execution_count": 66,
   "source": [
    "foo = 1\n",
    "bar = 'bar'\n",
    "baz = 3.14\n",
    "print('{}, {} and {}'.format(foo, bar, baz))\n",
    "print('{0}, {1}, {2}, and {1}'.format(foo, bar, baz))\n",
    "# print('{0}, {1}, {2}, and {3}'.format(foo, bar, baz)) Error"
   ],
   "outputs": [
    {
     "output_type": "stream",
     "name": "stdout",
     "text": [
      "1, bar and 3.14\n",
      "1, bar, 3.14, and bar\n"
     ]
    }
   ],
   "metadata": {}
  },
  {
   "cell_type": "code",
   "execution_count": 67,
   "source": [
    "print(\"X value is: {x_val}. Y value is: {y_val}.\".format(x_val=2, y_val=3))"
   ],
   "outputs": [
    {
     "output_type": "stream",
     "name": "stdout",
     "text": [
      "X value is: 2. Y value is: 3.\n"
     ]
    }
   ],
   "metadata": {}
  },
  {
   "cell_type": "code",
   "execution_count": 68,
   "source": [
    "class AssignValue(object):\n",
    "    def __init__(self, value):\n",
    "        self.value = value\n",
    "    \n",
    "my_value = AssignValue(6)\n",
    "print('My value is: {0.value}'.format(my_value))\n",
    " "
   ],
   "outputs": [
    {
     "output_type": "stream",
     "name": "stdout",
     "text": [
      "My value is: 6\n"
     ]
    }
   ],
   "metadata": {}
  },
  {
   "cell_type": "code",
   "execution_count": 69,
   "source": [
    "my_dict = {'key': 6, 'other_key': 7}\n",
    "print(\"My other key is: {0[other_key]}\".format(my_dict))"
   ],
   "outputs": [
    {
     "output_type": "stream",
     "name": "stdout",
     "text": [
      "My other key is: 7\n"
     ]
    }
   ],
   "metadata": {}
  },
  {
   "cell_type": "code",
   "execution_count": 70,
   "source": [
    "my_list = ['zero', 'one', 'two']\n",
    "print(\"2nd element is: {0[2]}\".format(my_list))"
   ],
   "outputs": [
    {
     "output_type": "stream",
     "name": "stdout",
     "text": [
      "2nd element is: two\n"
     ]
    }
   ],
   "metadata": {}
  },
  {
   "cell_type": "code",
   "execution_count": 71,
   "source": [
    "'{:~^20}'.format('centered')"
   ],
   "outputs": [
    {
     "output_type": "execute_result",
     "data": {
      "text/plain": [
       "'~~~~~~centered~~~~~~'"
      ]
     },
     "metadata": {},
     "execution_count": 71
    }
   ],
   "metadata": {}
  },
  {
   "cell_type": "code",
   "execution_count": 75,
   "source": [
    "'{:~<9s}, World'.format('Hello')"
   ],
   "outputs": [
    {
     "output_type": "execute_result",
     "data": {
      "text/plain": [
       "'Hello~~~~, World'"
      ]
     },
     "metadata": {},
     "execution_count": 75
    }
   ],
   "metadata": {}
  },
  {
   "cell_type": "code",
   "execution_count": 76,
   "source": [
    "'{:~>9s}, World'.format('Hello')"
   ],
   "outputs": [
    {
     "output_type": "execute_result",
     "data": {
      "text/plain": [
       "'~~~~Hello, World'"
      ]
     },
     "metadata": {},
     "execution_count": 76
    }
   ],
   "metadata": {}
  },
  {
   "cell_type": "code",
   "execution_count": 77,
   "source": [
    "'{:~^9s}'.format('Hello')"
   ],
   "outputs": [
    {
     "output_type": "execute_result",
     "data": {
      "text/plain": [
       "'~~Hello~~'"
      ]
     },
     "metadata": {},
     "execution_count": 77
    }
   ],
   "metadata": {}
  },
  {
   "cell_type": "code",
   "execution_count": 78,
   "source": [
    "'{:0=6d}'.format(-123)"
   ],
   "outputs": [
    {
     "output_type": "execute_result",
     "data": {
      "text/plain": [
       "'-00123'"
      ]
     },
     "metadata": {},
     "execution_count": 78
    }
   ],
   "metadata": {}
  },
  {
   "cell_type": "code",
   "execution_count": 79,
   "source": [
    "foo = 'bar'"
   ],
   "outputs": [],
   "metadata": {}
  },
  {
   "cell_type": "code",
   "execution_count": 81,
   "source": [
    "f'Foo is {foo}'"
   ],
   "outputs": [
    {
     "output_type": "execute_result",
     "data": {
      "text/plain": [
       "'Foo is bar'"
      ]
     },
     "metadata": {},
     "execution_count": 81
    }
   ],
   "metadata": {}
  },
  {
   "cell_type": "code",
   "execution_count": 82,
   "source": [
    "f'{foo:^7s}'"
   ],
   "outputs": [
    {
     "output_type": "execute_result",
     "data": {
      "text/plain": [
       "'  bar  '"
      ]
     },
     "metadata": {},
     "execution_count": 82
    }
   ],
   "metadata": {}
  },
  {
   "cell_type": "code",
   "execution_count": 84,
   "source": [
    "price = 478.23\n",
    "f\"{f'${price:0.2f}':*>20s}\""
   ],
   "outputs": [
    {
     "output_type": "execute_result",
     "data": {
      "text/plain": [
       "'*************$478.23'"
      ]
     },
     "metadata": {},
     "execution_count": 84
    }
   ],
   "metadata": {}
  },
  {
   "cell_type": "code",
   "execution_count": 85,
   "source": [
    "'{0:.0f}'.format(42.12345)"
   ],
   "outputs": [
    {
     "output_type": "execute_result",
     "data": {
      "text/plain": [
       "'42'"
      ]
     },
     "metadata": {},
     "execution_count": 85
    }
   ],
   "metadata": {}
  },
  {
   "cell_type": "code",
   "execution_count": 86,
   "source": [
    "'{0:.5f}'.format(42.12345)"
   ],
   "outputs": [
    {
     "output_type": "execute_result",
     "data": {
      "text/plain": [
       "'42.12345'"
      ]
     },
     "metadata": {},
     "execution_count": 86
    }
   ],
   "metadata": {}
  },
  {
   "cell_type": "code",
   "execution_count": 89,
   "source": [
    "data = {'first': 'Hodor', 'last': 'Hodor!'}\n",
    "'{first} {last}'.format_map(data)"
   ],
   "outputs": [
    {
     "output_type": "execute_result",
     "data": {
      "text/plain": [
       "'Hodor Hodor!'"
      ]
     },
     "metadata": {},
     "execution_count": 89
    }
   ],
   "metadata": {}
  },
  {
   "cell_type": "code",
   "execution_count": 90,
   "source": [
    "'{:d}'.format(0x0a)"
   ],
   "outputs": [
    {
     "output_type": "execute_result",
     "data": {
      "text/plain": [
       "'10'"
      ]
     },
     "metadata": {},
     "execution_count": 90
    }
   ],
   "metadata": {}
  },
  {
   "cell_type": "code",
   "execution_count": 91,
   "source": [
    "'{:.>10}'.format('foo')"
   ],
   "outputs": [
    {
     "output_type": "execute_result",
     "data": {
      "text/plain": [
       "'.......foo'"
      ]
     },
     "metadata": {},
     "execution_count": 91
    }
   ],
   "metadata": {}
  },
  {
   "cell_type": "code",
   "execution_count": 92,
   "source": [
    "'{:.>{}}'.format('foo', 10)"
   ],
   "outputs": [
    {
     "output_type": "execute_result",
     "data": {
      "text/plain": [
       "'.......foo'"
      ]
     },
     "metadata": {},
     "execution_count": 92
    }
   ],
   "metadata": {}
  },
  {
   "cell_type": "code",
   "execution_count": 93,
   "source": [
    "'{:{}{}{}}'.format('foo', '*', '^', 15)"
   ],
   "outputs": [
    {
     "output_type": "execute_result",
     "data": {
      "text/plain": [
       "'******foo******'"
      ]
     },
     "metadata": {},
     "execution_count": 93
    }
   ],
   "metadata": {}
  },
  {
   "cell_type": "code",
   "execution_count": 100,
   "source": [
    "print(\"XßΣ\".casefold())\n",
    "print(\"XßΣ\".lower())\n",
    "print(\"This is a 'string'.\".upper())\n",
    "print(\"This IS a 'string'.\".lower())\n",
    "print(\"this Is A 'String'.\".capitalize())\n",
    "print(\"this Is a 'String'\".title())\n",
    "print(\"this iS A STRiNG\".swapcase())\n",
    "print(str.upper(\"This is a 'string'\"))"
   ],
   "outputs": [
    {
     "output_type": "stream",
     "name": "stdout",
     "text": [
      "xssσ\n",
      "xßς\n",
      "THIS IS A 'STRING'.\n",
      "this is a 'string'.\n",
      "This is a 'string'.\n",
      "This Is A 'String'\n",
      "THIS Is a strIng\n",
      "THIS IS A 'STRING'\n"
     ]
    }
   ],
   "metadata": {}
  },
  {
   "cell_type": "code",
   "execution_count": 102,
   "source": [
    "translation_table = str.maketrans(\"aeiou\", \"12345\")\n",
    "my_string = \"This is a string!\"\n",
    "translated = my_string.translate(translation_table)\n",
    "translated"
   ],
   "outputs": [
    {
     "output_type": "execute_result",
     "data": {
      "text/plain": [
       "'Th3s 3s 1 str3ng!'"
      ]
     },
     "metadata": {},
     "execution_count": 102
    }
   ],
   "metadata": {}
  },
  {
   "cell_type": "code",
   "execution_count": 106,
   "source": [
    "import string\n",
    "\n",
    "print(string.ascii_letters)\n",
    "print(string.ascii_lowercase)\n",
    "print(string.ascii_uppercase)\n",
    "print(string.digits)\n",
    "print(string.hexdigits)\n",
    "print(string.punctuation)\n",
    "print(string.whitespace)\n",
    "print(string.printable)"
   ],
   "outputs": [
    {
     "output_type": "stream",
     "name": "stdout",
     "text": [
      "abcdefghijklmnopqrstuvwxyzABCDEFGHIJKLMNOPQRSTUVWXYZ\n",
      "abcdefghijklmnopqrstuvwxyz\n",
      "ABCDEFGHIJKLMNOPQRSTUVWXYZ\n",
      "0123456789\n",
      "0123456789abcdefABCDEF\n",
      "!\"#$%&'()*+,-./:;<=>?@[\\]^_`{|}~\n",
      " \t\n",
      "\u000b\f\n",
      "0123456789abcdefghijklmnopqrstuvwxyzABCDEFGHIJKLMNOPQRSTUVWXYZ!\"#$%&'()*+,-./:;<=>?@[\\]^_`{|}~ \t\n",
      "\u000b\f\n"
     ]
    }
   ],
   "metadata": {}
  },
  {
   "cell_type": "code",
   "execution_count": 108,
   "source": [
    "\">>> a Python prompt\".strip('> ')"
   ],
   "outputs": [
    {
     "output_type": "execute_result",
     "data": {
      "text/plain": [
       "'a Python prompt'"
      ]
     },
     "metadata": {},
     "execution_count": 108
    }
   ],
   "metadata": {}
  },
  {
   "cell_type": "code",
   "execution_count": 110,
   "source": [
    "[char for char in reversed('hello')]"
   ],
   "outputs": [
    {
     "output_type": "execute_result",
     "data": {
      "text/plain": [
       "['o', 'l', 'l', 'e', 'h']"
      ]
     },
     "metadata": {},
     "execution_count": 110
    }
   ],
   "metadata": {}
  },
  {
   "cell_type": "code",
   "execution_count": 111,
   "source": [
    "''.join(reversed('hello'))"
   ],
   "outputs": [
    {
     "output_type": "execute_result",
     "data": {
      "text/plain": [
       "'olleh'"
      ]
     },
     "metadata": {},
     "execution_count": 111
    }
   ],
   "metadata": {}
  },
  {
   "cell_type": "code",
   "execution_count": 112,
   "source": [
    "\"This is a sentence.\".split()"
   ],
   "outputs": [
    {
     "output_type": "execute_result",
     "data": {
      "text/plain": [
       "['This', 'is', 'a', 'sentence.']"
      ]
     },
     "metadata": {},
     "execution_count": 112
    }
   ],
   "metadata": {}
  },
  {
   "cell_type": "code",
   "execution_count": 113,
   "source": [
    "\"This is a sentence.\".split('en')"
   ],
   "outputs": [
    {
     "output_type": "execute_result",
     "data": {
      "text/plain": [
       "['This is a s', 't', 'ce.']"
      ]
     },
     "metadata": {},
     "execution_count": 113
    }
   ],
   "metadata": {}
  },
  {
   "cell_type": "code",
   "execution_count": 114,
   "source": [
    "\"This is a sentence.\".split('e', maxsplit=2)\n"
   ],
   "outputs": [
    {
     "output_type": "execute_result",
     "data": {
      "text/plain": [
       "['This is a s', 'nt', 'nce.']"
      ]
     },
     "metadata": {},
     "execution_count": 114
    }
   ],
   "metadata": {}
  },
  {
   "cell_type": "code",
   "execution_count": 115,
   "source": [
    "\"Make sure to foo your sentence.\".replace('foo', 'spam')"
   ],
   "outputs": [
    {
     "output_type": "execute_result",
     "data": {
      "text/plain": [
       "'Make sure to spam your sentence.'"
      ]
     },
     "metadata": {},
     "execution_count": 115
    }
   ],
   "metadata": {}
  },
  {
   "cell_type": "code",
   "execution_count": 116,
   "source": [
    "def func(params):\n",
    "    for value in params:\n",
    "        print ('Got value {}'.format(value))\n",
    "        if value == 1:\n",
    "            # Returns from function as soon as value is 1\n",
    "            print (\">>>> Got 1\")\n",
    "            return\n",
    "        print (\"Still looping\")\n",
    "    return \"Couldn't find 1\"\n",
    "\n",
    "func([5, 3, 1, 2, 8, 9])\n"
   ],
   "outputs": [
    {
     "output_type": "stream",
     "name": "stdout",
     "text": [
      "Got value 5\n",
      "Still looping\n",
      "Got value 3\n",
      "Still looping\n",
      "Got value 1\n",
      ">>>> Got 1\n"
     ]
    }
   ],
   "metadata": {}
  },
  {
   "cell_type": "code",
   "execution_count": 119,
   "source": [
    "import random\n",
    "import numpy as np\n",
    "from math import sin\n",
    "from urllib.request import urlopen\n",
    "from hello import *\n",
    "import time, random\n",
    "from urllib.request import urlopen as geturl, pathname2url as path2url, getproxies\n",
    "from math import factorial as fact, gamma, atan as arctan\n",
    "from math import *"
   ],
   "outputs": [],
   "metadata": {}
  },
  {
   "cell_type": "code",
   "execution_count": 120,
   "source": [
    "# PEP8 rules for Imports\n",
    "from math import sqrt, ceil # Not recommended\n",
    "from math import sqrt       # Recommended\n",
    "from math import ceil"
   ],
   "outputs": [],
   "metadata": {}
  },
  {
   "cell_type": "code",
   "execution_count": 3,
   "source": [
    "import sys\n",
    "import math\n",
    "import cmath\n",
    "from math import pow\n",
    "x = 1.55\n",
    "y = -1.55\n",
    "z = 1 + 3j\n",
    "w = 1-7j \n",
    "pos_inf = float('inf')# positive infinity\n",
    "neg_inf = float('-inf')# negative infinity\n",
    "not_a_num = float('nan')# NaN (\"not a number\")"
   ],
   "outputs": [],
   "metadata": {}
  },
  {
   "cell_type": "code",
   "execution_count": 4,
   "source": [
    "print(round(x))\n",
    "print(round(y))\n",
    "print(round(x,1))\n",
    "print(round(y,1))\n",
    "print(math.floor(x))\n",
    "print(math.floor(y))\n",
    "print(math.ceil(x))\n",
    "print(math.ceil(y))\n",
    "print(math.trunc(x))\n",
    "print(math.trunc(y))\n",
    "print(round(1.3))\n",
    "print(round(1.33, 1))\n",
    "print(round(2.675, 2))\n",
    "print(math.hypot(2, 4) )\n",
    "print(math.radians(45))\n",
    "print(math.degrees(math.asin(1)) )\n",
    "print(math.sin(math.pi / 2))\n",
    "print(math.sin(math.radians(90)))\n",
    "print(math.asin(1))\n",
    "print(math.asin(1) / math.pi)\n",
    "print(math.cos(math.pi / 2))\n",
    "print(math.acos(1))\n",
    "print(math.tan(math.pi/2))\n",
    "print(math.atan(math.inf))\n",
    "print(math.atan(float('inf')))\n",
    "print(math.atan2(1, 2))\n",
    "print(math.atan2(-1, -2) )\n",
    "print(math.atan2(1, 0))\n",
    "print(math.sinh(math.pi) )\n",
    "print(math.asinh(1))\n",
    "print(math.cosh(math.pi))\n",
    "print(math.acosh(1))\n",
    "print(math.tanh(math.pi))\n",
    "print(math.atanh(0.5))\n",
    "print(pos_inf, neg_inf, not_a_num)\n",
    "\n",
    "pos_inf = math.inf\n",
    "neg_inf = -math.inf\n",
    "not_a_num = math.nan\n",
    "\n",
    "print(pos_inf, neg_inf, not_a_num)\n",
    "print(sys.float_info.max)\n",
    "print(pos_inf > sys.float_info.max)\n",
    "print(neg_inf < -sys.float_info.max)\n",
    "print(math.log(math.e))\n",
    "print(math.log(1))\n",
    "print(math.log(100))\n",
    "print(math.log1p(1e-20))\n",
    "print(math.log10(10))\n",
    "print(math.log(100, 10))\n",
    "print(z)\n",
    "print(1j ** 1j)\n",
    "print(z.real, z.imag)\n",
    "print(z.conjugate())\n",
    "print(abs(1 + 1j))\n",
    "print(complex(1))\n",
    "\n",
    "print(cmath.sqrt(-1))\n",
    "print(cmath.log(1+1j))\n",
    "print(cmath.polar(z))\n",
    "print(cmath.rect(2, cmath.pi/2))\n",
    "print(cmath.exp(z) )\n",
    "print(cmath.log(z))\n",
    "print(cmath.log10(-100))\n",
    "print(cmath.sqrt(z))\n",
    "print(cmath.sin(z) )\n",
    "print(cmath.cos(z) )\n",
    "print(cmath.tan(z))\n",
    "print(cmath.asin(z) )\n",
    "print(cmath.acos(z) )\n",
    "print(cmath.atan(z) )\n",
    "print(cmath.sin(z)**2  + cmath.cos(z)**2)\n",
    "print(cmath.sinh(z))\n",
    "print(cmath.cosh(z))\n",
    "print(cmath.tanh(z))\n",
    "print(cmath.asinh(z))\n",
    "print(cmath.acosh(z))\n",
    "print(cmath.atanh(z))\n",
    "print(cmath.cosh(z)**2 - cmath.sin(z)**2 )\n",
    "print(cmath.cosh((0+1j)*z) - cmath.cos(z))\n",
    "print(z+w)\n",
    "print(z-w)\n",
    "print(z*w)\n",
    "print(z/w)\n",
    "print(z**3)\n",
    "print(z.real)\n",
    "print(z.imag)\n",
    "print(abs(z))\n",
    "print(z.conjugate())"
   ],
   "outputs": [
    {
     "output_type": "stream",
     "name": "stdout",
     "text": [
      "2\n",
      "-2\n",
      "1.6\n",
      "-1.6\n",
      "1\n",
      "-2\n",
      "2\n",
      "-1\n",
      "1\n",
      "-1\n",
      "1\n",
      "1.3\n",
      "2.67\n",
      "4.47213595499958\n",
      "0.7853981633974483\n",
      "90.0\n",
      "1.0\n",
      "1.0\n",
      "1.5707963267948966\n",
      "0.5\n",
      "6.123233995736766e-17\n",
      "0.0\n",
      "1.633123935319537e+16\n",
      "1.5707963267948966\n",
      "1.5707963267948966\n",
      "0.4636476090008061\n",
      "-2.677945044588987\n",
      "1.5707963267948966\n",
      "11.548739357257748\n",
      "0.881373587019543\n",
      "11.591953275521519\n",
      "0.0\n",
      "0.99627207622075\n",
      "0.5493061443340548\n",
      "inf -inf nan\n",
      "inf -inf nan\n",
      "1.7976931348623157e+308\n",
      "True\n",
      "True\n",
      "1.0\n",
      "0.0\n",
      "4.605170185988092\n",
      "1e-20\n",
      "1.0\n",
      "2.0\n",
      "(1+3j)\n",
      "(0.20787957635076193+0j)\n",
      "1.0 3.0\n",
      "(1-3j)\n",
      "1.4142135623730951\n",
      "(1+0j)\n",
      "1j\n",
      "(0.34657359027997264+0.7853981633974483j)\n",
      "(3.1622776601683795, 1.2490457723982544)\n",
      "(1.2246467991473532e-16+2j)\n",
      "(-2.6910786138197937+0.383603953541131j)\n",
      "(1.151292546497023+1.2490457723982544j)\n",
      "(2+1.3643763538418412j)\n",
      "(1.442615274452683+1.0397782600555705j)\n",
      "(8.471645454300148+5.412680923178193j)\n",
      "(5.439580991019764-8.429751080849945j)\n",
      "(0.004517137276658425+1.0020549882458119j)\n",
      "(0.3076036495307113+1.8641615441578825j)\n",
      "(1.2631926772641853-1.8641615441578825j)\n",
      "(1.4614618538579256+0.3059438579055289j)\n",
      "(0.9999999999999858+0j)\n",
      "(-1.1634403637032504+0.21775955162215221j)\n",
      "(-1.5276382501165433+0.1658444019189788j)\n",
      "(0.768017647286911-0.05916853956605073j)\n",
      "(1.8241987021938828+1.2330952175293441j)\n",
      "(1.8641615441578825+1.2631926772641855j)\n",
      "(0.09193119503132934+1.2767950250211129j)\n",
      "(-40.16548766965596-92.2153279807176j)\n",
      "0j\n",
      "(2-4j)\n",
      "10j\n",
      "(22-4j)\n",
      "(-0.39999999999999997+0.19999999999999998j)\n",
      "(-26-18j)\n",
      "1.0\n",
      "3.0\n",
      "3.1622776601683795\n",
      "(1-3j)\n"
     ]
    }
   ],
   "metadata": {}
  },
  {
   "cell_type": "code",
   "execution_count": 5,
   "source": [
    "import collections\n",
    "counts = collections.Counter([1,2,3])\n",
    "counts"
   ],
   "outputs": [
    {
     "output_type": "execute_result",
     "data": {
      "text/plain": [
       "Counter({1: 1, 2: 1, 3: 1})"
      ]
     },
     "metadata": {},
     "execution_count": 5
    }
   ],
   "metadata": {}
  },
  {
   "cell_type": "code",
   "execution_count": 6,
   "source": [
    "collections.Counter('Happy Birthday')"
   ],
   "outputs": [
    {
     "output_type": "execute_result",
     "data": {
      "text/plain": [
       "Counter({'H': 1,\n",
       "         'a': 2,\n",
       "         'p': 2,\n",
       "         'y': 2,\n",
       "         ' ': 1,\n",
       "         'B': 1,\n",
       "         'i': 1,\n",
       "         'r': 1,\n",
       "         't': 1,\n",
       "         'h': 1,\n",
       "         'd': 1})"
      ]
     },
     "metadata": {},
     "execution_count": 6
    }
   ],
   "metadata": {}
  },
  {
   "cell_type": "code",
   "execution_count": 7,
   "source": [
    "collections.Counter('I am Sam Sam I am That Sam-I-am That Sam-I-am! I do not like that Sam-I-am'.split())"
   ],
   "outputs": [
    {
     "output_type": "execute_result",
     "data": {
      "text/plain": [
       "Counter({'I': 3,\n",
       "         'am': 2,\n",
       "         'Sam': 2,\n",
       "         'That': 2,\n",
       "         'Sam-I-am': 2,\n",
       "         'Sam-I-am!': 1,\n",
       "         'do': 1,\n",
       "         'not': 1,\n",
       "         'like': 1,\n",
       "         'that': 1})"
      ]
     },
     "metadata": {},
     "execution_count": 7
    }
   ],
   "metadata": {}
  },
  {
   "cell_type": "code",
   "execution_count": 8,
   "source": [
    "c = collections.Counter({'a': 4, 'b': 2, 'c': -2, 'd': 0})\n",
    "c['a']"
   ],
   "outputs": [
    {
     "output_type": "execute_result",
     "data": {
      "text/plain": [
       "4"
      ]
     },
     "metadata": {},
     "execution_count": 8
    }
   ],
   "metadata": {}
  },
  {
   "cell_type": "code",
   "execution_count": 9,
   "source": [
    "c['c'] = -3"
   ],
   "outputs": [],
   "metadata": {}
  },
  {
   "cell_type": "code",
   "execution_count": 10,
   "source": [
    "c"
   ],
   "outputs": [
    {
     "output_type": "execute_result",
     "data": {
      "text/plain": [
       "Counter({'a': 4, 'b': 2, 'c': -3, 'd': 0})"
      ]
     },
     "metadata": {},
     "execution_count": 10
    }
   ],
   "metadata": {}
  },
  {
   "cell_type": "code",
   "execution_count": 11,
   "source": [
    "from collections import deque\n",
    "d = deque('ghi')\n",
    "for elem in d:\n",
    "    print(elem.upper())"
   ],
   "outputs": [
    {
     "output_type": "stream",
     "name": "stdout",
     "text": [
      "G\n",
      "H\n",
      "I\n"
     ]
    }
   ],
   "metadata": {}
  },
  {
   "cell_type": "code",
   "execution_count": 12,
   "source": [
    "d.append('j')\n",
    "d.appendleft('f')\n",
    "d"
   ],
   "outputs": [
    {
     "output_type": "execute_result",
     "data": {
      "text/plain": [
       "deque(['f', 'g', 'h', 'i', 'j'])"
      ]
     },
     "metadata": {},
     "execution_count": 12
    }
   ],
   "metadata": {}
  },
  {
   "cell_type": "code",
   "execution_count": 13,
   "source": [
    "d.pop()\n",
    "d.popleft()\n",
    "d"
   ],
   "outputs": [
    {
     "output_type": "execute_result",
     "data": {
      "text/plain": [
       "deque(['g', 'h', 'i'])"
      ]
     },
     "metadata": {},
     "execution_count": 13
    }
   ],
   "metadata": {}
  },
  {
   "cell_type": "code",
   "execution_count": 14,
   "source": [
    "list(d)"
   ],
   "outputs": [
    {
     "output_type": "execute_result",
     "data": {
      "text/plain": [
       "['g', 'h', 'i']"
      ]
     },
     "metadata": {},
     "execution_count": 14
    }
   ],
   "metadata": {}
  },
  {
   "cell_type": "code",
   "execution_count": 15,
   "source": [
    "list(reversed(d)) "
   ],
   "outputs": [
    {
     "output_type": "execute_result",
     "data": {
      "text/plain": [
       "['i', 'h', 'g']"
      ]
     },
     "metadata": {},
     "execution_count": 15
    }
   ],
   "metadata": {}
  },
  {
   "cell_type": "code",
   "execution_count": 16,
   "source": [
    "d.extend('jkl')\n",
    "d"
   ],
   "outputs": [
    {
     "output_type": "execute_result",
     "data": {
      "text/plain": [
       "deque(['g', 'h', 'i', 'j', 'k', 'l'])"
      ]
     },
     "metadata": {},
     "execution_count": 16
    }
   ],
   "metadata": {}
  },
  {
   "cell_type": "code",
   "execution_count": 17,
   "source": [
    "d.rotate(1)\n",
    "d"
   ],
   "outputs": [
    {
     "output_type": "execute_result",
     "data": {
      "text/plain": [
       "deque(['l', 'g', 'h', 'i', 'j', 'k'])"
      ]
     },
     "metadata": {},
     "execution_count": 17
    }
   ],
   "metadata": {}
  },
  {
   "cell_type": "code",
   "execution_count": 18,
   "source": [
    "d.rotate(-1)\n",
    "d"
   ],
   "outputs": [
    {
     "output_type": "execute_result",
     "data": {
      "text/plain": [
       "deque(['g', 'h', 'i', 'j', 'k', 'l'])"
      ]
     },
     "metadata": {},
     "execution_count": 18
    }
   ],
   "metadata": {}
  },
  {
   "cell_type": "code",
   "execution_count": 19,
   "source": [
    "deque(reversed(d))\n",
    "d"
   ],
   "outputs": [
    {
     "output_type": "execute_result",
     "data": {
      "text/plain": [
       "deque(['g', 'h', 'i', 'j', 'k', 'l'])"
      ]
     },
     "metadata": {},
     "execution_count": 19
    }
   ],
   "metadata": {}
  },
  {
   "cell_type": "code",
   "execution_count": 20,
   "source": [
    "d.clear()\n",
    "d"
   ],
   "outputs": [
    {
     "output_type": "execute_result",
     "data": {
      "text/plain": [
       "deque([])"
      ]
     },
     "metadata": {},
     "execution_count": 20
    }
   ],
   "metadata": {}
  },
  {
   "cell_type": "code",
   "execution_count": 21,
   "source": [
    "import collections\n",
    "# define two dictionaries with at least some keys overlapping.\n",
    "dict1 = {'apple': 1, 'banana': 2}\n",
    "dict2 = {'coconut': 1, 'date': 1, 'apple': 3}\n",
    "# create two ChainMaps with different ordering of those dicts.\n",
    "combined_dict = collections.ChainMap(dict1, dict2)\n",
    "reverse_ordered_dict = collections.ChainMap(dict2, dict1)\n",
    "\n",
    "\n",
    "for k, v in combined_dict.items():\n",
    "    print(k, v)\n",
    "print(\"------\")\n",
    "for k, v in reverse_ordered_dict.items():\n",
    "    print(k, v)"
   ],
   "outputs": [
    {
     "output_type": "stream",
     "name": "stdout",
     "text": [
      "coconut 1\n",
      "date 1\n",
      "apple 1\n",
      "banana 2\n",
      "------\n",
      "apple 3\n",
      "banana 2\n",
      "coconut 1\n",
      "date 1\n"
     ]
    }
   ],
   "metadata": {}
  },
  {
   "cell_type": "code",
   "execution_count": 22,
   "source": [
    "from itertools import groupby\n",
    "from operator import itemgetter\n",
    "adict = {'a': 1, 'b': 5, 'c': 1}\n",
    "dict((i, dict(v)) for i, v in groupby(adict.items(), itemgetter(1)))"
   ],
   "outputs": [
    {
     "output_type": "execute_result",
     "data": {
      "text/plain": [
       "{1: {'c': 1}, 5: {'b': 5}}"
      ]
     },
     "metadata": {},
     "execution_count": 22
    }
   ],
   "metadata": {}
  },
  {
   "cell_type": "code",
   "execution_count": 23,
   "source": [
    "dict((i, dict(v)) for i, v in groupby(adict.items(), lambda x: x[1]))"
   ],
   "outputs": [
    {
     "output_type": "execute_result",
     "data": {
      "text/plain": [
       "{1: {'c': 1}, 5: {'b': 5}}"
      ]
     },
     "metadata": {},
     "execution_count": 23
    }
   ],
   "metadata": {}
  },
  {
   "cell_type": "code",
   "execution_count": 24,
   "source": [
    "alist_of_tuples = [(5,2), (1,3), (2,2)]\n",
    "sorted(alist_of_tuples, key=itemgetter(1,0))"
   ],
   "outputs": [
    {
     "output_type": "execute_result",
     "data": {
      "text/plain": [
       "[(2, 2), (5, 2), (1, 3)]"
      ]
     },
     "metadata": {},
     "execution_count": 24
    }
   ],
   "metadata": {}
  },
  {
   "cell_type": "code",
   "execution_count": 25,
   "source": [
    "from operator import add\n",
    "add(1, 1)"
   ],
   "outputs": [
    {
     "output_type": "execute_result",
     "data": {
      "text/plain": [
       "2"
      ]
     },
     "metadata": {},
     "execution_count": 25
    }
   ],
   "metadata": {}
  },
  {
   "cell_type": "code",
   "execution_count": 26,
   "source": [
    "from operator import mul\n",
    "mul('a', 10)\n"
   ],
   "outputs": [
    {
     "output_type": "execute_result",
     "data": {
      "text/plain": [
       "'aaaaaaaaaa'"
      ]
     },
     "metadata": {},
     "execution_count": 26
    }
   ],
   "metadata": {}
  },
  {
   "cell_type": "code",
   "execution_count": 27,
   "source": [
    "mul([3], 3)"
   ],
   "outputs": [
    {
     "output_type": "execute_result",
     "data": {
      "text/plain": [
       "[3, 3, 3]"
      ]
     },
     "metadata": {},
     "execution_count": 27
    }
   ],
   "metadata": {}
  },
  {
   "cell_type": "code",
   "execution_count": 28,
   "source": [
    "alist = ['wolf', 'sheep', 'duck']\n",
    "list(filter(lambda x: x.startswith('d'), alist))"
   ],
   "outputs": [
    {
     "output_type": "execute_result",
     "data": {
      "text/plain": [
       "['duck']"
      ]
     },
     "metadata": {},
     "execution_count": 28
    }
   ],
   "metadata": {}
  },
  {
   "cell_type": "code",
   "execution_count": 29,
   "source": [
    "from operator import methodcaller\n",
    "list(filter(methodcaller('startswith', 'd'), alist)) "
   ],
   "outputs": [
    {
     "output_type": "execute_result",
     "data": {
      "text/plain": [
       "['duck']"
      ]
     },
     "metadata": {},
     "execution_count": 29
    }
   ],
   "metadata": {}
  },
  {
   "cell_type": "code",
   "execution_count": 30,
   "source": [
    "import json\n",
    "d = {\n",
    "    'foo': 'bar',\n",
    "    'alice': 1,\n",
    "    'wonderland': [1, 2, 3]\n",
    "}\n",
    "\n",
    "with open('text.txt', 'w') as f:\n",
    "    json.dump(d, f)"
   ],
   "outputs": [],
   "metadata": {}
  },
  {
   "cell_type": "code",
   "execution_count": 31,
   "source": [
    "with open('text.txt', 'r') as f:\n",
    "    d = json.load(f)"
   ],
   "outputs": [],
   "metadata": {}
  },
  {
   "cell_type": "code",
   "execution_count": 32,
   "source": [
    "data = {\"cats\": [{\"name\": \"Tubbs\", \"color\": \"white\"}, {\"name\": \"Pepper\", \"color\": \"black\"}]}"
   ],
   "outputs": [],
   "metadata": {}
  },
  {
   "cell_type": "code",
   "execution_count": 33,
   "source": [
    "print(json.dumps(data))"
   ],
   "outputs": [
    {
     "output_type": "stream",
     "name": "stdout",
     "text": [
      "{\"cats\": [{\"name\": \"Tubbs\", \"color\": \"white\"}, {\"name\": \"Pepper\", \"color\": \"black\"}]}\n"
     ]
    }
   ],
   "metadata": {}
  },
  {
   "cell_type": "code",
   "execution_count": 34,
   "source": [
    "print(json.dumps(data, indent=2))"
   ],
   "outputs": [
    {
     "output_type": "stream",
     "name": "stdout",
     "text": [
      "{\n",
      "  \"cats\": [\n",
      "    {\n",
      "      \"name\": \"Tubbs\",\n",
      "      \"color\": \"white\"\n",
      "    },\n",
      "    {\n",
      "      \"name\": \"Pepper\",\n",
      "      \"color\": \"black\"\n",
      "    }\n",
      "  ]\n",
      "}\n"
     ]
    }
   ],
   "metadata": {}
  },
  {
   "cell_type": "code",
   "execution_count": 35,
   "source": [
    "print(json.dumps(data, sort_keys=True))"
   ],
   "outputs": [
    {
     "output_type": "stream",
     "name": "stdout",
     "text": [
      "{\"cats\": [{\"color\": \"white\", \"name\": \"Tubbs\"}, {\"color\": \"black\", \"name\": \"Pepper\"}]}\n"
     ]
    }
   ],
   "metadata": {}
  },
  {
   "cell_type": "code",
   "execution_count": 36,
   "source": [
    "print(json.dumps(data, separators=(',', ':')))"
   ],
   "outputs": [
    {
     "output_type": "stream",
     "name": "stdout",
     "text": [
      "{\"cats\":[{\"name\":\"Tubbs\",\"color\":\"white\"},{\"name\":\"Pepper\",\"color\":\"black\"}]}\n"
     ]
    }
   ],
   "metadata": {}
  },
  {
   "cell_type": "code",
   "execution_count": 37,
   "source": [
    "import json\n",
    "json_file_path = './data.json'\n",
    "data = {u\"foo\": u\"bar\", u\"baz\": []}\n",
    "\n",
    "with open(json_file_path, 'w') as json_file:\n",
    "    json.dump(data, json_file)\n",
    "\n",
    "with open(json_file_path) as json_file:\n",
    "    json_file_content = json_file.read()\n",
    "\n",
    "with open(json_file_path) as json_file:\n",
    "    json.load(json_file)"
   ],
   "outputs": [],
   "metadata": {}
  },
  {
   "cell_type": "code",
   "execution_count": 38,
   "source": [
    "import json\n",
    "d = {\n",
    "'foo': 'bar',\n",
    "'alice': 1,\n",
    "'wonderland': [1, 2, 3]\n",
    "}\n",
    "json.dumps(d)"
   ],
   "outputs": [
    {
     "output_type": "execute_result",
     "data": {
      "text/plain": [
       "'{\"foo\": \"bar\", \"alice\": 1, \"wonderland\": [1, 2, 3]}'"
      ]
     },
     "metadata": {},
     "execution_count": 38
    }
   ],
   "metadata": {}
  },
  {
   "cell_type": "code",
   "execution_count": 39,
   "source": [
    "s = '{\"wonderland\": [1, 2, 3], \"foo\": \"bar\", \"alice\": 1}'\n",
    "json.loads(s)"
   ],
   "outputs": [
    {
     "output_type": "execute_result",
     "data": {
      "text/plain": [
       "{'wonderland': [1, 2, 3], 'foo': 'bar', 'alice': 1}"
      ]
     },
     "metadata": {},
     "execution_count": 39
    }
   ],
   "metadata": {}
  },
  {
   "cell_type": "code",
   "execution_count": 47,
   "source": [
    "import sqlite3\n",
    "\n",
    "connection = sqlite3.connect('example.db')\n",
    "\n",
    "commender = connection.cursor()\n",
    "\n",
    "commender.execute('''create table stocks(date text, trans text,symbol text,qty real,price real)''')\n",
    "\n",
    "commender.execute(\"insert into stocks values('2006-01-05','BUY','RHAT',100,35.14)\")\n",
    "\n",
    "connection.commit()\n",
    "connection.close()"
   ],
   "outputs": [],
   "metadata": {}
  },
  {
   "cell_type": "code",
   "execution_count": null,
   "source": [],
   "outputs": [],
   "metadata": {}
  }
 ],
 "metadata": {
  "orig_nbformat": 4,
  "language_info": {
   "name": "python",
   "version": "3.9.6",
   "mimetype": "text/x-python",
   "codemirror_mode": {
    "name": "ipython",
    "version": 3
   },
   "pygments_lexer": "ipython3",
   "nbconvert_exporter": "python",
   "file_extension": ".py"
  },
  "kernelspec": {
   "name": "python3",
   "display_name": "Python 3.9.6 64-bit"
  },
  "interpreter": {
   "hash": "e7370f93d1d0cde622a1f8e1c04877d8463912d04d973331ad4851f04de6915a"
  }
 },
 "nbformat": 4,
 "nbformat_minor": 2
}