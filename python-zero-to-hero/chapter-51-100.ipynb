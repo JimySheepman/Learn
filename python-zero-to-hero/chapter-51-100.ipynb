{
 "cells": [
  {
   "cell_type": "markdown",
   "source": [
    "# chapter 51-100"
   ],
   "metadata": {}
  },
  {
   "cell_type": "code",
   "execution_count": 3,
   "source": [
    "import os"
   ],
   "outputs": [],
   "metadata": {}
  },
  {
   "cell_type": "code",
   "execution_count": 4,
   "source": [
    "os.mkdir('newdir')"
   ],
   "outputs": [],
   "metadata": {}
  },
  {
   "cell_type": "code",
   "execution_count": 8,
   "source": [
    "!tree"
   ],
   "outputs": [
    {
     "output_type": "stream",
     "name": "stdout",
     "text": [
      "\u001b[01;34m.\u001b[00m\n",
      "├── chapter-01-50.ipynb\n",
      "├── chapter-51-100.ipynb\n",
      "├── hello.py\n",
      "├── \u001b[01;34mnewdir\u001b[00m\n",
      "├── \u001b[01;34m__pycache__\u001b[00m\n",
      "│   └── hello.cpython-39.pyc\n",
      "└── README.md\n",
      "\n",
      "2 directories, 5 files\n"
     ]
    }
   ],
   "metadata": {}
  },
  {
   "cell_type": "code",
   "execution_count": 9,
   "source": [
    "print(os.getcwd())"
   ],
   "outputs": [
    {
     "output_type": "stream",
     "name": "stdout",
     "text": [
      "/home/merlins/Projeler/Learn_AI/python-zero-to-hero\n"
     ]
    }
   ],
   "metadata": {}
  },
  {
   "cell_type": "code",
   "execution_count": 10,
   "source": [
    "os.name"
   ],
   "outputs": [
    {
     "output_type": "execute_result",
     "data": {
      "text/plain": [
       "'posix'"
      ]
     },
     "metadata": {},
     "execution_count": 10
    }
   ],
   "metadata": {}
  },
  {
   "cell_type": "code",
   "execution_count": 11,
   "source": [
    "os.rmdir('newdir')"
   ],
   "outputs": [],
   "metadata": {}
  },
  {
   "cell_type": "code",
   "execution_count": 12,
   "source": [
    "!tree"
   ],
   "outputs": [
    {
     "output_type": "stream",
     "name": "stdout",
     "text": [
      "\u001b[01;34m.\u001b[00m\n",
      "├── chapter-01-50.ipynb\n",
      "├── chapter-51-100.ipynb\n",
      "├── hello.py\n",
      "├── \u001b[01;34m__pycache__\u001b[00m\n",
      "│   └── hello.cpython-39.pyc\n",
      "└── README.md\n",
      "\n",
      "1 directory, 5 files\n"
     ]
    }
   ],
   "metadata": {}
  },
  {
   "cell_type": "code",
   "execution_count": 13,
   "source": [
    "import locale"
   ],
   "outputs": [],
   "metadata": {}
  },
  {
   "cell_type": "code",
   "execution_count": 14,
   "source": [
    "locale.setlocale(locale.LC_ALL, '')"
   ],
   "outputs": [
    {
     "output_type": "execute_result",
     "data": {
      "text/plain": [
       "'LC_CTYPE=en_US.UTF-8;LC_NUMERIC=tr_TR.UTF-8;LC_TIME=tr_TR.UTF-8;LC_COLLATE=en_US.UTF-8;LC_MONETARY=tr_TR.UTF-8;LC_MESSAGES=en_US.UTF-8;LC_PAPER=tr_TR.UTF-8;LC_NAME=tr_TR.UTF-8;LC_ADDRESS=tr_TR.UTF-8;LC_TELEPHONE=tr_TR.UTF-8;LC_MEASUREMENT=tr_TR.UTF-8;LC_IDENTIFICATION=tr_TR.UTF-8'"
      ]
     },
     "metadata": {},
     "execution_count": 14
    }
   ],
   "metadata": {}
  },
  {
   "cell_type": "code",
   "execution_count": 15,
   "source": [
    "locale.currency(6512.1)"
   ],
   "outputs": [
    {
     "output_type": "execute_result",
     "data": {
      "text/plain": [
       "'6512,10 ₺'"
      ]
     },
     "metadata": {},
     "execution_count": 15
    }
   ],
   "metadata": {}
  },
  {
   "cell_type": "code",
   "execution_count": 16,
   "source": [
    "locale.currency(762559748.49, grouping=True)"
   ],
   "outputs": [
    {
     "output_type": "execute_result",
     "data": {
      "text/plain": [
       "'762.559.748,49 ₺'"
      ]
     },
     "metadata": {},
     "execution_count": 16
    }
   ],
   "metadata": {}
  },
  {
   "cell_type": "code",
   "execution_count": 18,
   "source": [
    "from itertools import *\n",
    "import itertools\n",
    "a = [1,2,3,4,5]\n",
    "b = list(itertools.combinations(a, 2))\n"
   ],
   "outputs": [],
   "metadata": {}
  },
  {
   "cell_type": "code",
   "execution_count": 19,
   "source": [
    "a = [i for i in range(5)] \n",
    "b = ['a', 'b', 'c', 'd', 'e', 'f', 'g'] #\n",
    "for i in zip_longest(a, b):\n",
    "    x, y = i\n",
    "    print(x, y)\n"
   ],
   "outputs": [
    {
     "output_type": "stream",
     "name": "stdout",
     "text": [
      "0 a\n",
      "1 b\n",
      "2 c\n",
      "3 d\n",
      "4 e\n",
      "None f\n",
      "None g\n"
     ]
    }
   ],
   "metadata": {}
  },
  {
   "cell_type": "code",
   "execution_count": 21,
   "source": [
    "def gen():\n",
    "    n = 0\n",
    "    while n < 20:\n",
    "        n += 1\n",
    "        yield n\n",
    "for part in itertools.islice(gen(), 3):\n",
    "    print(part)\n"
   ],
   "outputs": [
    {
     "output_type": "stream",
     "name": "stdout",
     "text": [
      "1\n",
      "2\n",
      "3\n"
     ]
    }
   ],
   "metadata": {}
  },
  {
   "cell_type": "code",
   "execution_count": 24,
   "source": [
    "lst = [(\"a\", 5, 6), (\"b\", 2, 4), (\"a\", 2, 5), (\"c\", 2, 6)]\n",
    "\n",
    "def testGroupBy(lst):\n",
    "    groups = itertools.groupby(lst, key=lambda x: x[1])\n",
    "    for key, group in groups:\n",
    "        print(key, list(group))\n",
    "\n",
    "testGroupBy(lst)    "
   ],
   "outputs": [
    {
     "output_type": "stream",
     "name": "stdout",
     "text": [
      "5 [('a', 5, 6)]\n",
      "2 [('b', 2, 4), ('a', 2, 5), ('c', 2, 6)]\n"
     ]
    }
   ],
   "metadata": {}
  },
  {
   "cell_type": "code",
   "execution_count": 48,
   "source": [
    "from random import SystemRandom\n",
    "secure_rand_gen = SystemRandom()\n",
    "print([secure_rand_gen.randrange(10) for i in range(10)])"
   ],
   "outputs": [
    {
     "output_type": "stream",
     "name": "stdout",
     "text": [
      "[4, 6, 1, 6, 5, 9, 9, 3, 3, 2]\n"
     ]
    }
   ],
   "metadata": {}
  },
  {
   "cell_type": "code",
   "execution_count": 49,
   "source": [
    "print(secure_rand_gen.randint(0, 20))"
   ],
   "outputs": [
    {
     "output_type": "stream",
     "name": "stdout",
     "text": [
      "9\n"
     ]
    }
   ],
   "metadata": {}
  },
  {
   "cell_type": "code",
   "execution_count": 50,
   "source": [
    "import random\n",
    "laughs = [\"Hi\", \"Ho\", \"He\"]\n",
    "random.shuffle(laughs)\n",
    "laughs"
   ],
   "outputs": [
    {
     "output_type": "execute_result",
     "data": {
      "text/plain": [
       "['Hi', 'He', 'Ho']"
      ]
     },
     "metadata": {},
     "execution_count": 50
    }
   ],
   "metadata": {}
  },
  {
   "cell_type": "code",
   "execution_count": 51,
   "source": [
    "random.randint(1, 8)"
   ],
   "outputs": [
    {
     "output_type": "execute_result",
     "data": {
      "text/plain": [
       "1"
      ]
     },
     "metadata": {},
     "execution_count": 51
    }
   ],
   "metadata": {}
  },
  {
   "cell_type": "code",
   "execution_count": 52,
   "source": [
    "random.randrange(20, 50)"
   ],
   "outputs": [
    {
     "output_type": "execute_result",
     "data": {
      "text/plain": [
       "46"
      ]
     },
     "metadata": {},
     "execution_count": 52
    }
   ],
   "metadata": {}
  },
  {
   "cell_type": "code",
   "execution_count": 53,
   "source": [
    "random.seed(5)  # Reset the random module to the same fixed state.\n",
    "print(random.randrange(0, 10))\n"
   ],
   "outputs": [
    {
     "output_type": "stream",
     "name": "stdout",
     "text": [
      "9\n"
     ]
    }
   ],
   "metadata": {}
  },
  {
   "cell_type": "code",
   "execution_count": 54,
   "source": [
    "from functools import partial\n",
    "unhex = partial(int, base=16)\n",
    "unhex.__doc__ = 'Convert base16 string to int'\n",
    "unhex('ca11ab1e')"
   ],
   "outputs": [
    {
     "output_type": "execute_result",
     "data": {
      "text/plain": [
       "3390155550"
      ]
     },
     "metadata": {},
     "execution_count": 54
    }
   ],
   "metadata": {}
  },
  {
   "cell_type": "code",
   "execution_count": 55,
   "source": [
    "def f(a, b, c, x):\n",
    "    return 1000*a + 100*b + 10*c + x\n"
   ],
   "outputs": [],
   "metadata": {}
  },
  {
   "cell_type": "code",
   "execution_count": 56,
   "source": [
    "g = partial(f, 1, 1, 1)"
   ],
   "outputs": [],
   "metadata": {}
  },
  {
   "cell_type": "code",
   "execution_count": 57,
   "source": [
    "print(g(2))"
   ],
   "outputs": [
    {
     "output_type": "stream",
     "name": "stdout",
     "text": [
      "1112\n"
     ]
    }
   ],
   "metadata": {}
  },
  {
   "cell_type": "code",
   "execution_count": 58,
   "source": [
    "import functools\n",
    "import locale\n",
    "sorted([\"A\", \"S\", \"F\", \"D\"], key=functools.cmp_to_key(locale.strcoll))"
   ],
   "outputs": [
    {
     "output_type": "execute_result",
     "data": {
      "text/plain": [
       "['A', 'D', 'F', 'S']"
      ]
     },
     "metadata": {},
     "execution_count": 58
    }
   ],
   "metadata": {}
  },
  {
   "cell_type": "code",
   "execution_count": 61,
   "source": [
    "from functools import reduce\n",
    "\n",
    "def factorial(n):\n",
    "    return reduce(lambda a, b: (a*b), range(1, n+1))\n",
    "\n",
    "factorial(12)"
   ],
   "outputs": [
    {
     "output_type": "execute_result",
     "data": {
      "text/plain": [
       "479001600"
      ]
     },
     "metadata": {},
     "execution_count": 61
    }
   ],
   "metadata": {}
  },
  {
   "cell_type": "code",
   "execution_count": 63,
   "source": [
    "import base64\n"
   ],
   "outputs": [],
   "metadata": {}
  },
  {
   "cell_type": "code",
   "execution_count": 65,
   "source": [
    "s = \"Hello World!\"\n",
    "b = s.encode(\"UTF-8\")\n",
    "s,b"
   ],
   "outputs": [
    {
     "output_type": "execute_result",
     "data": {
      "text/plain": [
       "('Hello World!', b'Hello World!')"
      ]
     },
     "metadata": {},
     "execution_count": 65
    }
   ],
   "metadata": {}
  },
  {
   "cell_type": "code",
   "execution_count": 66,
   "source": [
    "e = base64.b64encode(b)\n",
    "print(e)"
   ],
   "outputs": [
    {
     "output_type": "stream",
     "name": "stdout",
     "text": [
      "b'SGVsbG8gV29ybGQh'\n"
     ]
    }
   ],
   "metadata": {}
  },
  {
   "cell_type": "code",
   "execution_count": 67,
   "source": [
    "s = \"Hello World!\"\n",
    "b = s.encode(\"UTF-8\")\n",
    "e = base64.b64encode(b)\n",
    "s1 = e.decode(\"UTF-8\")\n",
    "print(s1)"
   ],
   "outputs": [
    {
     "output_type": "stream",
     "name": "stdout",
     "text": [
      "SGVsbG8gV29ybGQh\n"
     ]
    }
   ],
   "metadata": {}
  },
  {
   "cell_type": "code",
   "execution_count": 68,
   "source": [
    "s = \"Hello World!\"\n",
    "b = s.encode(\"UTF-8\")\n",
    "e = base64.b64encode(b)\n",
    "s1 = e.decode(\"UTF-8\")\n",
    "print(\"Base64 Encoded:\", s1)\n",
    "b1 = s1.encode(\"UTF-8\")\n",
    "d = base64.b64decode(b1)\n",
    "s2 = d.decode(\"UTF-8\")\n",
    "print(s2)"
   ],
   "outputs": [
    {
     "output_type": "stream",
     "name": "stdout",
     "text": [
      "Base64 Encoded: SGVsbG8gV29ybGQh\n",
      "Hello World!\n"
     ]
    }
   ],
   "metadata": {}
  },
  {
   "cell_type": "code",
   "execution_count": 69,
   "source": [
    "s = \"Hello World!\"\n",
    "b = s.encode(\"UTF-8\")\n",
    "e = base64.b32encode(b)\n",
    "s1 = e.decode(\"UTF-8\")\n",
    "print(\"Base32 Encoded:\", s1)\n",
    "b1 = s1.encode(\"UTF-8\")\n",
    "d = base64.b32decode(b1)\n",
    "s2 = d.decode(\"UTF-8\")\n",
    "print(s2)"
   ],
   "outputs": [
    {
     "output_type": "stream",
     "name": "stdout",
     "text": [
      "Base32 Encoded: JBSWY3DPEBLW64TMMQQQ====\n",
      "Hello World!\n"
     ]
    }
   ],
   "metadata": {}
  },
  {
   "cell_type": "code",
   "execution_count": 70,
   "source": [
    "s = \"Hello World!\"\n",
    "b = s.encode(\"UTF-8\")\n",
    "e = base64.b16encode(b)\n",
    "s1 = e.decode(\"UTF-8\")\n",
    "print(\"Base16 Encoded:\", s1)\n",
    "b1 = s1.encode(\"UTF-8\")\n",
    "d = base64.b16decode(b1)\n",
    "s2 = d.decode(\"UTF-8\")\n",
    "print(s2)"
   ],
   "outputs": [
    {
     "output_type": "stream",
     "name": "stdout",
     "text": [
      "Base16 Encoded: 48656C6C6F20576F726C6421\n",
      "Hello World!\n"
     ]
    }
   ],
   "metadata": {}
  },
  {
   "cell_type": "code",
   "execution_count": 71,
   "source": [
    "s = \"Hello World!\"\n",
    "b = s.encode(\"UTF-8\")\n",
    "e = base64.a85encode(b)\n",
    "s1 = e.decode(\"UTF-8\")\n",
    "print(\"ASCII85 Encoded:\", s1)\n",
    "b1 = s1.encode(\"UTF-8\")\n",
    "d = base64.a85decode(b1)\n",
    "s2 = d.decode(\"UTF-8\")\n",
    "print(s2)"
   ],
   "outputs": [
    {
     "output_type": "stream",
     "name": "stdout",
     "text": [
      "ASCII85 Encoded: 87cURD]i,\"Ebo80\n",
      "Hello World!\n"
     ]
    }
   ],
   "metadata": {}
  },
  {
   "cell_type": "code",
   "execution_count": 72,
   "source": [
    "s = \"Hello World!\"\n",
    "b = s.encode(\"UTF-8\")\n",
    "e = base64.b85encode(b)\n",
    "s1 = e.decode(\"UTF-8\")\n",
    "print(\"Base85 Encoded:\", s1)\n",
    "b1 = s1.encode(\"UTF-8\")\n",
    "d = base64.b85decode(b1)\n",
    "s2 = d.decode(\"UTF-8\")\n",
    "print(s2)"
   ],
   "outputs": [
    {
     "output_type": "stream",
     "name": "stdout",
     "text": [
      "Base85 Encoded: NM&qnZy;B1a%^NF\n",
      "Hello World!\n"
     ]
    }
   ],
   "metadata": {}
  },
  {
   "cell_type": "code",
   "execution_count": 74,
   "source": [
    "import webbrowser\n",
    "webbrowser.open(\"http://stackoverflow.com\")\n",
    "webbrowser.open_new(\"http://stackoverflow.com\")\n",
    "webbrowser.open_new_tab(\"http://stackoverflow.com\")\n"
   ],
   "outputs": [
    {
     "output_type": "execute_result",
     "data": {
      "text/plain": [
       "True"
      ]
     },
     "metadata": {},
     "execution_count": 74
    }
   ],
   "metadata": {}
  },
  {
   "cell_type": "code",
   "execution_count": 79,
   "source": [
    "import numpy as np\n",
    "import matplotlib.pyplot as plt"
   ],
   "outputs": [],
   "metadata": {}
  },
  {
   "cell_type": "code",
   "execution_count": 80,
   "source": [
    "x = np.linspace(0, 2.0*np.pi, 101)\n",
    "y = np.sin(x)\n",
    "z = np.sinh(x)\n",
    "fig, ax1 = plt.subplots()\n",
    "ax2 = ax1.twinx() \n",
    "curve1, = ax1.plot(x, y, label=\"sin\", color='r')\n",
    "curve2, = ax2.plot(x, z, label=\"sinh\", color='b')\n",
    "curves = [curve1, curve2]\n",
    "ax1.legend(curves, [curve.get_label() for curve in curves])\n",
    "plt.title(\"Plot of sine and hyperbolic sine\")\n",
    "plt.show()"
   ],
   "outputs": [
    {
     "output_type": "display_data",
     "data": {
      "image/png": "[encoded data removed]",
      "text/plain": [
       "<Figure size 432x288 with 2 Axes>"
      ]
     },
     "metadata": {
      "needs_background": "light"
     }
    }
   ],
   "metadata": {}
  },
  {
   "cell_type": "code",
   "execution_count": 81,
   "source": [
    "y = np.linspace(0, 2.0*np.pi, 101)\n",
    "x1 = np.sin(y)\n",
    "x2 = np.sinh(y)\n",
    "ynumbers = np.linspace(0, 7, 15)\n",
    "xnumbers1 = np.linspace(-1, 1, 11)\n",
    "xnumbers2 = np.linspace(0, 300, 7)\n",
    "fig, ax1 = plt.subplots()\n",
    "ax2 = ax1.twiny()\n",
    "curve1, = ax1.plot(x1, y, label=\"sin\", color='r')\n",
    "curve2, = ax2.plot(x2, y, label=\"sinh\", color='b')\n",
    "curves = [curve1, curve2]\n",
    "ax2.legend(curves, [curve.get_label() for curve in curves])\n",
    "ax1.set_xlabel(\"Magnitude\", color=curve1.get_color())\n",
    "ax2.set_xlabel(\"Magnitude\", color=curve2.get_color())\n",
    "ax1.set_ylabel(\"Angle/Value\", color=curve1.get_color())\n",
    "ax1.tick_params(axis='y', colors=curve1.get_color())\n",
    "ax1.tick_params(axis='x', colors=curve1.get_color())\n",
    "ax2.tick_params(axis='x', colors=curve2.get_color())\n",
    "ax1.set_xticks(xnumbers1)\n",
    "ax2.set_xticks(xnumbers2)\n",
    "ax1.set_yticks(ynumbers)\n",
    "ax1.grid(color=curve2.get_color())\n",
    "ax2.grid(color=curve2.get_color())\n",
    "ax1.xaxis.grid(False)\n",
    "plt.title(\"Plot of sine and hyperbolic sine\")\n",
    "plt.show()"
   ],
   "outputs": [
    {
     "output_type": "display_data",
     "data": {
      "image/png": "[encoded data removed]",
      "text/plain": [
       "<Figure size 432x288 with 2 Axes>"
      ]
     },
     "metadata": {
      "needs_background": "light"
     }
    }
   ],
   "metadata": {}
  },
  {
   "cell_type": "code",
   "execution_count": 82,
   "source": [
    "x = np.linspace(0, 2.0*np.pi, 101)\n",
    "y = np.sin(x)\n",
    "plt.plot(x,y)\n",
    "plt.show()"
   ],
   "outputs": [
    {
     "output_type": "display_data",
     "data": {
      "image/png": "[encoded data removed]",
      "text/plain": [
       "<Figure size 432x288 with 1 Axes>"
      ]
     },
     "metadata": {
      "needs_background": "light"
     }
    }
   ],
   "metadata": {}
  },
  {
   "cell_type": "code",
   "execution_count": 83,
   "source": [
    "x = np.linspace(0, 2.0*np.pi, 101)\n",
    "y = np.sin(x)\n",
    "xnumbers = np.linspace(0, 7, 15)\n",
    "ynumbers = np.linspace(-1, 1, 11)\n",
    "plt.plot(x, y, color='r', label='sin') \n",
    "plt.xlabel(\"Angle in Radians\")\n",
    "plt.ylabel(\"Magnitude\")\n",
    "plt.title(\"Plot of some trigonometric functions\")\n",
    "plt.xticks(xnumbers)\n",
    "plt.yticks(ynumbers)\n",
    "plt.legend()\n",
    "plt.grid()\n",
    "plt.axis([0, 6.5, -1.1, 1.1]) \n",
    "plt.show()"
   ],
   "outputs": [
    {
     "output_type": "display_data",
     "data": {
      "image/png": "[encoded data removed]",
      "text/plain": [
       "<Figure size 432x288 with 1 Axes>"
      ]
     },
     "metadata": {
      "needs_background": "light"
     }
    }
   ],
   "metadata": {}
  },
  {
   "cell_type": "code",
   "execution_count": 85,
   "source": [
    "x = np.linspace(0, 2.0*np.pi, 101)\n",
    "y = np.sin(x)\n",
    "z = np.cos(x)\n",
    "xnumbers = np.linspace(0, 7, 15)\n",
    "ynumbers = np.linspace(-1, 1, 11)\n",
    "plt.plot(x, y, 'r', x, z, 'g')\n",
    "plt.xlabel(\"Angle in Radians\")\n",
    "plt.ylabel(\"Magnitude\")\n",
    "plt.title(\"Plot of some trigonometric functions\")\n",
    "plt.xticks(xnumbers)\n",
    "plt.yticks(ynumbers)\n",
    "plt.legend(['sine', 'cosine'])\n",
    "plt.grid()\n",
    "plt.axis([0, 6.5, -1.1, 1.1])\n",
    "plt.show()"
   ],
   "outputs": [
    {
     "output_type": "display_data",
     "data": {
      "image/png": "[encoded data removed]",
      "text/plain": [
       "<Figure size 432x288 with 1 Axes>"
      ]
     },
     "metadata": {
      "needs_background": "light"
     }
    }
   ],
   "metadata": {}
  },
  {
   "cell_type": "code",
   "execution_count": 86,
   "source": [
    "x = np.linspace(0, 2.0*np.pi, 101)\n",
    "y = np.sin(x)\n",
    "z = np.cos(x)\n",
    "xnumbers = np.linspace(0, 7, 15)\n",
    "ynumbers = np.linspace(-1, 1, 11)\n",
    "plt.plot(x, y, color='r', label='sin')\n",
    "plt.plot(x, z, color='g', label='cos')\n",
    "plt.xlabel(\"Angle in Radians\")\n",
    "plt.ylabel(\"Magnitude\")\n",
    "plt.title(\"Plot of some trigonometric functions\")\n",
    "plt.xticks(xnumbers)\n",
    "plt.yticks(ynumbers)\n",
    "plt.legend()\n",
    "plt.grid()\n",
    "plt.axis([0, 6.5, -1.1, 1.1]) \n",
    "plt.show()"
   ],
   "outputs": [
    {
     "output_type": "display_data",
     "data": {
      "image/png": "[encoded data removed]",
      "text/plain": [
       "<Figure size 432x288 with 1 Axes>"
      ]
     },
     "metadata": {
      "needs_background": "light"
     }
    }
   ],
   "metadata": {}
  },
  {
   "cell_type": "code",
   "execution_count": 90,
   "source": [
    "expression = (x**2 for x in range(10))\n",
    "list(expression)"
   ],
   "outputs": [
    {
     "output_type": "execute_result",
     "data": {
      "text/plain": [
       "[0, 1, 4, 9, 16, 25, 36, 49, 64, 81]"
      ]
     },
     "metadata": {},
     "execution_count": 90
    }
   ],
   "metadata": {}
  },
  {
   "cell_type": "code",
   "execution_count": 92,
   "source": [
    "def function():\n",
    "    for x in range(10):\n",
    "        yield x**2\n",
    "\n",
    "list(function())"
   ],
   "outputs": [
    {
     "output_type": "execute_result",
     "data": {
      "text/plain": [
       "[0, 1, 4, 9, 16, 25, 36, 49, 64, 81]"
      ]
     },
     "metadata": {},
     "execution_count": 92
    }
   ],
   "metadata": {}
  },
  {
   "cell_type": "code",
   "execution_count": 93,
   "source": [
    "from functools import reduce"
   ],
   "outputs": [],
   "metadata": {}
  },
  {
   "cell_type": "code",
   "execution_count": 94,
   "source": [
    "def add(s1, s2):\n",
    "    return s1 + s2\n",
    "\n",
    "asequence = [1, 2, 3]\n",
    "\n",
    "reduce(add, asequence)"
   ],
   "outputs": [
    {
     "output_type": "execute_result",
     "data": {
      "text/plain": [
       "6"
      ]
     },
     "metadata": {},
     "execution_count": 94
    }
   ],
   "metadata": {}
  },
  {
   "cell_type": "code",
   "execution_count": 95,
   "source": [
    "import operator\n",
    "reduce(operator.add, asequence)"
   ],
   "outputs": [
    {
     "output_type": "execute_result",
     "data": {
      "text/plain": [
       "6"
      ]
     },
     "metadata": {},
     "execution_count": 95
    }
   ],
   "metadata": {}
  },
  {
   "cell_type": "code",
   "execution_count": 96,
   "source": [
    "def multiply(s1, s2):\n",
    "    print('{arg1} * {arg2} = {res}'.format(arg1=s1,arg2=s2,res=s1*s2))\n",
    "    return s1 * s2\n",
    "\n",
    "asequence = [1, 2, 3]"
   ],
   "outputs": [],
   "metadata": {}
  },
  {
   "cell_type": "code",
   "execution_count": 97,
   "source": [
    "cumprod = reduce(multiply, asequence, 5)"
   ],
   "outputs": [
    {
     "output_type": "stream",
     "name": "stdout",
     "text": [
      "5 * 1 = 5\n",
      "5 * 2 = 10\n",
      "10 * 3 = 30\n"
     ]
    }
   ],
   "metadata": {}
  },
  {
   "cell_type": "code",
   "execution_count": 98,
   "source": [
    "print(cumprod)"
   ],
   "outputs": [
    {
     "output_type": "stream",
     "name": "stdout",
     "text": [
      "30\n"
     ]
    }
   ],
   "metadata": {}
  },
  {
   "cell_type": "code",
   "execution_count": 99,
   "source": [
    "cumprod = reduce(multiply, asequence)\n",
    "print(cumprod)"
   ],
   "outputs": [
    {
     "output_type": "stream",
     "name": "stdout",
     "text": [
      "1 * 2 = 2\n",
      "2 * 3 = 6\n",
      "6\n"
     ]
    }
   ],
   "metadata": {}
  },
  {
   "cell_type": "code",
   "execution_count": 100,
   "source": [
    "import operator\n",
    "reduce(operator.mul, [10, 5, -3])"
   ],
   "outputs": [
    {
     "output_type": "execute_result",
     "data": {
      "text/plain": [
       "-150"
      ]
     },
     "metadata": {},
     "execution_count": 100
    }
   ],
   "metadata": {}
  },
  {
   "cell_type": "code",
   "execution_count": 102,
   "source": [
    "reduce(operator.and_, [False, True, True, True]) "
   ],
   "outputs": [
    {
     "output_type": "execute_result",
     "data": {
      "text/plain": [
       "False"
      ]
     },
     "metadata": {},
     "execution_count": 102
    }
   ],
   "metadata": {}
  },
  {
   "cell_type": "code",
   "execution_count": 103,
   "source": [
    "reduce(operator.or_, [True, False, False, False])"
   ],
   "outputs": [
    {
     "output_type": "execute_result",
     "data": {
      "text/plain": [
       "True"
      ]
     },
     "metadata": {},
     "execution_count": 103
    }
   ],
   "metadata": {}
  },
  {
   "cell_type": "code",
   "execution_count": 107,
   "source": [
    "names = ['Fred', 'Wilma', 'Barney']\n",
    "list(map(len, names))"
   ],
   "outputs": [
    {
     "output_type": "execute_result",
     "data": {
      "text/plain": [
       "[4, 5, 6]"
      ]
     },
     "metadata": {},
     "execution_count": 107
    }
   ],
   "metadata": {}
  },
  {
   "cell_type": "code",
   "execution_count": 108,
   "source": [
    "list(map(abs, (1, -1, 2, -2, 3, -3)))"
   ],
   "outputs": [
    {
     "output_type": "execute_result",
     "data": {
      "text/plain": [
       "[1, 1, 2, 2, 3, 3]"
      ]
     },
     "metadata": {},
     "execution_count": 108
    }
   ],
   "metadata": {}
  },
  {
   "cell_type": "code",
   "execution_count": 110,
   "source": [
    "list(map(lambda x:x*2, [1, 2, 3, 4, 5]))"
   ],
   "outputs": [
    {
     "output_type": "execute_result",
     "data": {
      "text/plain": [
       "[2, 4, 6, 8, 10]"
      ]
     },
     "metadata": {},
     "execution_count": 110
    }
   ],
   "metadata": {}
  },
  {
   "cell_type": "code",
   "execution_count": 111,
   "source": [
    "def to_percent(num):\n",
    "    return num * 100\n",
    "\n",
    "list(map(to_percent, [0.95, 0.75, 1.01, 0.1]))"
   ],
   "outputs": [
    {
     "output_type": "execute_result",
     "data": {
      "text/plain": [
       "[95.0, 75.0, 101.0, 10.0]"
      ]
     },
     "metadata": {},
     "execution_count": 111
    }
   ],
   "metadata": {}
  },
  {
   "cell_type": "code",
   "execution_count": 112,
   "source": [
    "from functools import partial\n",
    "from operator import mul\n",
    "rate = 8.7 # fictitious exchange rate, 1 dollar = 8.7 tl\n",
    "dollars = {'under_my_bed': 1000,\n",
    "'jeans': 45,\n",
    "'bank': 5000}\n",
    "sum(map(partial(mul, rate), dollars.values()))\n"
   ],
   "outputs": [
    {
     "output_type": "execute_result",
     "data": {
      "text/plain": [
       "52591.5"
      ]
     },
     "metadata": {},
     "execution_count": 112
    }
   ],
   "metadata": {}
  },
  {
   "cell_type": "code",
   "execution_count": 113,
   "source": [
    "def average(*args):\n",
    "    return float(sum(args)) / len(args)\n",
    "\n",
    "\n",
    "measurement1 = [100, 111, 99, 97]\n",
    "measurement2 = [102, 117, 91, 102]\n",
    "measurement3 = [104, 102, 95, 101]\n",
    "list(map(average, measurement1, measurement2, measurement3))\n"
   ],
   "outputs": [
    {
     "output_type": "execute_result",
     "data": {
      "text/plain": [
       "[102.0, 110.0, 95.0, 100.0]"
      ]
     },
     "metadata": {},
     "execution_count": 113
    }
   ],
   "metadata": {}
  },
  {
   "cell_type": "code",
   "execution_count": 114,
   "source": [
    "import pprint\n",
    "carnivores = ['lion', 'tiger', 'leopard', 'arctic fox']\n",
    "herbivores = ['african buffalo', 'moose', 'okapi', 'parakeet']\n",
    "omnivores = ['chicken', 'dove', 'mouse', 'pig']\n",
    "insects = ['fly', 'ant', 'beetle', 'cankerworm']\n",
    "def animals(w, x, y, z):\n",
    "    return '{0}, {1}, {2}, and {3} ARE ALL ANIMALS'.format(w.title(), x, y, z)\n",
    "\n",
    "\n",
    "pprint.pprint(list(map(animals, insects, carnivores, herbivores, omnivores)))"
   ],
   "outputs": [
    {
     "output_type": "stream",
     "name": "stdout",
     "text": [
      "['Fly, lion, african buffalo, and chicken ARE ALL ANIMALS',\n",
      " 'Ant, tiger, moose, and dove ARE ALL ANIMALS',\n",
      " 'Beetle, leopard, okapi, and mouse ARE ALL ANIMALS',\n",
      " 'Cankerworm, arctic fox, parakeet, and pig ARE ALL ANIMALS']\n"
     ]
    }
   ],
   "metadata": {}
  },
  {
   "cell_type": "code",
   "execution_count": 115,
   "source": [
    "alist = [0, 1, 2, 3, 4, 5, 6, 7, 8, 9]\n",
    "5 in alist"
   ],
   "outputs": [
    {
     "output_type": "execute_result",
     "data": {
      "text/plain": [
       "True"
      ]
     },
     "metadata": {},
     "execution_count": 115
    }
   ],
   "metadata": {}
  },
  {
   "cell_type": "code",
   "execution_count": 116,
   "source": [
    "atuple = ('0', '1', '2', '3', '4')\n",
    "4 in atuple"
   ],
   "outputs": [
    {
     "output_type": "execute_result",
     "data": {
      "text/plain": [
       "False"
      ]
     },
     "metadata": {},
     "execution_count": 116
    }
   ],
   "metadata": {}
  },
  {
   "cell_type": "code",
   "execution_count": 117,
   "source": [
    "astring = 'i am a string'\n",
    "'a' in astring"
   ],
   "outputs": [
    {
     "output_type": "execute_result",
     "data": {
      "text/plain": [
       "True"
      ]
     },
     "metadata": {},
     "execution_count": 117
    }
   ],
   "metadata": {}
  },
  {
   "cell_type": "code",
   "execution_count": 118,
   "source": [
    "aset = {(10, 10), (20, 20), (30, 30)}\n",
    "(10, 10) in aset"
   ],
   "outputs": [
    {
     "output_type": "execute_result",
     "data": {
      "text/plain": [
       "True"
      ]
     },
     "metadata": {},
     "execution_count": 118
    }
   ],
   "metadata": {}
  },
  {
   "cell_type": "code",
   "execution_count": 119,
   "source": [
    "adict = {0: 'a', 1: 'b', 2: 'c', 3:'d'}\n",
    "1 in adict"
   ],
   "outputs": [
    {
     "output_type": "execute_result",
     "data": {
      "text/plain": [
       "True"
      ]
     },
     "metadata": {},
     "execution_count": 119
    }
   ],
   "metadata": {}
  },
  {
   "cell_type": "code",
   "execution_count": 120,
   "source": [
    "class ListList:\n",
    "    def __init__(self, value):\n",
    "        self.value = value\n",
    "        self.setofvalues = set(item for sublist in self.value for item in sublist)\n",
    "        \n",
    "    def __iter__(self):\n",
    "        print('Using __iter__.')\n",
    "        return (item for sublist in self.value for item in sublist)\n",
    "\n",
    "    def __contains__(self, value):\n",
    "        print('Using __contains__.')\n",
    "        return value in self.setofvalues"
   ],
   "outputs": [],
   "metadata": {}
  },
  {
   "cell_type": "code",
   "execution_count": 121,
   "source": [
    "a = ListList([[1,1,1],[0,1,1],[1,5,1]])\n",
    "10 in a"
   ],
   "outputs": [
    {
     "output_type": "stream",
     "name": "stdout",
     "text": [
      "Using __contains__.\n"
     ]
    },
    {
     "output_type": "execute_result",
     "data": {
      "text/plain": [
       "False"
      ]
     },
     "metadata": {},
     "execution_count": 121
    }
   ],
   "metadata": {}
  },
  {
   "cell_type": "code",
   "execution_count": 122,
   "source": [
    "del ListList.__contains__\n",
    "5 in a"
   ],
   "outputs": [
    {
     "output_type": "stream",
     "name": "stdout",
     "text": [
      "Using __iter__.\n"
     ]
    },
    {
     "output_type": "execute_result",
     "data": {
      "text/plain": [
       "True"
      ]
     },
     "metadata": {},
     "execution_count": 122
    }
   ],
   "metadata": {}
  },
  {
   "cell_type": "code",
   "execution_count": 124,
   "source": [
    "astring = 'Hello on StackOverflow'\n",
    "astring.index('o')"
   ],
   "outputs": [
    {
     "output_type": "execute_result",
     "data": {
      "text/plain": [
       "20"
      ]
     },
     "metadata": {},
     "execution_count": 124
    }
   ],
   "metadata": {}
  },
  {
   "cell_type": "code",
   "execution_count": 125,
   "source": [
    "astring.rindex('o')"
   ],
   "outputs": [
    {
     "output_type": "execute_result",
     "data": {
      "text/plain": [
       "20"
      ]
     },
     "metadata": {},
     "execution_count": 125
    }
   ],
   "metadata": {}
  },
  {
   "cell_type": "code",
   "execution_count": 126,
   "source": [
    "alist = [10, 16, 26, 5, 2, 19, 105, 26]\n",
    "alist.index(16)"
   ],
   "outputs": [
    {
     "output_type": "execute_result",
     "data": {
      "text/plain": [
       "1"
      ]
     },
     "metadata": {},
     "execution_count": 126
    }
   ],
   "metadata": {}
  },
  {
   "cell_type": "code",
   "execution_count": 127,
   "source": [
    "import re\n",
    "pattern = r\"123\"\n",
    "string = \"123zzb\"\n",
    "\n",
    "re.match(pattern, string)\n"
   ],
   "outputs": [
    {
     "output_type": "execute_result",
     "data": {
      "text/plain": [
       "<re.Match object; span=(0, 3), match='123'>"
      ]
     },
     "metadata": {},
     "execution_count": 127
    }
   ],
   "metadata": {}
  },
  {
   "cell_type": "code",
   "execution_count": 128,
   "source": [
    "match = re.match(pattern, string)\n",
    "match.group()"
   ],
   "outputs": [
    {
     "output_type": "execute_result",
     "data": {
      "text/plain": [
       "'123'"
      ]
     },
     "metadata": {},
     "execution_count": 128
    }
   ],
   "metadata": {}
  },
  {
   "cell_type": "code",
   "execution_count": 130,
   "source": [
    "pattern = r\"(your base)\"\n",
    "sentence = \"All your base are belong to us.\"\n",
    "match = re.search(pattern, sentence)\n",
    "\n",
    "match.group(1)\n",
    "match = re.search(r\"(belong.*)\", sentence)\n",
    "match.group(1)"
   ],
   "outputs": [
    {
     "output_type": "execute_result",
     "data": {
      "text/plain": [
       "'belong to us.'"
      ]
     },
     "metadata": {},
     "execution_count": 130
    }
   ],
   "metadata": {}
  },
  {
   "cell_type": "code",
   "execution_count": 134,
   "source": [
    "match = re.search(r\"^123\", \"123zzb\")\n",
    "match.group(0)"
   ],
   "outputs": [
    {
     "output_type": "execute_result",
     "data": {
      "text/plain": [
       "'123'"
      ]
     },
     "metadata": {},
     "execution_count": 134
    }
   ],
   "metadata": {}
  },
  {
   "cell_type": "code",
   "execution_count": 135,
   "source": [
    "precompiled_pattern = re.compile(r\"(\\d+)\")\n",
    "matches = precompiled_pattern.search(\"The answer is 41!\")\n",
    "matches.group(1)"
   ],
   "outputs": [
    {
     "output_type": "execute_result",
     "data": {
      "text/plain": [
       "'41'"
      ]
     },
     "metadata": {},
     "execution_count": 135
    }
   ],
   "metadata": {}
  },
  {
   "cell_type": "code",
   "execution_count": 136,
   "source": [
    "matches = precompiled_pattern.search(\"Or was it 42?\")\n",
    "matches.group(1)"
   ],
   "outputs": [
    {
     "output_type": "execute_result",
     "data": {
      "text/plain": [
       "'42'"
      ]
     },
     "metadata": {},
     "execution_count": 136
    }
   ],
   "metadata": {}
  },
  {
   "cell_type": "code",
   "execution_count": 137,
   "source": [
    "precompiled_pattern = re.compile(r\"(.*\\d+)\")\n",
    "matches = precompiled_pattern.match(\"The answer is 41!\")\n",
    "print(matches.group(1))\n",
    "matches = precompiled_pattern.match(\"Or was it 42?\")\n",
    "print(matches.group(1))"
   ],
   "outputs": [
    {
     "output_type": "stream",
     "name": "stdout",
     "text": [
      "The answer is 41\n",
      "Or was it 42\n"
     ]
    }
   ],
   "metadata": {}
  },
  {
   "cell_type": "code",
   "execution_count": 138,
   "source": [
    "re.sub(r\"t[0-9][0-9]\", \"foo\", \"my name t13 is t44 what t99 ever t44\")"
   ],
   "outputs": [
    {
     "output_type": "execute_result",
     "data": {
      "text/plain": [
       "'my name foo is foo what foo ever foo'"
      ]
     },
     "metadata": {},
     "execution_count": 138
    }
   ],
   "metadata": {}
  },
  {
   "cell_type": "code",
   "execution_count": 139,
   "source": [
    "re.sub(r\"t([0-9])([0-9])\", r\"t\\2\\1\", \"t13 t19 t81 t25\")"
   ],
   "outputs": [
    {
     "output_type": "execute_result",
     "data": {
      "text/plain": [
       "'t31 t91 t18 t52'"
      ]
     },
     "metadata": {},
     "execution_count": 139
    }
   ],
   "metadata": {}
  },
  {
   "cell_type": "code",
   "execution_count": 140,
   "source": [
    "re.sub(r\"t([0-9])([0-9])\", r\"t\\g<2>\\g<1>\", \"t13 t19 t81 t25\")"
   ],
   "outputs": [
    {
     "output_type": "execute_result",
     "data": {
      "text/plain": [
       "'t31 t91 t18 t52'"
      ]
     },
     "metadata": {},
     "execution_count": 140
    }
   ],
   "metadata": {}
  },
  {
   "cell_type": "code",
   "execution_count": 141,
   "source": [
    "items = [\"zero\", \"one\", \"two\"]\n",
    "re.sub(r\"a\\[([0-3])\\]\", lambda match: items[int(match.group(1))], \"Items: a[0], a[1], something,a[2]\")\n"
   ],
   "outputs": [
    {
     "output_type": "execute_result",
     "data": {
      "text/plain": [
       "'Items: zero, one, something,two'"
      ]
     },
     "metadata": {},
     "execution_count": 141
    }
   ],
   "metadata": {}
  },
  {
   "cell_type": "code",
   "execution_count": 142,
   "source": [
    "results = re.finditer(r\"([0-9]{2,3})\", \"some 1 text 12 is 945 here 4445588899\")\n",
    "print(results)\n",
    "\n",
    "for result in results:\n",
    "    print(result.group(0))\n"
   ],
   "outputs": [
    {
     "output_type": "stream",
     "name": "stdout",
     "text": [
      "<callable_iterator object at 0x7f8770bb9640>\n",
      "12\n",
      "945\n",
      "444\n",
      "558\n",
      "889\n"
     ]
    }
   ],
   "metadata": {}
  },
  {
   "cell_type": "code",
   "execution_count": 143,
   "source": [
    "def is_allowed(string):\n",
    "    characherRegex = re.compile(r'[^a-zA-Z0-9.]')\n",
    "    string = characherRegex.search(string)\n",
    "    return not bool(string)\n",
    "\n",
    "print (is_allowed(\"abyzABYZ0099\"))\n",
    "print (is_allowed(\"#*@#$%^\"))\n"
   ],
   "outputs": [
    {
     "output_type": "stream",
     "name": "stdout",
     "text": [
      "True\n",
      "False\n"
     ]
    }
   ],
   "metadata": {}
  },
  {
   "cell_type": "code",
   "execution_count": 144,
   "source": [
    "data = re.split(r'\\s+', 'James 94 Samantha 417 Scarlett 74')\n",
    "print( data )"
   ],
   "outputs": [
    {
     "output_type": "stream",
     "name": "stdout",
     "text": [
      "['James', '94', 'Samantha', '417', 'Scarlett', '74']\n"
     ]
    }
   ],
   "metadata": {}
  },
  {
   "cell_type": "code",
   "execution_count": 148,
   "source": [
    "d1 = {1:[]}\n",
    "d2 = d1.copy()\n",
    "d1 is d2"
   ],
   "outputs": [
    {
     "output_type": "execute_result",
     "data": {
      "text/plain": [
       "False"
      ]
     },
     "metadata": {},
     "execution_count": 148
    }
   ],
   "metadata": {}
  },
  {
   "cell_type": "code",
   "execution_count": 149,
   "source": [
    "d1[1] is d2[1]"
   ],
   "outputs": [
    {
     "output_type": "execute_result",
     "data": {
      "text/plain": [
       "True"
      ]
     },
     "metadata": {},
     "execution_count": 149
    }
   ],
   "metadata": {}
  },
  {
   "cell_type": "markdown",
   "source": [
    "# Chapter 80: Creating Python packages read"
   ],
   "metadata": {}
  },
  {
   "cell_type": "code",
   "execution_count": 1,
   "source": [
    "def factorial(n):\n",
    "    if n == 0:\n",
    "        return 1\n",
    "    elif n == 1:\n",
    "        return 1\n",
    "    else:\n",
    "        return n * factorial(n - 1)\n",
    "\n",
    "factorial(5)\n"
   ],
   "outputs": [
    {
     "output_type": "execute_result",
     "data": {
      "text/plain": [
       "120"
      ]
     },
     "metadata": {},
     "execution_count": 1
    }
   ],
   "metadata": {}
  },
  {
   "cell_type": "code",
   "execution_count": 2,
   "source": [
    "def fib(n):\n",
    "    if n == 0 or n == 1:\n",
    "        return n\n",
    "    else:\n",
    "        return fib(n - 2) + fib(n - 1)\n",
    "\n",
    "fib(5)"
   ],
   "outputs": [
    {
     "output_type": "execute_result",
     "data": {
      "text/plain": [
       "5"
      ]
     },
     "metadata": {},
     "execution_count": 2
    }
   ],
   "metadata": {}
  },
  {
   "cell_type": "code",
   "execution_count": 8,
   "source": [
    "def two_sum(a: int, b: int):\n",
    "    return a + b\n",
    "\n",
    "def two_sum_2(a: int, b: int) -> int:\n",
    "    return a + b\n",
    "\n",
    "print(two_sum(2,4))\n",
    "print(two_sum_2(0,0))"
   ],
   "outputs": [
    {
     "output_type": "stream",
     "name": "stdout",
     "text": [
      "6\n",
      "0\n"
     ]
    }
   ],
   "metadata": {}
  },
  {
   "cell_type": "code",
   "execution_count": 10,
   "source": [
    "try:\n",
    "    x = 5 / 0\n",
    "except ZeroDivisionError as e:\n",
    "    print(\"Got a divide by zero! -> \",e)\n",
    "    x = 0\n",
    "finally:\n",
    "    print('end')    \n",
    "\n",
    "print(x)"
   ],
   "outputs": [
    {
     "output_type": "stream",
     "name": "stdout",
     "text": [
      "Got a divide by zero! ->  division by zero\n",
      "end\n",
      "0\n"
     ]
    }
   ],
   "metadata": {}
  },
  {
   "cell_type": "code",
   "execution_count": 13,
   "source": [
    "try:\n",
    "    d = {}\n",
    "    a = d[1]\n",
    "    b = d.non_existing_field\n",
    "except KeyError as e:\n",
    "    print(\"A KeyError has occurred. Exception message:\", e)\n",
    "except AttributeError as e:\n",
    "    print(\"An AttributeError has occurred. Exception message:\", e)"
   ],
   "outputs": [
    {
     "output_type": "stream",
     "name": "stdout",
     "text": [
      "A KeyError has occurred. Exception message: 1\n"
     ]
    }
   ],
   "metadata": {}
  },
  {
   "cell_type": "code",
   "execution_count": 18,
   "source": [
    "try:\n",
    "    data = {1: 'one', 2: 'two'}\n",
    "    print(data[1])\n",
    "except KeyError as e:\n",
    "    print('key not found')\n",
    "else:\n",
    "    raise ValueError()\n"
   ],
   "outputs": [
    {
     "output_type": "stream",
     "name": "stdout",
     "text": [
      "one\n"
     ]
    },
    {
     "output_type": "error",
     "ename": "ValueError",
     "evalue": "",
     "traceback": [
      "\u001b[0;31m---------------------------------------------------------------------------\u001b[0m",
      "\u001b[0;31mValueError\u001b[0m                                Traceback (most recent call last)",
      "\u001b[0;32m/tmp/ipykernel_12465/3115892256.py\u001b[0m in \u001b[0;36m<module>\u001b[0;34m\u001b[0m\n\u001b[1;32m      5\u001b[0m     \u001b[0mprint\u001b[0m\u001b[0;34m(\u001b[0m\u001b[0;34m'key not found'\u001b[0m\u001b[0;34m)\u001b[0m\u001b[0;34m\u001b[0m\u001b[0;34m\u001b[0m\u001b[0m\n\u001b[1;32m      6\u001b[0m \u001b[0;32melse\u001b[0m\u001b[0;34m:\u001b[0m\u001b[0;34m\u001b[0m\u001b[0;34m\u001b[0m\u001b[0m\n\u001b[0;32m----> 7\u001b[0;31m     \u001b[0;32mraise\u001b[0m \u001b[0mValueError\u001b[0m\u001b[0;34m(\u001b[0m\u001b[0;34m)\u001b[0m\u001b[0;34m\u001b[0m\u001b[0;34m\u001b[0m\u001b[0m\n\u001b[0m",
      "\u001b[0;31mValueError\u001b[0m: "
     ]
    }
   ],
   "metadata": {}
  },
  {
   "cell_type": "code",
   "execution_count": 20,
   "source": [
    "def even_the_odds(odds):\n",
    "    if odds % 2 != 1:\n",
    "        raise ValueError(\"Did not get an odd number\")\n",
    "    return odds + 1\n",
    "\n",
    "even_the_odds(3)"
   ],
   "outputs": [
    {
     "output_type": "execute_result",
     "data": {
      "text/plain": [
       "4"
      ]
     },
     "metadata": {},
     "execution_count": 20
    }
   ],
   "metadata": {}
  },
  {
   "cell_type": "code",
   "execution_count": 23,
   "source": [
    "even_the_odds(4)"
   ],
   "outputs": [
    {
     "output_type": "error",
     "ename": "ValueError",
     "evalue": "Did not get an odd number",
     "traceback": [
      "\u001b[0;31m---------------------------------------------------------------------------\u001b[0m",
      "\u001b[0;31mValueError\u001b[0m                                Traceback (most recent call last)",
      "\u001b[0;32m/tmp/ipykernel_12465/284152864.py\u001b[0m in \u001b[0;36m<module>\u001b[0;34m\u001b[0m\n\u001b[0;32m----> 1\u001b[0;31m \u001b[0meven_the_odds\u001b[0m\u001b[0;34m(\u001b[0m\u001b[0;36m4\u001b[0m\u001b[0;34m)\u001b[0m\u001b[0;34m\u001b[0m\u001b[0;34m\u001b[0m\u001b[0m\n\u001b[0m",
      "\u001b[0;32m/tmp/ipykernel_12465/2757110642.py\u001b[0m in \u001b[0;36meven_the_odds\u001b[0;34m(odds)\u001b[0m\n\u001b[1;32m      1\u001b[0m \u001b[0;32mdef\u001b[0m \u001b[0meven_the_odds\u001b[0m\u001b[0;34m(\u001b[0m\u001b[0modds\u001b[0m\u001b[0;34m)\u001b[0m\u001b[0;34m:\u001b[0m\u001b[0;34m\u001b[0m\u001b[0;34m\u001b[0m\u001b[0m\n\u001b[1;32m      2\u001b[0m     \u001b[0;32mif\u001b[0m \u001b[0modds\u001b[0m \u001b[0;34m%\u001b[0m \u001b[0;36m2\u001b[0m \u001b[0;34m!=\u001b[0m \u001b[0;36m1\u001b[0m\u001b[0;34m:\u001b[0m\u001b[0;34m\u001b[0m\u001b[0;34m\u001b[0m\u001b[0m\n\u001b[0;32m----> 3\u001b[0;31m         \u001b[0;32mraise\u001b[0m \u001b[0mValueError\u001b[0m\u001b[0;34m(\u001b[0m\u001b[0;34m\"Did not get an odd number\"\u001b[0m\u001b[0;34m)\u001b[0m\u001b[0;34m\u001b[0m\u001b[0;34m\u001b[0m\u001b[0m\n\u001b[0m\u001b[1;32m      4\u001b[0m     \u001b[0;32mreturn\u001b[0m \u001b[0modds\u001b[0m \u001b[0;34m+\u001b[0m \u001b[0;36m1\u001b[0m\u001b[0;34m\u001b[0m\u001b[0;34m\u001b[0m\u001b[0m\n\u001b[1;32m      5\u001b[0m \u001b[0;34m\u001b[0m\u001b[0m\n",
      "\u001b[0;31mValueError\u001b[0m: Did not get an odd number"
     ]
    }
   ],
   "metadata": {}
  },
  {
   "cell_type": "code",
   "execution_count": 25,
   "source": [
    "import urllib.request\n",
    "\n",
    "print(urllib.request.urlopen(\"http://stackoverflow.com/documentation/\"))\n"
   ],
   "outputs": [
    {
     "output_type": "stream",
     "name": "stdout",
     "text": [
      "<http.client.HTTPResponse object at 0x7f108fdc4760>\n"
     ]
    }
   ],
   "metadata": {}
  },
  {
   "cell_type": "code",
   "execution_count": 29,
   "source": [
    "response = urllib.request.urlopen(\"http://stackoverflow.com/documentation/\")\n",
    "print(response.code)\n",
    "\n",
    "print(response.read()[:550])\n"
   ],
   "outputs": [
    {
     "output_type": "stream",
     "name": "stdout",
     "text": [
      "200\n",
      "b'<!DOCTYPE html>\\r\\n\\r\\n\\r\\n    <html class=\"html__responsive html__unpinned-leftnav\">\\r\\n\\r\\n    <head>\\r\\n\\r\\n        <title>Documentation - Stack Overflow</title>\\r\\n        <link rel=\"shortcut icon\" href=\"https://cdn.sstatic.net/Sites/stackoverflow/Img/favicon.ico?v=ec617d715196\">\\r\\n        <link rel=\"apple-touch-icon\" href=\"https://cdn.sstatic.net/Sites/stackoverflow/Img/apple-touch-icon.png?v=c78bd457575a\">\\r\\n        <link rel=\"image_src\" href=\"https://cdn.sstatic.net/Sites/stackoverflow/Img/apple-touch-icon.png?v=c78bd457575a\"> \\r\\n        <link rel=\"search\"'\n"
     ]
    }
   ],
   "metadata": {}
  },
  {
   "cell_type": "code",
   "execution_count": 30,
   "source": [
    "import urllib\n",
    "query_parms = {'username':'stackoverflow', 'password':'me.me'}\n",
    "encoded_parms = urllib.parse.urlencode(query_parms).encode('utf-8')\n",
    "response = urllib.request.urlopen(\"https://stackoverflow.com/users/login\", encoded_parms)\n",
    "response.code"
   ],
   "outputs": [
    {
     "output_type": "execute_result",
     "data": {
      "text/plain": [
       "200"
      ]
     },
     "metadata": {},
     "execution_count": 30
    }
   ],
   "metadata": {}
  },
  {
   "cell_type": "code",
   "execution_count": 35,
   "source": [
    "response.read()"
   ],
   "outputs": [
    {
     "output_type": "execute_result",
     "data": {
      "text/plain": [
       "b''"
      ]
     },
     "metadata": {},
     "execution_count": 35
    }
   ],
   "metadata": {}
  },
  {
   "cell_type": "code",
   "execution_count": 36,
   "source": [
    "import urllib.request\n",
    "response = urllib.request.urlopen(\"http://stackoverflow.com/\")\n",
    "data = response.read()\n",
    "encoding = response.info().get_content_charset()\n",
    "html = data.decode(encoding)\n"
   ],
   "outputs": [],
   "metadata": {}
  },
  {
   "cell_type": "code",
   "execution_count": 40,
   "source": [],
   "outputs": [
    {
     "output_type": "execute_result",
     "data": {
      "text/plain": [
       "<http.client.HTTPResponse at 0x7f10b635ff40>"
      ]
     },
     "metadata": {},
     "execution_count": 40
    }
   ],
   "metadata": {}
  },
  {
   "cell_type": "code",
   "execution_count": 45,
   "source": [
    "from bs4 import BeautifulSoup\n",
    "data = \"\"\"\n",
    "<ul>\n",
    "<li class=\"item\">item1</li>\n",
    "<li class=\"item\">item2</li>\n",
    "<li class=\"item\">item3</li>\n",
    "</ul>\n",
    "\"\"\"\n",
    "soup = BeautifulSoup(data, \"html.parser\")\n",
    "for item in soup.select(\"li.item\"):\n",
    "    print(item.get_text())\n"
   ],
   "outputs": [
    {
     "output_type": "stream",
     "name": "stdout",
     "text": [
      "item1\n",
      "item2\n",
      "item3\n"
     ]
    }
   ],
   "metadata": {}
  },
  {
   "cell_type": "code",
   "execution_count": 46,
   "source": [
    "from bs4 import BeautifulSoup\n",
    "data = \"\"\"\n",
    "<div>\n",
    "<label>Name:</label>\n",
    "John Smith\n",
    "</div>\n",
    "\"\"\"\n",
    "soup = BeautifulSoup(data, \"html.parser\")\n",
    "label = soup.find(\"label\", text=\"Name:\")\n",
    "print(label.next_sibling.strip())"
   ],
   "outputs": [
    {
     "output_type": "stream",
     "name": "stdout",
     "text": [
      "John Smith\n"
     ]
    }
   ],
   "metadata": {}
  },
  {
   "cell_type": "code",
   "execution_count": 47,
   "source": [
    "from requests import post\n",
    "foo = post('http://httpbin.org/post', data = {'key':'value'})"
   ],
   "outputs": [],
   "metadata": {}
  },
  {
   "cell_type": "code",
   "execution_count": 48,
   "source": [
    "print(foo.headers)"
   ],
   "outputs": [
    {
     "output_type": "stream",
     "name": "stdout",
     "text": [
      "{'Date': 'Mon, 13 Sep 2021 17:08:10 GMT', 'Content-Type': 'application/json', 'Content-Length': '478', 'Connection': 'keep-alive', 'Server': 'gunicorn/19.9.0', 'Access-Control-Allow-Origin': '*', 'Access-Control-Allow-Credentials': 'true'}\n"
     ]
    }
   ],
   "metadata": {}
  },
  {
   "cell_type": "code",
   "execution_count": 49,
   "source": [
    "foo = post('http://httpbin.org/post', data = {'key':'value'}, verify=False)"
   ],
   "outputs": [],
   "metadata": {}
  },
  {
   "cell_type": "code",
   "execution_count": 50,
   "source": [
    "print(foo.headers)"
   ],
   "outputs": [
    {
     "output_type": "stream",
     "name": "stdout",
     "text": [
      "{'Date': 'Mon, 13 Sep 2021 17:08:42 GMT', 'Content-Type': 'application/json', 'Content-Length': '478', 'Connection': 'keep-alive', 'Server': 'gunicorn/19.9.0', 'Access-Control-Allow-Origin': '*', 'Access-Control-Allow-Credentials': 'true'}\n"
     ]
    }
   ],
   "metadata": {}
  },
  {
   "cell_type": "code",
   "execution_count": 51,
   "source": [
    "foo = post('http://httpbin.org/post', data = {'key':'value'}, allow_redirects=False)\n",
    "print(foo.url)\n",
    "print(foo.history)"
   ],
   "outputs": [
    {
     "output_type": "stream",
     "name": "stdout",
     "text": [
      "http://httpbin.org/post\n",
      "[]\n"
     ]
    }
   ],
   "metadata": {}
  },
  {
   "cell_type": "code",
   "execution_count": 53,
   "source": [
    "payload = {'key1' : 'value1',\n",
    "'key2' : 'value2'\n",
    "}\n",
    "foo = post('http://httpbin.org/post', data=payload)\n",
    "foo.cookies"
   ],
   "outputs": [
    {
     "output_type": "execute_result",
     "data": {
      "text/plain": [
       "<RequestsCookieJar[]>"
      ]
     },
     "metadata": {},
     "execution_count": 53
    }
   ],
   "metadata": {}
  },
  {
   "cell_type": "code",
   "execution_count": 54,
   "source": [
    "class A:\n",
    "    def __init__(self, a):\n",
    "        self.a = a\n",
    "    def __add__(self, other):\n",
    "        return self.a + other\n",
    "    def __radd__(self, other):\n",
    "        print(\"radd\")\n",
    "        return other + self.a\n",
    "\n",
    "A(1) + 2"
   ],
   "outputs": [
    {
     "output_type": "execute_result",
     "data": {
      "text/plain": [
       "3"
      ]
     },
     "metadata": {},
     "execution_count": 54
    }
   ],
   "metadata": {}
  },
  {
   "cell_type": "code",
   "execution_count": 55,
   "source": [
    "2 + A(1)\n",
    " "
   ],
   "outputs": [
    {
     "output_type": "stream",
     "name": "stdout",
     "text": [
      "radd\n"
     ]
    },
    {
     "output_type": "execute_result",
     "data": {
      "text/plain": [
       "3"
      ]
     },
     "metadata": {},
     "execution_count": 55
    }
   ],
   "metadata": {}
  },
  {
   "cell_type": "code",
   "execution_count": 56,
   "source": [
    "class Parent(object):\n",
    "    def introduce(self):\n",
    "        print(\"Hello!\")\n",
    "    def print_name(self):\n",
    "        print(\"Parent\")\n",
    "        \n",
    "class Child(Parent):\n",
    "    def print_name(self):\n",
    "        print(\"Child\")\n"
   ],
   "outputs": [],
   "metadata": {}
  },
  {
   "cell_type": "code",
   "execution_count": 57,
   "source": [
    "p = Parent()\n",
    "c = Child()\n",
    "p.introduce()\n",
    "p.print_name()\n",
    "c.introduce()\n",
    "c.print_name()\n"
   ],
   "outputs": [
    {
     "output_type": "stream",
     "name": "stdout",
     "text": [
      "Hello!\n",
      "Parent\n",
      "Hello!\n",
      "Child\n"
     ]
    }
   ],
   "metadata": {}
  }
 ],
 "metadata": {
  "orig_nbformat": 4,
  "language_info": {
   "name": "python",
   "version": "3.9.6",
   "mimetype": "text/x-python",
   "codemirror_mode": {
    "name": "ipython",
    "version": 3
   },
   "pygments_lexer": "ipython3",
   "nbconvert_exporter": "python",
   "file_extension": ".py"
  },
  "kernelspec": {
   "name": "python3",
   "display_name": "Python 3.9.6 64-bit"
  },
  "interpreter": {
   "hash": "e7370f93d1d0cde622a1f8e1c04877d8463912d04d973331ad4851f04de6915a"
  }
 },
 "nbformat": 4,
 "nbformat_minor": 2
}