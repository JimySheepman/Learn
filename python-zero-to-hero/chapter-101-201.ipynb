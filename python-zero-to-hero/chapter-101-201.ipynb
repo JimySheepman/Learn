{
 "cells": [
  {
   "cell_type": "code",
   "execution_count": 2,
   "source": [
    "class Card:\n",
    "    def __init__(self, suit, pips):\n",
    "        self.suit = suit\n",
    "        self.pips = pips"
   ],
   "outputs": [],
   "metadata": {}
  },
  {
   "cell_type": "code",
   "execution_count": 3,
   "source": [
    "ace_of_spades = Card('Spades', 1)\n",
    "four_of_clubs = Card('Clubs', 4)\n",
    "six_of_hearts = Card('Hearts', 6)"
   ],
   "outputs": [],
   "metadata": {}
  },
  {
   "cell_type": "code",
   "execution_count": 4,
   "source": [
    "my_hand = [ace_of_spades, four_of_clubs, six_of_hearts]\n",
    "print(my_hand)"
   ],
   "outputs": [
    {
     "output_type": "stream",
     "name": "stdout",
     "text": [
      "[<__main__.Card object at 0x7f90ec17f970>, <__main__.Card object at 0x7f90ec17f610>, <__main__.Card object at 0x7f90ec17f5e0>]\n"
     ]
    }
   ],
   "metadata": {}
  },
  {
   "cell_type": "code",
   "execution_count": 5,
   "source": [
    "string_of_card = str(ace_of_spades)\n",
    "print(string_of_card)"
   ],
   "outputs": [
    {
     "output_type": "stream",
     "name": "stdout",
     "text": [
      "<__main__.Card object at 0x7f90ec17f970>\n"
     ]
    }
   ],
   "metadata": {}
  },
  {
   "cell_type": "code",
   "execution_count": 6,
   "source": [
    "class Card:\n",
    "    def __init__(self, suit, pips):\n",
    "        self.suit = suit\n",
    "        self.pips = pips\n",
    "    def __str__(self):\n",
    "        special_names = {1:'Ace', 11:'Jack', 12:'Queen', 13:'King'}\n",
    "        card_name = special_names.get(self.pips, str(self.pips))\n",
    "        return \"%s of %s\" % (card_name, self.suit)"
   ],
   "outputs": [],
   "metadata": {}
  },
  {
   "cell_type": "code",
   "execution_count": 7,
   "source": [
    "ace_of_spades = Card('Spades', 1)\n",
    "print(ace_of_spades)"
   ],
   "outputs": [
    {
     "output_type": "stream",
     "name": "stdout",
     "text": [
      "Ace of Spades\n"
     ]
    }
   ],
   "metadata": {}
  },
  {
   "cell_type": "code",
   "execution_count": 8,
   "source": [
    "class Card:\n",
    "    special_names = {1:'Ace', 11:'Jack', 12:'Queen', 13:'King'}\n",
    "    def __init__(self, suit, pips):\n",
    "        self.suit = suit\n",
    "        self.pips = pips\n",
    "    def __repr__(self):\n",
    "        card_name = Card.special_names.get(self.pips, str(self.pips))\n",
    "        return \"%s of %s\" % (card_name, self.suit)"
   ],
   "outputs": [],
   "metadata": {}
  },
  {
   "cell_type": "code",
   "execution_count": 9,
   "source": [
    "print(six_of_hearts)\n",
    "print(str(six_of_hearts)) "
   ],
   "outputs": [
    {
     "output_type": "stream",
     "name": "stdout",
     "text": [
      "<__main__.Card object at 0x7f90ec17f5e0>\n",
      "<__main__.Card object at 0x7f90ec17f5e0>\n"
     ]
    }
   ],
   "metadata": {}
  },
  {
   "cell_type": "code",
   "execution_count": 10,
   "source": [
    "print([six_of_hearts])"
   ],
   "outputs": [
    {
     "output_type": "stream",
     "name": "stdout",
     "text": [
      "[<__main__.Card object at 0x7f90ec17f5e0>]\n"
     ]
    }
   ],
   "metadata": {}
  },
  {
   "cell_type": "code",
   "execution_count": 11,
   "source": [
    "print(repr(six_of_hearts))"
   ],
   "outputs": [
    {
     "output_type": "stream",
     "name": "stdout",
     "text": [
      "<__main__.Card object at 0x7f90ec17f5e0>\n"
     ]
    }
   ],
   "metadata": {}
  },
  {
   "cell_type": "code",
   "execution_count": 12,
   "source": [
    "import pandas as pd\n",
    "d = {'a': (1, 101), 'b': (2, 202), 'c': (3, 303)}\n",
    "df = pd.DataFrame.from_dict(d, orient=\"index\")\n",
    "df.to_csv(\"data.csv\")"
   ],
   "outputs": [],
   "metadata": {}
  },
  {
   "cell_type": "code",
   "execution_count": 13,
   "source": [
    "df = pd.read_csv(\"data.csv\")\n",
    "d = df.to_dict()\n",
    "d"
   ],
   "outputs": [
    {
     "output_type": "execute_result",
     "data": {
      "text/plain": [
       "{'Unnamed: 0': {0: 'a', 1: 'b', 2: 'c'},\n",
       " '0': {0: 1, 1: 2, 2: 3},\n",
       " '1': {0: 101, 1: 202, 2: 303}}"
      ]
     },
     "metadata": {},
     "execution_count": 13
    }
   ],
   "metadata": {}
  },
  {
   "cell_type": "code",
   "execution_count": 14,
   "source": [
    "import csv\n",
    "\n",
    "with open('output.tsv', 'wt') as out_file:\n",
    "    tsv_writer = csv.writer(out_file, delimiter='\\t')\n",
    "    tsv_writer.writerow(['name', 'field'])\n",
    "    tsv_writer.writerow(['Dijkstra', 'Computer Science'])\n",
    "    tsv_writer.writerow(['Shelah', 'Math'])\n",
    "    tsv_writer.writerow(['Aumann', 'Economic Sciences'])"
   ],
   "outputs": [],
   "metadata": {}
  },
  {
   "cell_type": "code",
   "execution_count": 15,
   "source": [
    "code = compile('a * b + c', '<string>', 'eval')\n",
    "code"
   ],
   "outputs": [
    {
     "output_type": "execute_result",
     "data": {
      "text/plain": [
       "<code object <module> at 0x7f903b1f4d40, file \"<string>\", line 1>"
      ]
     },
     "metadata": {},
     "execution_count": 15
    }
   ],
   "metadata": {}
  },
  {
   "cell_type": "code",
   "execution_count": 16,
   "source": [
    "a, b, c = 1, 2, 3\n",
    "eval(code)"
   ],
   "outputs": [
    {
     "output_type": "execute_result",
     "data": {
      "text/plain": [
       "5"
      ]
     },
     "metadata": {},
     "execution_count": 16
    }
   ],
   "metadata": {}
  },
  {
   "cell_type": "code",
   "execution_count": 17,
   "source": [
    "import numpy as np \n",
    "import seaborn as sns \n",
    "data = np.random.randn(1000)\n",
    "sns.distplot(data, kde=True, rug=True)"
   ],
   "outputs": [
    {
     "output_type": "stream",
     "name": "stderr",
     "text": [
      "/home/merlins/.local/lib/python3.9/site-packages/seaborn/distributions.py:2619: FutureWarning: `distplot` is a deprecated function and will be removed in a future version. Please adapt your code to use either `displot` (a figure-level function with similar flexibility) or `histplot` (an axes-level function for histograms).\n",
      "  warnings.warn(msg, FutureWarning)\n",
      "/home/merlins/.local/lib/python3.9/site-packages/seaborn/distributions.py:2103: FutureWarning: The `axis` variable is no longer used and will be removed. Instead, assign variables directly to `x` or `y`.\n",
      "  warnings.warn(msg, FutureWarning)\n"
     ]
    },
    {
     "output_type": "execute_result",
     "data": {
      "text/plain": [
       "<AxesSubplot:ylabel='Density'>"
      ]
     },
     "metadata": {},
     "execution_count": 17
    },
    {
     "output_type": "display_data",
     "data": {
      "image/png": "[encoded data removed]",
      "text/plain": [
       "<Figure size 432x288 with 1 Axes>"
      ]
     },
     "metadata": {
      "needs_background": "light"
     }
    }
   ],
   "metadata": {}
  },
  {
   "cell_type": "code",
   "execution_count": 18,
   "source": [
    "sns.set_style('dark')\n",
    "sns.distplot(data, kde=True, rug=True)"
   ],
   "outputs": [
    {
     "output_type": "stream",
     "name": "stderr",
     "text": [
      "/home/merlins/.local/lib/python3.9/site-packages/seaborn/distributions.py:2619: FutureWarning: `distplot` is a deprecated function and will be removed in a future version. Please adapt your code to use either `displot` (a figure-level function with similar flexibility) or `histplot` (an axes-level function for histograms).\n",
      "  warnings.warn(msg, FutureWarning)\n",
      "/home/merlins/.local/lib/python3.9/site-packages/seaborn/distributions.py:2103: FutureWarning: The `axis` variable is no longer used and will be removed. Instead, assign variables directly to `x` or `y`.\n",
      "  warnings.warn(msg, FutureWarning)\n"
     ]
    },
    {
     "output_type": "execute_result",
     "data": {
      "text/plain": [
       "<AxesSubplot:ylabel='Density'>"
      ]
     },
     "metadata": {},
     "execution_count": 18
    },
    {
     "output_type": "display_data",
     "data": {
      "image/png": "[encoded data removed]",
      "text/plain": [
       "<Figure size 432x288 with 1 Axes>"
      ]
     },
     "metadata": {}
    }
   ],
   "metadata": {}
  },
  {
   "cell_type": "code",
   "execution_count": 19,
   "source": [
    "import matplotlib.pyplot as plt\n",
    "\n",
    "sns.distplot(data, kde=True, rug=True)\n",
    "plt.xlabel('This is my x-axis')\n",
    "plt.ylabel('This is my y-axis')"
   ],
   "outputs": [
    {
     "output_type": "stream",
     "name": "stderr",
     "text": [
      "/home/merlins/.local/lib/python3.9/site-packages/seaborn/distributions.py:2619: FutureWarning: `distplot` is a deprecated function and will be removed in a future version. Please adapt your code to use either `displot` (a figure-level function with similar flexibility) or `histplot` (an axes-level function for histograms).\n",
      "  warnings.warn(msg, FutureWarning)\n",
      "/home/merlins/.local/lib/python3.9/site-packages/seaborn/distributions.py:2103: FutureWarning: The `axis` variable is no longer used and will be removed. Instead, assign variables directly to `x` or `y`.\n",
      "  warnings.warn(msg, FutureWarning)\n"
     ]
    },
    {
     "output_type": "execute_result",
     "data": {
      "text/plain": [
       "Text(0, 0.5, 'This is my y-axis')"
      ]
     },
     "metadata": {},
     "execution_count": 19
    },
    {
     "output_type": "display_data",
     "data": {
      "image/png": "[encoded data removed]",
      "text/plain": [
       "<Figure size 432x288 with 1 Axes>"
      ]
     },
     "metadata": {}
    }
   ],
   "metadata": {}
  },
  {
   "cell_type": "code",
   "execution_count": 20,
   "source": [
    "x = [0, 1, 2, 3, 4, 5, 6]\n",
    "y = [i**2 for i in x]\n",
    "plt.scatter(x, y, c='blue', marker='x', s=100)\n",
    "plt.plot(x, y, color='red', linewidth=2) \n",
    "plt.xlabel('x data')\n",
    "plt.ylabel('y data')\n",
    "plt.title('An example plot')\n",
    "plt.show()"
   ],
   "outputs": [
    {
     "output_type": "display_data",
     "data": {
      "image/png": "[encoded data removed]",
      "text/plain": [
       "<Figure size 432x288 with 1 Axes>"
      ]
     },
     "metadata": {}
    }
   ],
   "metadata": {}
  },
  {
   "cell_type": "code",
   "execution_count": 21,
   "source": [
    "def print_kwargs(**kwargs):\n",
    "    print(kwargs)\n",
    "\n",
    "print_kwargs(a=\"two\", b=3)"
   ],
   "outputs": [
    {
     "output_type": "stream",
     "name": "stdout",
     "text": [
      "{'a': 'two', 'b': 3}\n"
     ]
    }
   ],
   "metadata": {}
  },
  {
   "cell_type": "code",
   "execution_count": 22,
   "source": [
    "def example(a, **kw):\n",
    "    print(kw)\n",
    "    \n",
    "example(a=2, b=3, c=4)"
   ],
   "outputs": [
    {
     "output_type": "stream",
     "name": "stdout",
     "text": [
      "{'b': 3, 'c': 4}\n"
     ]
    }
   ],
   "metadata": {}
  },
  {
   "cell_type": "code",
   "execution_count": 23,
   "source": [
    "def print_kwargs(**kwargs):\n",
    "    for key in kwargs:\n",
    "        print(\"key = {0}, value = {1}\".format(key, kwargs[key]))\n",
    "\n",
    "\n",
    "print_kwargs(a = \"two\", b = 1)"
   ],
   "outputs": [
    {
     "output_type": "stream",
     "name": "stdout",
     "text": [
      "key = a, value = two\n",
      "key = b, value = 1\n"
     ]
    }
   ],
   "metadata": {}
  },
  {
   "cell_type": "code",
   "execution_count": 24,
   "source": [
    "def print_args(farg, *args):\n",
    "    print(\"formal arg: %s\" % farg)\n",
    "    for arg in args:\n",
    "        print(\"another positional arg: %s\" % arg)\n",
    "\n",
    "print_args(1, \"two\", 3)"
   ],
   "outputs": [
    {
     "output_type": "stream",
     "name": "stdout",
     "text": [
      "formal arg: 1\n",
      "another positional arg: two\n",
      "another positional arg: 3\n"
     ]
    }
   ],
   "metadata": {}
  },
  {
   "cell_type": "code",
   "execution_count": 25,
   "source": [
    "def foobar(foo=None, bar=None):\n",
    "    return \"{}{}\".format(foo, bar)\n",
    "    \n",
    "values = {\"foo\": \"foo\", \"bar\": \"bar\"}\n",
    "foobar(**values)"
   ],
   "outputs": [
    {
     "output_type": "execute_result",
     "data": {
      "text/plain": [
       "'foobar'"
      ]
     },
     "metadata": {},
     "execution_count": 25
    }
   ],
   "metadata": {}
  },
  {
   "cell_type": "code",
   "execution_count": 26,
   "source": [
    "import sys\n",
    "\n",
    "sys.getrefcount(1)"
   ],
   "outputs": [
    {
     "output_type": "execute_result",
     "data": {
      "text/plain": [
       "14312"
      ]
     },
     "metadata": {},
     "execution_count": 26
    }
   ],
   "metadata": {}
  },
  {
   "cell_type": "code",
   "execution_count": 27,
   "source": [
    "a = 999999999\n",
    "\n",
    "sys.getrefcount(999999999)\n"
   ],
   "outputs": [
    {
     "output_type": "execute_result",
     "data": {
      "text/plain": [
       "3"
      ]
     },
     "metadata": {},
     "execution_count": 27
    }
   ],
   "metadata": {}
  },
  {
   "cell_type": "code",
   "execution_count": 28,
   "source": [
    "import pickle\n",
    "\n",
    "data = {\n",
    "'a': [1, 2.0, 3, 4+6j],\n",
    "'b': (\"character string\", b\"byte string\"),\n",
    "'c': {None, True, False}\n",
    "}\n",
    "with open('data.pickle', 'wb') as f:\n",
    "    pickle.dump(data, f, pickle.HIGHEST_PROTOCOL)\n"
   ],
   "outputs": [],
   "metadata": {}
  },
  {
   "cell_type": "code",
   "execution_count": 29,
   "source": [
    "with open('data.pickle', 'rb') as f:\n",
    "    data_1 = pickle.load(f)"
   ],
   "outputs": [],
   "metadata": {}
  },
  {
   "cell_type": "code",
   "execution_count": 30,
   "source": [
    "data_1"
   ],
   "outputs": [
    {
     "output_type": "execute_result",
     "data": {
      "text/plain": [
       "{'a': [1, 2.0, 3, (4+6j)],\n",
       " 'b': ('character string', b'byte string'),\n",
       " 'c': {False, None, True}}"
      ]
     },
     "metadata": {},
     "execution_count": 30
    }
   ],
   "metadata": {}
  },
  {
   "cell_type": "code",
   "execution_count": 31,
   "source": [
    "from struct import pack\n",
    "\n",
    "print(pack('I3c', 123, b'a', b'b', b'c'))"
   ],
   "outputs": [
    {
     "output_type": "stream",
     "name": "stdout",
     "text": [
      "b'{\\x00\\x00\\x00abc'\n"
     ]
    }
   ],
   "metadata": {}
  },
  {
   "cell_type": "code",
   "execution_count": 32,
   "source": [
    "x = True\n",
    "y = False\n",
    "x, y = y, x\n",
    "x , y"
   ],
   "outputs": [
    {
     "output_type": "execute_result",
     "data": {
      "text/plain": [
       "(False, True)"
      ]
     },
     "metadata": {},
     "execution_count": 32
    }
   ],
   "metadata": {}
  },
  {
   "cell_type": "code",
   "execution_count": 33,
   "source": [
    "import json\n",
    "families = (['John'], ['Mark', 'David', {'name': 'Avraham'}])\n",
    "# Dumping it into string\n",
    "json_families = json.dumps(families)\n",
    "# [[\"John\"], [\"Mark\", \"David\", {\"name\": \"Avraham\"}]]\n",
    "# Dumping it to file\n",
    "with open('families.json', 'w') as json_file:\n",
    "    json.dump(families, json_file)\n",
    "# Loading it from string\n",
    "json_families = json.loads(json_families)\n",
    "# Loading it from file\n",
    "with open('families.json', 'r') as json_file:\n",
    "    json_families = json.load(json_file)"
   ],
   "outputs": [],
   "metadata": {}
  },
  {
   "cell_type": "code",
   "execution_count": 34,
   "source": [
    "json_families"
   ],
   "outputs": [
    {
     "output_type": "execute_result",
     "data": {
      "text/plain": [
       "[['John'], ['Mark', 'David', {'name': 'Avraham'}]]"
      ]
     },
     "metadata": {},
     "execution_count": 34
    }
   ],
   "metadata": {}
  }
 ],
 "metadata": {
  "orig_nbformat": 4,
  "language_info": {
   "name": "python",
   "version": "3.9.6",
   "mimetype": "text/x-python",
   "codemirror_mode": {
    "name": "ipython",
    "version": 3
   },
   "pygments_lexer": "ipython3",
   "nbconvert_exporter": "python",
   "file_extension": ".py"
  },
  "kernelspec": {
   "name": "python3",
   "display_name": "Python 3.9.6 64-bit"
  },
  "interpreter": {
   "hash": "e7370f93d1d0cde622a1f8e1c04877d8463912d04d973331ad4851f04de6915a"
  }
 },
 "nbformat": 4,
 "nbformat_minor": 2
}